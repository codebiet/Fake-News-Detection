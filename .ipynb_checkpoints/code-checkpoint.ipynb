{
 "cells": [
  {
   "cell_type": "code",
   "execution_count": 58,
   "metadata": {},
   "outputs": [],
   "source": [
    "import pandas as pd\n",
    "import numpy as np\n",
    "import nltk\n",
    "from nltk.tokenize import word_tokenize\n",
    "from nltk.corpus import stopwords\n",
    "from nltk.tokenize import RegexpTokenizer\n",
    "import re,scipy\n",
    "from nltk.stem.snowball import PorterStemmer  \n",
    "from scipy.sparse import hstack\n",
    "from scipy.sparse import coo_matrix, bmat\n",
    "from tqdm import tqdm\n",
    "from scipy import sparse\n",
    "from sklearn.feature_extraction.text import TfidfVectorizer\n",
    "from sklearn.metrics.pairwise import cosine_similarity\n",
    "from sklearn.feature_selection import chi2\n",
    "from sklearn.feature_selection import SelectKBest,VarianceThreshold\n",
    "import tensorflow\n",
    "from keras.models import *\n",
    "from keras.layers import *\n",
    "from keras.callbacks import *\n",
    "from keras.utils import to_categorical \n",
    "import matplotlib.pyplot as plt"
   ]
  },
  {
   "cell_type": "code",
   "execution_count": 2,
   "metadata": {},
   "outputs": [
    {
     "data": {
      "text/html": [
       "<div>\n",
       "<style scoped>\n",
       "    .dataframe tbody tr th:only-of-type {\n",
       "        vertical-align: middle;\n",
       "    }\n",
       "\n",
       "    .dataframe tbody tr th {\n",
       "        vertical-align: top;\n",
       "    }\n",
       "\n",
       "    .dataframe thead th {\n",
       "        text-align: right;\n",
       "    }\n",
       "</style>\n",
       "<table border=\"1\" class=\"dataframe\">\n",
       "  <thead>\n",
       "    <tr style=\"text-align: right;\">\n",
       "      <th></th>\n",
       "      <th>Headline</th>\n",
       "      <th>Body ID</th>\n",
       "      <th>Stance</th>\n",
       "    </tr>\n",
       "  </thead>\n",
       "  <tbody>\n",
       "    <tr>\n",
       "      <th>0</th>\n",
       "      <td>Police find mass graves with at least '15 bodi...</td>\n",
       "      <td>712</td>\n",
       "      <td>unrelated</td>\n",
       "    </tr>\n",
       "    <tr>\n",
       "      <th>1</th>\n",
       "      <td>Hundreds of Palestinians flee floods in Gaza a...</td>\n",
       "      <td>158</td>\n",
       "      <td>agree</td>\n",
       "    </tr>\n",
       "    <tr>\n",
       "      <th>2</th>\n",
       "      <td>Christian Bale passes on role of Steve Jobs, a...</td>\n",
       "      <td>137</td>\n",
       "      <td>unrelated</td>\n",
       "    </tr>\n",
       "    <tr>\n",
       "      <th>3</th>\n",
       "      <td>HBO and Apple in Talks for $15/Month Apple TV ...</td>\n",
       "      <td>1034</td>\n",
       "      <td>unrelated</td>\n",
       "    </tr>\n",
       "    <tr>\n",
       "      <th>4</th>\n",
       "      <td>Spider burrowed through tourist's stomach and ...</td>\n",
       "      <td>1923</td>\n",
       "      <td>disagree</td>\n",
       "    </tr>\n",
       "    <tr>\n",
       "      <th>5</th>\n",
       "      <td>'Nasa Confirms Earth Will Experience 6 Days of...</td>\n",
       "      <td>154</td>\n",
       "      <td>agree</td>\n",
       "    </tr>\n",
       "    <tr>\n",
       "      <th>6</th>\n",
       "      <td>Accused Boston Marathon Bomber Severely Injure...</td>\n",
       "      <td>962</td>\n",
       "      <td>unrelated</td>\n",
       "    </tr>\n",
       "    <tr>\n",
       "      <th>7</th>\n",
       "      <td>Identity of ISIS terrorist known as 'Jihadi Jo...</td>\n",
       "      <td>2033</td>\n",
       "      <td>unrelated</td>\n",
       "    </tr>\n",
       "    <tr>\n",
       "      <th>8</th>\n",
       "      <td>Banksy 'Arrested &amp; Real Identity Revealed' Is ...</td>\n",
       "      <td>1739</td>\n",
       "      <td>agree</td>\n",
       "    </tr>\n",
       "    <tr>\n",
       "      <th>9</th>\n",
       "      <td>British Aid Worker Confirmed Murdered By ISIS</td>\n",
       "      <td>882</td>\n",
       "      <td>unrelated</td>\n",
       "    </tr>\n",
       "  </tbody>\n",
       "</table>\n",
       "</div>"
      ],
      "text/plain": [
       "                                            Headline  Body ID     Stance\n",
       "0  Police find mass graves with at least '15 bodi...      712  unrelated\n",
       "1  Hundreds of Palestinians flee floods in Gaza a...      158      agree\n",
       "2  Christian Bale passes on role of Steve Jobs, a...      137  unrelated\n",
       "3  HBO and Apple in Talks for $15/Month Apple TV ...     1034  unrelated\n",
       "4  Spider burrowed through tourist's stomach and ...     1923   disagree\n",
       "5  'Nasa Confirms Earth Will Experience 6 Days of...      154      agree\n",
       "6  Accused Boston Marathon Bomber Severely Injure...      962  unrelated\n",
       "7  Identity of ISIS terrorist known as 'Jihadi Jo...     2033  unrelated\n",
       "8  Banksy 'Arrested & Real Identity Revealed' Is ...     1739      agree\n",
       "9      British Aid Worker Confirmed Murdered By ISIS      882  unrelated"
      ]
     },
     "execution_count": 2,
     "metadata": {},
     "output_type": "execute_result"
    }
   ],
   "source": [
    "data=pd.read_csv(\"data/train_stances.csv\")\n",
    "data.head(10)"
   ]
  },
  {
   "cell_type": "code",
   "execution_count": 3,
   "metadata": {},
   "outputs": [
    {
     "data": {
      "text/html": [
       "<div>\n",
       "<style scoped>\n",
       "    .dataframe tbody tr th:only-of-type {\n",
       "        vertical-align: middle;\n",
       "    }\n",
       "\n",
       "    .dataframe tbody tr th {\n",
       "        vertical-align: top;\n",
       "    }\n",
       "\n",
       "    .dataframe thead th {\n",
       "        text-align: right;\n",
       "    }\n",
       "</style>\n",
       "<table border=\"1\" class=\"dataframe\">\n",
       "  <thead>\n",
       "    <tr style=\"text-align: right;\">\n",
       "      <th></th>\n",
       "      <th>Body ID</th>\n",
       "      <th>articleBody</th>\n",
       "    </tr>\n",
       "  </thead>\n",
       "  <tbody>\n",
       "    <tr>\n",
       "      <th>0</th>\n",
       "      <td>0</td>\n",
       "      <td>A small meteorite crashed into a wooded area i...</td>\n",
       "    </tr>\n",
       "    <tr>\n",
       "      <th>1</th>\n",
       "      <td>4</td>\n",
       "      <td>Last week we hinted at what was to come as Ebo...</td>\n",
       "    </tr>\n",
       "    <tr>\n",
       "      <th>2</th>\n",
       "      <td>5</td>\n",
       "      <td>(NEWSER) – Wonder how long a Quarter Pounder w...</td>\n",
       "    </tr>\n",
       "    <tr>\n",
       "      <th>3</th>\n",
       "      <td>6</td>\n",
       "      <td>Posting photos of a gun-toting child online, I...</td>\n",
       "    </tr>\n",
       "    <tr>\n",
       "      <th>4</th>\n",
       "      <td>7</td>\n",
       "      <td>At least 25 suspected Boko Haram insurgents we...</td>\n",
       "    </tr>\n",
       "    <tr>\n",
       "      <th>5</th>\n",
       "      <td>8</td>\n",
       "      <td>There is so much fake stuff on the Internet in...</td>\n",
       "    </tr>\n",
       "    <tr>\n",
       "      <th>6</th>\n",
       "      <td>9</td>\n",
       "      <td>(CNN) -- A meteorite crashed down in Managua, ...</td>\n",
       "    </tr>\n",
       "    <tr>\n",
       "      <th>7</th>\n",
       "      <td>10</td>\n",
       "      <td>Move over, Netflix and Hulu.\\nWord has it that...</td>\n",
       "    </tr>\n",
       "    <tr>\n",
       "      <th>8</th>\n",
       "      <td>11</td>\n",
       "      <td>We’ve all seen the traditional depictions of G...</td>\n",
       "    </tr>\n",
       "    <tr>\n",
       "      <th>9</th>\n",
       "      <td>13</td>\n",
       "      <td>A SOLDIER has been shot at Canada’s National W...</td>\n",
       "    </tr>\n",
       "  </tbody>\n",
       "</table>\n",
       "</div>"
      ],
      "text/plain": [
       "   Body ID                                        articleBody\n",
       "0        0  A small meteorite crashed into a wooded area i...\n",
       "1        4  Last week we hinted at what was to come as Ebo...\n",
       "2        5  (NEWSER) – Wonder how long a Quarter Pounder w...\n",
       "3        6  Posting photos of a gun-toting child online, I...\n",
       "4        7  At least 25 suspected Boko Haram insurgents we...\n",
       "5        8  There is so much fake stuff on the Internet in...\n",
       "6        9  (CNN) -- A meteorite crashed down in Managua, ...\n",
       "7       10  Move over, Netflix and Hulu.\\nWord has it that...\n",
       "8       11  We’ve all seen the traditional depictions of G...\n",
       "9       13  A SOLDIER has been shot at Canada’s National W..."
      ]
     },
     "execution_count": 3,
     "metadata": {},
     "output_type": "execute_result"
    }
   ],
   "source": [
    "data_body=pd.read_csv(\"data/train_bodies.csv\")\n",
    "data_body.head(10)"
   ]
  },
  {
   "cell_type": "code",
   "execution_count": 4,
   "metadata": {},
   "outputs": [],
   "source": [
    "dic={}\n",
    "for idx,id in enumerate(data_body['Body ID']):\n",
    "    if id not in dic:\n",
    "        dic[id]=data_body['articleBody'][idx]"
   ]
  },
  {
   "cell_type": "code",
   "execution_count": 5,
   "metadata": {},
   "outputs": [
    {
     "data": {
      "text/plain": [
       "'Danny Boyle is directing the untitled film\\n\\nSeth Rogen is being eyed to play Apple co-founder Steve Wozniak in Sony’s Steve Jobs biopic.\\n\\nDanny Boyle is directing the untitled film, based on Walter Isaacson\\'s book and adapted by Aaron Sorkin, which is one of the most anticipated biopics in recent years.\\n\\nNegotiations have not yet begun, and it’s not even clear if Rogen has an official offer, but the producers — Scott Rudin, Guymon Casady and Mark Gordon — have set their sights on the talent and are in talks.\\n\\nOf course, this may all be for naught as Christian Bale, the actor who is to play Jobs, is still in the midst of closing his deal. Sources say that dealmaking process is in a sensitive stage.\\n\\nInsiders say Boyle will is flying to Los Angeles to meet with actress to play one of the female leads, an assistant to Jobs. Insiders say that Jessica Chastain is one of the actresses on the meeting list.\\n\\nWozniak, known as \"Woz,\" co-founded Apple with Jobs and Ronald Wayne. He first met Jobs when they worked at Atari and later was responsible for creating the early Apple computers.'"
      ]
     },
     "execution_count": 5,
     "metadata": {},
     "output_type": "execute_result"
    }
   ],
   "source": [
    "dic[712]"
   ]
  },
  {
   "cell_type": "code",
   "execution_count": 6,
   "metadata": {},
   "outputs": [],
   "source": [
    "# Get the headlines of data points\n",
    "def get_headlines(data):\n",
    "    headlines = []\n",
    "    for i in range(len(data)):\n",
    "        headlines.append(data['Headline'][i])\n",
    "    return headlines"
   ]
  },
  {
   "cell_type": "code",
   "execution_count": 7,
   "metadata": {},
   "outputs": [],
   "source": [
    "# Get the articles of data points\n",
    "def get_articles(data):\n",
    "    articles = []\n",
    "    for i in range(len(data)):\n",
    "        articles.append(dic[data['Body ID'][i]])\n",
    "    return articles"
   ]
  },
  {
   "cell_type": "code",
   "execution_count": 8,
   "metadata": {},
   "outputs": [],
   "source": [
    "# Get the stances of data points\n",
    "def get_stances(data):\n",
    "    stances = []\n",
    "    for i in range(len(data)):\n",
    "        stances.append(data['Stance'][i])\n",
    "    return stances"
   ]
  },
  {
   "cell_type": "code",
   "execution_count": 9,
   "metadata": {},
   "outputs": [],
   "source": [
    "headlines=get_headlines(data)"
   ]
  },
  {
   "cell_type": "code",
   "execution_count": 10,
   "metadata": {},
   "outputs": [],
   "source": [
    "bodies=get_articles(data)"
   ]
  },
  {
   "cell_type": "code",
   "execution_count": 11,
   "metadata": {},
   "outputs": [],
   "source": [
    "stances=get_stances(data)"
   ]
  },
  {
   "cell_type": "code",
   "execution_count": 12,
   "metadata": {},
   "outputs": [
    {
     "name": "stdout",
     "output_type": "stream",
     "text": [
      "49972 49972 49972\n"
     ]
    }
   ],
   "source": [
    "print(len(headlines),len(bodies),len(stances))"
   ]
  },
  {
   "cell_type": "code",
   "execution_count": 13,
   "metadata": {},
   "outputs": [
    {
     "name": "stdout",
     "output_type": "stream",
     "text": [
      "39977 39977 39977\n",
      "9995 9995 9995\n"
     ]
    }
   ],
   "source": [
    "size=len(headlines)\n",
    "split=int(0.8*size)\n",
    "\n",
    "train_headlines=headlines[:split]\n",
    "train_bodies=bodies[:split]\n",
    "train_stances=stances[:split]\n",
    "\n",
    "test_headlines=headlines[split:]\n",
    "test_bodies=bodies[split:]\n",
    "test_stances=stances[split:]\n",
    "\n",
    "print(len(train_headlines),len(train_bodies),len(train_stances))\n",
    "print(len(test_headlines),len(test_bodies),len(test_stances))"
   ]
  },
  {
   "cell_type": "code",
   "execution_count": 14,
   "metadata": {},
   "outputs": [],
   "source": [
    "lemmatizer = nltk.WordNetLemmatizer()\n",
    "stopword=set(stopwords.words('english'))             ## some defined stopwords\n",
    "ps=PorterStemmer()\n",
    "def preprocess(string):\n",
    "    step1 = \" \".join(re.findall(r'\\w+', string, flags=re.UNICODE)).lower()        ## to lowercase, non-alphanumeric removal\n",
    "    step2=[word for word in nltk.word_tokenize(step1) if word not in stopword]    ## remove stopwords\n",
    "    step3=[ps.stem(word) for word in step2]                                       ## stemming\n",
    "    step4 = [lemmatizer.lemmatize(t).lower() for t in step3]                      ## lemmatizising\n",
    "    return step4 "
   ]
  },
  {
   "cell_type": "code",
   "execution_count": 15,
   "metadata": {},
   "outputs": [],
   "source": [
    "# Headline vectorisation\n",
    "headline_vectorizer = TfidfVectorizer(ngram_range=(1, 2),min_df=2,max_df=0.5,lowercase=True, stop_words='english',max_features=5000) #, max_features=1024)\n",
    "headlines_tfidf = headline_vectorizer.fit_transform(train_headlines)\n",
    "df=pd.DataFrame(headlines_tfidf.todense(),columns=headline_vectorizer.get_feature_names())"
   ]
  },
  {
   "cell_type": "code",
   "execution_count": 16,
   "metadata": {},
   "outputs": [
    {
     "data": {
      "text/html": [
       "<div>\n",
       "<style scoped>\n",
       "    .dataframe tbody tr th:only-of-type {\n",
       "        vertical-align: middle;\n",
       "    }\n",
       "\n",
       "    .dataframe tbody tr th {\n",
       "        vertical-align: top;\n",
       "    }\n",
       "\n",
       "    .dataframe thead th {\n",
       "        text-align: right;\n",
       "    }\n",
       "</style>\n",
       "<table border=\"1\" class=\"dataframe\">\n",
       "  <thead>\n",
       "    <tr style=\"text-align: right;\">\n",
       "      <th></th>\n",
       "      <th>000</th>\n",
       "      <th>000 apps</th>\n",
       "      <th>000 dinner</th>\n",
       "      <th>000 gold</th>\n",
       "      <th>000 steel</th>\n",
       "      <th>000 tip</th>\n",
       "      <th>10</th>\n",
       "      <th>10 000</th>\n",
       "      <th>10 isis</th>\n",
       "      <th>10 islamic</th>\n",
       "      <th>...</th>\n",
       "      <th>ypg</th>\n",
       "      <th>ypg confirms</th>\n",
       "      <th>zack</th>\n",
       "      <th>zack snyder</th>\n",
       "      <th>zehaf</th>\n",
       "      <th>zehaf bibeau</th>\n",
       "      <th>zeppelin</th>\n",
       "      <th>zeppelin reunion</th>\n",
       "      <th>zero</th>\n",
       "      <th>zero thomas</th>\n",
       "    </tr>\n",
       "  </thead>\n",
       "  <tbody>\n",
       "    <tr>\n",
       "      <th>0</th>\n",
       "      <td>0.0</td>\n",
       "      <td>0.0</td>\n",
       "      <td>0.0</td>\n",
       "      <td>0.0</td>\n",
       "      <td>0.0</td>\n",
       "      <td>0.0</td>\n",
       "      <td>0.0</td>\n",
       "      <td>0.0</td>\n",
       "      <td>0.0</td>\n",
       "      <td>0.0</td>\n",
       "      <td>...</td>\n",
       "      <td>0.0</td>\n",
       "      <td>0.0</td>\n",
       "      <td>0.0</td>\n",
       "      <td>0.0</td>\n",
       "      <td>0.0</td>\n",
       "      <td>0.0</td>\n",
       "      <td>0.0</td>\n",
       "      <td>0.0</td>\n",
       "      <td>0.0</td>\n",
       "      <td>0.0</td>\n",
       "    </tr>\n",
       "    <tr>\n",
       "      <th>1</th>\n",
       "      <td>0.0</td>\n",
       "      <td>0.0</td>\n",
       "      <td>0.0</td>\n",
       "      <td>0.0</td>\n",
       "      <td>0.0</td>\n",
       "      <td>0.0</td>\n",
       "      <td>0.0</td>\n",
       "      <td>0.0</td>\n",
       "      <td>0.0</td>\n",
       "      <td>0.0</td>\n",
       "      <td>...</td>\n",
       "      <td>0.0</td>\n",
       "      <td>0.0</td>\n",
       "      <td>0.0</td>\n",
       "      <td>0.0</td>\n",
       "      <td>0.0</td>\n",
       "      <td>0.0</td>\n",
       "      <td>0.0</td>\n",
       "      <td>0.0</td>\n",
       "      <td>0.0</td>\n",
       "      <td>0.0</td>\n",
       "    </tr>\n",
       "    <tr>\n",
       "      <th>2</th>\n",
       "      <td>0.0</td>\n",
       "      <td>0.0</td>\n",
       "      <td>0.0</td>\n",
       "      <td>0.0</td>\n",
       "      <td>0.0</td>\n",
       "      <td>0.0</td>\n",
       "      <td>0.0</td>\n",
       "      <td>0.0</td>\n",
       "      <td>0.0</td>\n",
       "      <td>0.0</td>\n",
       "      <td>...</td>\n",
       "      <td>0.0</td>\n",
       "      <td>0.0</td>\n",
       "      <td>0.0</td>\n",
       "      <td>0.0</td>\n",
       "      <td>0.0</td>\n",
       "      <td>0.0</td>\n",
       "      <td>0.0</td>\n",
       "      <td>0.0</td>\n",
       "      <td>0.0</td>\n",
       "      <td>0.0</td>\n",
       "    </tr>\n",
       "    <tr>\n",
       "      <th>3</th>\n",
       "      <td>0.0</td>\n",
       "      <td>0.0</td>\n",
       "      <td>0.0</td>\n",
       "      <td>0.0</td>\n",
       "      <td>0.0</td>\n",
       "      <td>0.0</td>\n",
       "      <td>0.0</td>\n",
       "      <td>0.0</td>\n",
       "      <td>0.0</td>\n",
       "      <td>0.0</td>\n",
       "      <td>...</td>\n",
       "      <td>0.0</td>\n",
       "      <td>0.0</td>\n",
       "      <td>0.0</td>\n",
       "      <td>0.0</td>\n",
       "      <td>0.0</td>\n",
       "      <td>0.0</td>\n",
       "      <td>0.0</td>\n",
       "      <td>0.0</td>\n",
       "      <td>0.0</td>\n",
       "      <td>0.0</td>\n",
       "    </tr>\n",
       "    <tr>\n",
       "      <th>4</th>\n",
       "      <td>0.0</td>\n",
       "      <td>0.0</td>\n",
       "      <td>0.0</td>\n",
       "      <td>0.0</td>\n",
       "      <td>0.0</td>\n",
       "      <td>0.0</td>\n",
       "      <td>0.0</td>\n",
       "      <td>0.0</td>\n",
       "      <td>0.0</td>\n",
       "      <td>0.0</td>\n",
       "      <td>...</td>\n",
       "      <td>0.0</td>\n",
       "      <td>0.0</td>\n",
       "      <td>0.0</td>\n",
       "      <td>0.0</td>\n",
       "      <td>0.0</td>\n",
       "      <td>0.0</td>\n",
       "      <td>0.0</td>\n",
       "      <td>0.0</td>\n",
       "      <td>0.0</td>\n",
       "      <td>0.0</td>\n",
       "    </tr>\n",
       "    <tr>\n",
       "      <th>...</th>\n",
       "      <td>...</td>\n",
       "      <td>...</td>\n",
       "      <td>...</td>\n",
       "      <td>...</td>\n",
       "      <td>...</td>\n",
       "      <td>...</td>\n",
       "      <td>...</td>\n",
       "      <td>...</td>\n",
       "      <td>...</td>\n",
       "      <td>...</td>\n",
       "      <td>...</td>\n",
       "      <td>...</td>\n",
       "      <td>...</td>\n",
       "      <td>...</td>\n",
       "      <td>...</td>\n",
       "      <td>...</td>\n",
       "      <td>...</td>\n",
       "      <td>...</td>\n",
       "      <td>...</td>\n",
       "      <td>...</td>\n",
       "      <td>...</td>\n",
       "    </tr>\n",
       "    <tr>\n",
       "      <th>39972</th>\n",
       "      <td>0.0</td>\n",
       "      <td>0.0</td>\n",
       "      <td>0.0</td>\n",
       "      <td>0.0</td>\n",
       "      <td>0.0</td>\n",
       "      <td>0.0</td>\n",
       "      <td>0.0</td>\n",
       "      <td>0.0</td>\n",
       "      <td>0.0</td>\n",
       "      <td>0.0</td>\n",
       "      <td>...</td>\n",
       "      <td>0.0</td>\n",
       "      <td>0.0</td>\n",
       "      <td>0.0</td>\n",
       "      <td>0.0</td>\n",
       "      <td>0.0</td>\n",
       "      <td>0.0</td>\n",
       "      <td>0.0</td>\n",
       "      <td>0.0</td>\n",
       "      <td>0.0</td>\n",
       "      <td>0.0</td>\n",
       "    </tr>\n",
       "    <tr>\n",
       "      <th>39973</th>\n",
       "      <td>0.0</td>\n",
       "      <td>0.0</td>\n",
       "      <td>0.0</td>\n",
       "      <td>0.0</td>\n",
       "      <td>0.0</td>\n",
       "      <td>0.0</td>\n",
       "      <td>0.0</td>\n",
       "      <td>0.0</td>\n",
       "      <td>0.0</td>\n",
       "      <td>0.0</td>\n",
       "      <td>...</td>\n",
       "      <td>0.0</td>\n",
       "      <td>0.0</td>\n",
       "      <td>0.0</td>\n",
       "      <td>0.0</td>\n",
       "      <td>0.0</td>\n",
       "      <td>0.0</td>\n",
       "      <td>0.0</td>\n",
       "      <td>0.0</td>\n",
       "      <td>0.0</td>\n",
       "      <td>0.0</td>\n",
       "    </tr>\n",
       "    <tr>\n",
       "      <th>39974</th>\n",
       "      <td>0.0</td>\n",
       "      <td>0.0</td>\n",
       "      <td>0.0</td>\n",
       "      <td>0.0</td>\n",
       "      <td>0.0</td>\n",
       "      <td>0.0</td>\n",
       "      <td>0.0</td>\n",
       "      <td>0.0</td>\n",
       "      <td>0.0</td>\n",
       "      <td>0.0</td>\n",
       "      <td>...</td>\n",
       "      <td>0.0</td>\n",
       "      <td>0.0</td>\n",
       "      <td>0.0</td>\n",
       "      <td>0.0</td>\n",
       "      <td>0.0</td>\n",
       "      <td>0.0</td>\n",
       "      <td>0.0</td>\n",
       "      <td>0.0</td>\n",
       "      <td>0.0</td>\n",
       "      <td>0.0</td>\n",
       "    </tr>\n",
       "    <tr>\n",
       "      <th>39975</th>\n",
       "      <td>0.0</td>\n",
       "      <td>0.0</td>\n",
       "      <td>0.0</td>\n",
       "      <td>0.0</td>\n",
       "      <td>0.0</td>\n",
       "      <td>0.0</td>\n",
       "      <td>0.0</td>\n",
       "      <td>0.0</td>\n",
       "      <td>0.0</td>\n",
       "      <td>0.0</td>\n",
       "      <td>...</td>\n",
       "      <td>0.0</td>\n",
       "      <td>0.0</td>\n",
       "      <td>0.0</td>\n",
       "      <td>0.0</td>\n",
       "      <td>0.0</td>\n",
       "      <td>0.0</td>\n",
       "      <td>0.0</td>\n",
       "      <td>0.0</td>\n",
       "      <td>0.0</td>\n",
       "      <td>0.0</td>\n",
       "    </tr>\n",
       "    <tr>\n",
       "      <th>39976</th>\n",
       "      <td>0.0</td>\n",
       "      <td>0.0</td>\n",
       "      <td>0.0</td>\n",
       "      <td>0.0</td>\n",
       "      <td>0.0</td>\n",
       "      <td>0.0</td>\n",
       "      <td>0.0</td>\n",
       "      <td>0.0</td>\n",
       "      <td>0.0</td>\n",
       "      <td>0.0</td>\n",
       "      <td>...</td>\n",
       "      <td>0.0</td>\n",
       "      <td>0.0</td>\n",
       "      <td>0.0</td>\n",
       "      <td>0.0</td>\n",
       "      <td>0.0</td>\n",
       "      <td>0.0</td>\n",
       "      <td>0.0</td>\n",
       "      <td>0.0</td>\n",
       "      <td>0.0</td>\n",
       "      <td>0.0</td>\n",
       "    </tr>\n",
       "  </tbody>\n",
       "</table>\n",
       "<p>39977 rows × 5000 columns</p>\n",
       "</div>"
      ],
      "text/plain": [
       "       000  000 apps  000 dinner  000 gold  000 steel  000 tip   10  10 000  \\\n",
       "0      0.0       0.0         0.0       0.0        0.0      0.0  0.0     0.0   \n",
       "1      0.0       0.0         0.0       0.0        0.0      0.0  0.0     0.0   \n",
       "2      0.0       0.0         0.0       0.0        0.0      0.0  0.0     0.0   \n",
       "3      0.0       0.0         0.0       0.0        0.0      0.0  0.0     0.0   \n",
       "4      0.0       0.0         0.0       0.0        0.0      0.0  0.0     0.0   \n",
       "...    ...       ...         ...       ...        ...      ...  ...     ...   \n",
       "39972  0.0       0.0         0.0       0.0        0.0      0.0  0.0     0.0   \n",
       "39973  0.0       0.0         0.0       0.0        0.0      0.0  0.0     0.0   \n",
       "39974  0.0       0.0         0.0       0.0        0.0      0.0  0.0     0.0   \n",
       "39975  0.0       0.0         0.0       0.0        0.0      0.0  0.0     0.0   \n",
       "39976  0.0       0.0         0.0       0.0        0.0      0.0  0.0     0.0   \n",
       "\n",
       "       10 isis  10 islamic  ...  ypg  ypg confirms  zack  zack snyder  zehaf  \\\n",
       "0          0.0         0.0  ...  0.0           0.0   0.0          0.0    0.0   \n",
       "1          0.0         0.0  ...  0.0           0.0   0.0          0.0    0.0   \n",
       "2          0.0         0.0  ...  0.0           0.0   0.0          0.0    0.0   \n",
       "3          0.0         0.0  ...  0.0           0.0   0.0          0.0    0.0   \n",
       "4          0.0         0.0  ...  0.0           0.0   0.0          0.0    0.0   \n",
       "...        ...         ...  ...  ...           ...   ...          ...    ...   \n",
       "39972      0.0         0.0  ...  0.0           0.0   0.0          0.0    0.0   \n",
       "39973      0.0         0.0  ...  0.0           0.0   0.0          0.0    0.0   \n",
       "39974      0.0         0.0  ...  0.0           0.0   0.0          0.0    0.0   \n",
       "39975      0.0         0.0  ...  0.0           0.0   0.0          0.0    0.0   \n",
       "39976      0.0         0.0  ...  0.0           0.0   0.0          0.0    0.0   \n",
       "\n",
       "       zehaf bibeau  zeppelin  zeppelin reunion  zero  zero thomas  \n",
       "0               0.0       0.0               0.0   0.0          0.0  \n",
       "1               0.0       0.0               0.0   0.0          0.0  \n",
       "2               0.0       0.0               0.0   0.0          0.0  \n",
       "3               0.0       0.0               0.0   0.0          0.0  \n",
       "4               0.0       0.0               0.0   0.0          0.0  \n",
       "...             ...       ...               ...   ...          ...  \n",
       "39972           0.0       0.0               0.0   0.0          0.0  \n",
       "39973           0.0       0.0               0.0   0.0          0.0  \n",
       "39974           0.0       0.0               0.0   0.0          0.0  \n",
       "39975           0.0       0.0               0.0   0.0          0.0  \n",
       "39976           0.0       0.0               0.0   0.0          0.0  \n",
       "\n",
       "[39977 rows x 5000 columns]"
      ]
     },
     "execution_count": 16,
     "metadata": {},
     "output_type": "execute_result"
    }
   ],
   "source": [
    "df"
   ]
  },
  {
   "cell_type": "code",
   "execution_count": 17,
   "metadata": {},
   "outputs": [],
   "source": [
    "# Function for extracting tf-idf vectors (for both the bodies and the headlines).\n",
    "def extract_tfidf(training_headlines, training_bodies,test_headlines=\"\",test_bodies=\"\"):\n",
    "    \n",
    "   # constant_filter = VarianceThreshold(threshold = 0.0002)\n",
    "    \n",
    "    # Body vectorisation\n",
    "    body_vectorizer = TfidfVectorizer(ngram_range=(1, 2), min_df=2, max_df=0.5 , lowercase=True, stop_words='english',max_features=5000) #, max_features=1024)\n",
    "    bodies_tfidf = body_vectorizer.fit_transform(training_bodies)\n",
    "   # new_bodies_tfidf=constant_filter.fit_transform(bodies_tfidf)\n",
    "   # new_bodies_tfidf_cols=np.array(constant_filter.get_support(indices=True))\n",
    "    \n",
    "    # Headline vectorisation\n",
    "    headline_vectorizer = TfidfVectorizer(ngram_range=(1, 2), min_df=2, max_df=0.5,lowercase=True, stop_words='english',max_features=5000) #, max_features=1024)\n",
    "    headlines_tfidf = headline_vectorizer.fit_transform(training_headlines)\n",
    "    #new_headline_tfidf=constant_filter.fit_transform(headlines_tfidf)\n",
    "    print(\"Training Data \" , bodies_tfidf.shape,headlines_tfidf.shape)\n",
    "\n",
    "    # Tranform test bodies and headlines using the trained vectorizer (trained on training data)\n",
    "    bodies_tfidf_test = body_vectorizer.transform(test_bodies)\n",
    "    headlines_tfidf_test = headline_vectorizer.transform(test_headlines)\n",
    "    #new_bodies_tfidf_test=constant_filter.transform(bodies_tfidf_test)\n",
    "   # new_headline_tfidf_test=constant_filter.transform(headlines_tfidf_test)\n",
    "    print(\"Test Data \", bodies_tfidf_test.shape, headlines_tfidf_test.shape)\n",
    "    \n",
    "    feature_names = np.array(body_vectorizer.get_feature_names())\n",
    "    sorted_by_idf = np.argsort(body_vectorizer.idf_) \n",
    "    print('Features with lowest and highest idf in the body vector\\n')\n",
    "    print(\"Features with lowest idf:\\n{}\".format(feature_names[sorted_by_idf[:10]]))\n",
    "    print(\"\\nFeatures with highest idf:\\n{}\\n\".format(feature_names[sorted_by_idf[-10:]]))\n",
    "\n",
    "\n",
    "    return bodies_tfidf, headlines_tfidf , bodies_tfidf_test , headlines_tfidf_test"
   ]
  },
  {
   "cell_type": "code",
   "execution_count": 18,
   "metadata": {},
   "outputs": [
    {
     "name": "stdout",
     "output_type": "stream",
     "text": [
      "Training Data  (39977, 5000) (39977, 5000)\n",
      "Test Data  (9995, 5000) (9995, 5000)\n",
      "Features with lowest and highest idf in the body vector\n",
      "\n",
      "Features with lowest idf:\n",
      "['told' 'people' 'according' 'year' 'time' 'news' 'just' 'new' 'like'\n",
      " 'reports']\n",
      "\n",
      "Features with highest idf:\n",
      "['guinness book' 'miss smith' 'constantine' 'joshua' 'deandre'\n",
      " 'deandre joshua' 'une' 'rourke' 'redacted' 'mm']\n",
      "\n"
     ]
    }
   ],
   "source": [
    "train_bodies_tfidf,train_headlines_tfidf,test_bodies_tfidf,test_headlines_tfidf=extract_tfidf(train_headlines,train_bodies,test_headlines,test_bodies)"
   ]
  },
  {
   "cell_type": "code",
   "execution_count": 19,
   "metadata": {},
   "outputs": [],
   "source": [
    "# Function for extracting the cosine similarity between bodies and headlines. \n",
    "def extract_cosine_similarity(headlines, bodies):\n",
    "    vectorizer = TfidfVectorizer(ngram_range=(1,2),lowercase=True, stop_words='english',max_features=5000)\n",
    "    \n",
    "    cos_sim_features = []\n",
    "    for i in range(0, len(bodies)):\n",
    "        body_vs_headline = []\n",
    "        body_vs_headline.append(bodies[i])\n",
    "        body_vs_headline.append(headlines[i])\n",
    "        tfidf = vectorizer.fit_transform(body_vs_headline)\n",
    "        \n",
    "        cos_siml=cosine_similarity(tfidf)\n",
    "        cos_sim_features.append(cos_siml[0][1])\n",
    "        \n",
    "    # Convert the list to a sparse matrix (in order to concatenate the cos sim with other features)\n",
    "    cos_sim_array = coo_matrix(np.array(cos_sim_features))\n",
    "\n",
    "    return cos_sim_array"
   ]
  },
  {
   "cell_type": "code",
   "execution_count": 20,
   "metadata": {},
   "outputs": [],
   "source": [
    "train_cos_sim=extract_cosine_similarity(train_headlines,train_bodies)\n",
    "test_cos_sim=extract_cosine_similarity(test_headlines,test_bodies)"
   ]
  },
  {
   "cell_type": "code",
   "execution_count": 21,
   "metadata": {},
   "outputs": [
    {
     "name": "stdout",
     "output_type": "stream",
     "text": [
      "(1, 39977)\n"
     ]
    }
   ],
   "source": [
    "print(train_cos_sim.shape)"
   ]
  },
  {
   "cell_type": "code",
   "execution_count": 22,
   "metadata": {},
   "outputs": [
    {
     "name": "stdout",
     "output_type": "stream",
     "text": [
      "(1, 9995)\n"
     ]
    }
   ],
   "source": [
    "print(test_cos_sim.shape)"
   ]
  },
  {
   "cell_type": "code",
   "execution_count": 23,
   "metadata": {},
   "outputs": [
    {
     "name": "stdout",
     "output_type": "stream",
     "text": [
      "(39977, 1)\n"
     ]
    },
    {
     "data": {
      "text/html": [
       "<div>\n",
       "<style scoped>\n",
       "    .dataframe tbody tr th:only-of-type {\n",
       "        vertical-align: middle;\n",
       "    }\n",
       "\n",
       "    .dataframe tbody tr th {\n",
       "        vertical-align: top;\n",
       "    }\n",
       "\n",
       "    .dataframe thead th {\n",
       "        text-align: right;\n",
       "    }\n",
       "</style>\n",
       "<table border=\"1\" class=\"dataframe\">\n",
       "  <thead>\n",
       "    <tr style=\"text-align: right;\">\n",
       "      <th></th>\n",
       "      <th>cosine_similarity</th>\n",
       "    </tr>\n",
       "  </thead>\n",
       "  <tbody>\n",
       "    <tr>\n",
       "      <th>0</th>\n",
       "      <td>0.000000</td>\n",
       "    </tr>\n",
       "    <tr>\n",
       "      <th>1</th>\n",
       "      <td>0.176667</td>\n",
       "    </tr>\n",
       "    <tr>\n",
       "      <th>2</th>\n",
       "      <td>0.000000</td>\n",
       "    </tr>\n",
       "    <tr>\n",
       "      <th>3</th>\n",
       "      <td>0.000000</td>\n",
       "    </tr>\n",
       "    <tr>\n",
       "      <th>4</th>\n",
       "      <td>0.070748</td>\n",
       "    </tr>\n",
       "    <tr>\n",
       "      <th>...</th>\n",
       "      <td>...</td>\n",
       "    </tr>\n",
       "    <tr>\n",
       "      <th>39972</th>\n",
       "      <td>0.000000</td>\n",
       "    </tr>\n",
       "    <tr>\n",
       "      <th>39973</th>\n",
       "      <td>0.451943</td>\n",
       "    </tr>\n",
       "    <tr>\n",
       "      <th>39974</th>\n",
       "      <td>0.000000</td>\n",
       "    </tr>\n",
       "    <tr>\n",
       "      <th>39975</th>\n",
       "      <td>0.000000</td>\n",
       "    </tr>\n",
       "    <tr>\n",
       "      <th>39976</th>\n",
       "      <td>0.000000</td>\n",
       "    </tr>\n",
       "  </tbody>\n",
       "</table>\n",
       "<p>39977 rows × 1 columns</p>\n",
       "</div>"
      ],
      "text/plain": [
       "       cosine_similarity\n",
       "0               0.000000\n",
       "1               0.176667\n",
       "2               0.000000\n",
       "3               0.000000\n",
       "4               0.070748\n",
       "...                  ...\n",
       "39972           0.000000\n",
       "39973           0.451943\n",
       "39974           0.000000\n",
       "39975           0.000000\n",
       "39976           0.000000\n",
       "\n",
       "[39977 rows x 1 columns]"
      ]
     },
     "execution_count": 23,
     "metadata": {},
     "output_type": "execute_result"
    }
   ],
   "source": [
    "train_cosine_similarity=train_cos_sim.T\n",
    "print(train_cosine_similarity.shape)\n",
    "pd.DataFrame(train_cosine_similarity.todense(),columns=['cosine_similarity'])"
   ]
  },
  {
   "cell_type": "code",
   "execution_count": 24,
   "metadata": {},
   "outputs": [
    {
     "name": "stdout",
     "output_type": "stream",
     "text": [
      "(9995, 1)\n"
     ]
    },
    {
     "data": {
      "text/html": [
       "<div>\n",
       "<style scoped>\n",
       "    .dataframe tbody tr th:only-of-type {\n",
       "        vertical-align: middle;\n",
       "    }\n",
       "\n",
       "    .dataframe tbody tr th {\n",
       "        vertical-align: top;\n",
       "    }\n",
       "\n",
       "    .dataframe thead th {\n",
       "        text-align: right;\n",
       "    }\n",
       "</style>\n",
       "<table border=\"1\" class=\"dataframe\">\n",
       "  <thead>\n",
       "    <tr style=\"text-align: right;\">\n",
       "      <th></th>\n",
       "      <th>cosine_similarity</th>\n",
       "    </tr>\n",
       "  </thead>\n",
       "  <tbody>\n",
       "    <tr>\n",
       "      <th>0</th>\n",
       "      <td>0.000000</td>\n",
       "    </tr>\n",
       "    <tr>\n",
       "      <th>1</th>\n",
       "      <td>0.004944</td>\n",
       "    </tr>\n",
       "    <tr>\n",
       "      <th>2</th>\n",
       "      <td>0.180246</td>\n",
       "    </tr>\n",
       "    <tr>\n",
       "      <th>3</th>\n",
       "      <td>0.016864</td>\n",
       "    </tr>\n",
       "    <tr>\n",
       "      <th>4</th>\n",
       "      <td>0.000000</td>\n",
       "    </tr>\n",
       "    <tr>\n",
       "      <th>...</th>\n",
       "      <td>...</td>\n",
       "    </tr>\n",
       "    <tr>\n",
       "      <th>9990</th>\n",
       "      <td>0.010290</td>\n",
       "    </tr>\n",
       "    <tr>\n",
       "      <th>9991</th>\n",
       "      <td>0.000000</td>\n",
       "    </tr>\n",
       "    <tr>\n",
       "      <th>9992</th>\n",
       "      <td>0.224375</td>\n",
       "    </tr>\n",
       "    <tr>\n",
       "      <th>9993</th>\n",
       "      <td>0.286420</td>\n",
       "    </tr>\n",
       "    <tr>\n",
       "      <th>9994</th>\n",
       "      <td>0.000000</td>\n",
       "    </tr>\n",
       "  </tbody>\n",
       "</table>\n",
       "<p>9995 rows × 1 columns</p>\n",
       "</div>"
      ],
      "text/plain": [
       "      cosine_similarity\n",
       "0              0.000000\n",
       "1              0.004944\n",
       "2              0.180246\n",
       "3              0.016864\n",
       "4              0.000000\n",
       "...                 ...\n",
       "9990           0.010290\n",
       "9991           0.000000\n",
       "9992           0.224375\n",
       "9993           0.286420\n",
       "9994           0.000000\n",
       "\n",
       "[9995 rows x 1 columns]"
      ]
     },
     "execution_count": 24,
     "metadata": {},
     "output_type": "execute_result"
    }
   ],
   "source": [
    "test_cosine_similarity=test_cos_sim.T\n",
    "print(test_cosine_similarity.shape)\n",
    "pd.DataFrame(test_cosine_similarity.todense(),columns=['cosine_similarity'])"
   ]
  },
  {
   "cell_type": "code",
   "execution_count": 25,
   "metadata": {},
   "outputs": [],
   "source": [
    "# Function for combining features of various types (lists, coo_matrix, np.array etc.)\n",
    "def combine_features(tfidf_vectors_headline, cosine_similarity , tfidf_vectors_body):\n",
    "    combined_features = bmat([[tfidf_vectors_headline, cosine_similarity , tfidf_vectors_body]])\n",
    "    return combined_features"
   ]
  },
  {
   "cell_type": "code",
   "execution_count": 26,
   "metadata": {},
   "outputs": [
    {
     "name": "stdout",
     "output_type": "stream",
     "text": [
      ">>>>>>>> FOR TRAINING DATA <<<<<<<<<< \n",
      "\n",
      "Before Merging shapes\n",
      "(39977, 5000) (39977, 1) (39977, 5000) \n",
      "\n",
      "...... Merging Started ....... \n",
      "\n",
      "After Merging Shapes\n",
      "(39977, 10001)\n"
     ]
    }
   ],
   "source": [
    "print(\">>>>>>>> FOR TRAINING DATA <<<<<<<<<< \\n\")\n",
    "print(\"Before Merging shapes\")\n",
    "print(train_headlines_tfidf.shape,train_cosine_similarity.shape,train_bodies_tfidf.shape,\"\\n\")\n",
    "print(\"...... Merging Started ....... \\n\")\n",
    "print(\"After Merging Shapes\")\n",
    "X_train_data=combine_features(train_headlines_tfidf,train_cosine_similarity,train_bodies_tfidf)\n",
    "print(X_train_data.shape)"
   ]
  },
  {
   "cell_type": "code",
   "execution_count": 27,
   "metadata": {},
   "outputs": [
    {
     "name": "stdout",
     "output_type": "stream",
     "text": [
      ">>>>>>>> FOR TESTING DATA <<<<<<<<<< \n",
      "\n",
      "Before Merging shapes\n",
      "(9995, 5000) (9995, 1) (9995, 5000) \n",
      "\n",
      "...... Merging Started ....... \n",
      "\n",
      "After Merging Shapes\n",
      "(9995, 10001)\n"
     ]
    }
   ],
   "source": [
    "print(\">>>>>>>> FOR TESTING DATA <<<<<<<<<< \\n\")\n",
    "print(\"Before Merging shapes\")\n",
    "print(test_headlines_tfidf.shape,test_cosine_similarity.shape,test_bodies_tfidf.shape,\"\\n\")\n",
    "print(\"...... Merging Started ....... \\n\")\n",
    "print(\"After Merging Shapes\")\n",
    "X_test_data=combine_features(test_headlines_tfidf,test_cosine_similarity,test_bodies_tfidf)\n",
    "print(X_test_data.shape)"
   ]
  },
  {
   "cell_type": "code",
   "execution_count": 41,
   "metadata": {},
   "outputs": [],
   "source": [
    "label_ref = {'agree': 0, 'disagree': 1, 'discuss': 2, 'unrelated': 3}\n",
    "label_ref_rev = {0: 'agree', 1: 'disagree', 2: 'discuss', 3: 'unrelated'}\n",
    "\n",
    "Y_train_stances=[]\n",
    "for stance in train_stances:\n",
    "    Y_train_stances.append(label_ref[stance])\n",
    "\n",
    "Y_test_stances=[]\n",
    "for stance in test_stances:\n",
    "    Y_test_stances.append(label_ref[stance])"
   ]
  },
  {
   "cell_type": "code",
   "execution_count": 44,
   "metadata": {},
   "outputs": [],
   "source": [
    "Y_train_data=np.array(Y_train_stances)\n",
    "Y_train_data=Y_train_data.reshape(-1,1)\n",
    "Y_train_data=to_categorical(Y_train_data)\n",
    "Y_train_data=coo_matrix(Y_train_data)\n",
    "\n",
    "Y_test_data=np.array(Y_test_stances)\n",
    "Y_test_data=Y_test_data.reshape(-1,1)\n",
    "Y_test_data=to_categorical(Y_test_data)\n",
    "Y_test_data=coo_matrix(Y_test_data)"
   ]
  },
  {
   "cell_type": "code",
   "execution_count": 45,
   "metadata": {},
   "outputs": [
    {
     "name": "stdout",
     "output_type": "stream",
     "text": [
      "(39977, 4)\n",
      "(9995, 4)\n"
     ]
    }
   ],
   "source": [
    "print(Y_train_data.shape)\n",
    "print(Y_test_data.shape)"
   ]
  },
  {
   "cell_type": "markdown",
   "metadata": {},
   "source": [
    "### Make A neural model "
   ]
  },
  {
   "cell_type": "code",
   "execution_count": 59,
   "metadata": {},
   "outputs": [
    {
     "name": "stdout",
     "output_type": "stream",
     "text": [
      "Model: \"sequential_4\"\n",
      "_________________________________________________________________\n",
      "Layer (type)                 Output Shape              Param #   \n",
      "=================================================================\n",
      "dense_16 (Dense)             (None, 256)               2560512   \n",
      "_________________________________________________________________\n",
      "dense_17 (Dense)             (None, 4)                 1028      \n",
      "_________________________________________________________________\n",
      "dense_18 (Dense)             (None, 4)                 20        \n",
      "_________________________________________________________________\n",
      "dropout_4 (Dropout)          (None, 4)                 0         \n",
      "_________________________________________________________________\n",
      "dense_19 (Dense)             (None, 4)                 20        \n",
      "=================================================================\n",
      "Total params: 2,561,580\n",
      "Trainable params: 2,561,580\n",
      "Non-trainable params: 0\n",
      "_________________________________________________________________\n"
     ]
    }
   ],
   "source": [
    "model=Sequential()\n",
    "model.add(Dense(256,activation='relu',input_shape=(X_train_data.shape[1],)))\n",
    "model.add(Dense(4,activation='relu'))\n",
    "model.add(Dense(4,activation='relu'))\n",
    "model.add(Dropout(0.25))\n",
    "model.add(Dense(4,activation='softmax'))\n",
    "model.summary()"
   ]
  },
  {
   "cell_type": "code",
   "execution_count": 60,
   "metadata": {},
   "outputs": [],
   "source": [
    "checkpoint=ModelCheckpoint(\"model.h5\",monitor='val_loss',verbose=0,save_best_only=True,mode='min')\n",
    "model.compile(loss=\"categorical_crossentropy\",metrics=['accuracy'],optimizer=\"adam\")"
   ]
  },
  {
   "cell_type": "code",
   "execution_count": 56,
   "metadata": {},
   "outputs": [
    {
     "name": "stdout",
     "output_type": "stream",
     "text": [
      "Epoch 1/5\n",
      "500/500 [==============================] - 12s 24ms/step - loss: 0.8389 - accuracy: 0.7330 - val_loss: 0.3606 - val_accuracy: 0.8857\n",
      "Epoch 2/5\n",
      "500/500 [==============================] - 11s 22ms/step - loss: 0.4207 - accuracy: 0.8585 - val_loss: 0.2185 - val_accuracy: 0.8994\n",
      "Epoch 3/5\n",
      "500/500 [==============================] - 11s 22ms/step - loss: 0.3153 - accuracy: 0.8614 - val_loss: 0.2101 - val_accuracy: 0.8986\n",
      "Epoch 4/5\n",
      "500/500 [==============================] - 11s 22ms/step - loss: 0.2874 - accuracy: 0.8612 - val_loss: 0.1937 - val_accuracy: 0.9031\n",
      "Epoch 5/5\n",
      "500/500 [==============================] - 11s 22ms/step - loss: 0.2728 - accuracy: 0.8633 - val_loss: 0.1915 - val_accuracy: 0.9067\n"
     ]
    }
   ],
   "source": [
    "hist=model.fit(X_train_data.todense(),Y_train_data.todense(),epochs=5,shuffle=True,batch_size=64,validation_split=0.2,callbacks=[checkpoint])"
   ]
  },
  {
   "cell_type": "code",
   "execution_count": 62,
   "metadata": {},
   "outputs": [
    {
     "data": {
      "image/png": "[encoded data removed]",
      "text/plain": [
       "<Figure size 576x396 with 1 Axes>"
      ]
     },
     "metadata": {},
     "output_type": "display_data"
    }
   ],
   "source": [
    "plt.style.use('seaborn')\n",
    "plt.figure(0)\n",
    "plt.plot(hist.history['loss'],'g')\n",
    "plt.plot(hist.history['val_loss'],'b')\n",
    "plt.plot(hist.history['accuracy'],'r')\n",
    "plt.plot(hist.history['val_accuracy'],'black')\n",
    "plt.show()"
   ]
  },
  {
   "cell_type": "code",
   "execution_count": 63,
   "metadata": {},
   "outputs": [],
   "source": [
    "model=load_model('model.h5')"
   ]
  },
  {
   "cell_type": "code",
   "execution_count": 64,
   "metadata": {},
   "outputs": [
    {
     "name": "stdout",
     "output_type": "stream",
     "text": [
      "1250/1250 [==============================] - 8s 6ms/step - loss: 0.1617 - accuracy: 0.9101\n"
     ]
    },
    {
     "data": {
      "text/plain": [
       "[0.1617388129234314, 0.9100983142852783]"
      ]
     },
     "execution_count": 64,
     "metadata": {},
     "output_type": "execute_result"
    }
   ],
   "source": [
    "model.evaluate(X_train_data.todense(),Y_train_data.todense())"
   ]
  },
  {
   "cell_type": "code",
   "execution_count": 65,
   "metadata": {},
   "outputs": [
    {
     "name": "stdout",
     "output_type": "stream",
     "text": [
      "313/313 [==============================] - 2s 6ms/step - loss: 0.1873 - accuracy: 0.9104\n"
     ]
    },
    {
     "data": {
      "text/plain": [
       "[0.18734756112098694, 0.9103551506996155]"
      ]
     },
     "execution_count": 65,
     "metadata": {},
     "output_type": "execute_result"
    }
   ],
   "source": [
    "model.evaluate(X_test_data.todense(),Y_test_data.todense())"
   ]
  },
  {
   "cell_type": "code",
   "execution_count": null,
   "metadata": {},
   "outputs": [],
   "source": []
  }
 ],
 "metadata": {
  "kernelspec": {
   "display_name": "Python 3",
   "language": "python",
   "name": "python3"
  },
  "language_info": {
   "codemirror_mode": {
    "name": "ipython",
    "version": 3
   },
   "file_extension": ".py",
   "mimetype": "text/x-python",
   "name": "python",
   "nbconvert_exporter": "python",
   "pygments_lexer": "ipython3",
   "version": "3.8.3"
  }
 },
 "nbformat": 4,
 "nbformat_minor": 4
}
