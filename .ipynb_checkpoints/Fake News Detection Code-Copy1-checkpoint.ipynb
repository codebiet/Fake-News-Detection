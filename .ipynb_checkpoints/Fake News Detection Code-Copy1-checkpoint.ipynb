{
 "cells": [
  {
   "cell_type": "code",
   "execution_count": null,
   "metadata": {
    "executionInfo": {
     "elapsed": 4623,
     "status": "ok",
     "timestamp": 1606057634093,
     "user": {
      "displayName": "Tanmay Jain",
      "photoUrl": "https://lh3.googleusercontent.com/a-/AOh14GjC2ndIGIMHilfWwgUcxfoOD32LD9plIIRrs_PLYw=s64",
      "userId": "17300627337889729528"
     },
     "user_tz": -330
    },
    "id": "8jwlF_ZvZKi5"
   },
   "outputs": [],
   "source": [
    "import pandas as pd\n",
    "import numpy as np\n",
    "from tqdm import tqdm"
   ]
  },
  {
   "cell_type": "code",
   "execution_count": null,
   "metadata": {
    "colab": {
     "base_uri": "https://localhost:8080/",
     "height": 355
    },
    "executionInfo": {
     "elapsed": 1128,
     "status": "ok",
     "timestamp": 1606057636655,
     "user": {
      "displayName": "Tanmay Jain",
      "photoUrl": "https://lh3.googleusercontent.com/a-/AOh14GjC2ndIGIMHilfWwgUcxfoOD32LD9plIIRrs_PLYw=s64",
      "userId": "17300627337889729528"
     },
     "user_tz": -330
    },
    "id": "zF4LWnHFZKi6",
    "outputId": "5fdf4c86-ae2e-4600-ca8b-69aeb4392284"
   },
   "outputs": [],
   "source": [
    "train_data=pd.read_csv(\"fnc-1-master/train_stances.csv\")\n",
    "train_data.head(10)"
   ]
  },
  {
   "cell_type": "code",
   "execution_count": 3,
   "metadata": {
    "colab": {
     "base_uri": "https://localhost:8080/",
     "height": 355
    },
    "executionInfo": {
     "elapsed": 976,
     "status": "ok",
     "timestamp": 1606057637118,
     "user": {
      "displayName": "Tanmay Jain",
      "photoUrl": "https://lh3.googleusercontent.com/a-/AOh14GjC2ndIGIMHilfWwgUcxfoOD32LD9plIIRrs_PLYw=s64",
      "userId": "17300627337889729528"
     },
     "user_tz": -330
    },
    "id": "6-z6bUfaZKi8",
    "outputId": "3cea46c8-0086-4736-9701-f8af1d0824e8"
   },
   "outputs": [
    {
     "data": {
      "text/html": [
       "<div>\n",
       "<style scoped>\n",
       "    .dataframe tbody tr th:only-of-type {\n",
       "        vertical-align: middle;\n",
       "    }\n",
       "\n",
       "    .dataframe tbody tr th {\n",
       "        vertical-align: top;\n",
       "    }\n",
       "\n",
       "    .dataframe thead th {\n",
       "        text-align: right;\n",
       "    }\n",
       "</style>\n",
       "<table border=\"1\" class=\"dataframe\">\n",
       "  <thead>\n",
       "    <tr style=\"text-align: right;\">\n",
       "      <th></th>\n",
       "      <th>Body ID</th>\n",
       "      <th>articleBody</th>\n",
       "    </tr>\n",
       "  </thead>\n",
       "  <tbody>\n",
       "    <tr>\n",
       "      <th>0</th>\n",
       "      <td>0</td>\n",
       "      <td>A small meteorite crashed into a wooded area i...</td>\n",
       "    </tr>\n",
       "    <tr>\n",
       "      <th>1</th>\n",
       "      <td>4</td>\n",
       "      <td>Last week we hinted at what was to come as Ebo...</td>\n",
       "    </tr>\n",
       "    <tr>\n",
       "      <th>2</th>\n",
       "      <td>5</td>\n",
       "      <td>(NEWSER) – Wonder how long a Quarter Pounder w...</td>\n",
       "    </tr>\n",
       "    <tr>\n",
       "      <th>3</th>\n",
       "      <td>6</td>\n",
       "      <td>Posting photos of a gun-toting child online, I...</td>\n",
       "    </tr>\n",
       "    <tr>\n",
       "      <th>4</th>\n",
       "      <td>7</td>\n",
       "      <td>At least 25 suspected Boko Haram insurgents we...</td>\n",
       "    </tr>\n",
       "    <tr>\n",
       "      <th>5</th>\n",
       "      <td>8</td>\n",
       "      <td>There is so much fake stuff on the Internet in...</td>\n",
       "    </tr>\n",
       "    <tr>\n",
       "      <th>6</th>\n",
       "      <td>9</td>\n",
       "      <td>(CNN) -- A meteorite crashed down in Managua, ...</td>\n",
       "    </tr>\n",
       "    <tr>\n",
       "      <th>7</th>\n",
       "      <td>10</td>\n",
       "      <td>Move over, Netflix and Hulu.\\nWord has it that...</td>\n",
       "    </tr>\n",
       "    <tr>\n",
       "      <th>8</th>\n",
       "      <td>11</td>\n",
       "      <td>We’ve all seen the traditional depictions of G...</td>\n",
       "    </tr>\n",
       "    <tr>\n",
       "      <th>9</th>\n",
       "      <td>13</td>\n",
       "      <td>A SOLDIER has been shot at Canada’s National W...</td>\n",
       "    </tr>\n",
       "  </tbody>\n",
       "</table>\n",
       "</div>"
      ],
      "text/plain": [
       "   Body ID                                        articleBody\n",
       "0        0  A small meteorite crashed into a wooded area i...\n",
       "1        4  Last week we hinted at what was to come as Ebo...\n",
       "2        5  (NEWSER) – Wonder how long a Quarter Pounder w...\n",
       "3        6  Posting photos of a gun-toting child online, I...\n",
       "4        7  At least 25 suspected Boko Haram insurgents we...\n",
       "5        8  There is so much fake stuff on the Internet in...\n",
       "6        9  (CNN) -- A meteorite crashed down in Managua, ...\n",
       "7       10  Move over, Netflix and Hulu.\\nWord has it that...\n",
       "8       11  We’ve all seen the traditional depictions of G...\n",
       "9       13  A SOLDIER has been shot at Canada’s National W..."
      ]
     },
     "execution_count": 3,
     "metadata": {},
     "output_type": "execute_result"
    }
   ],
   "source": [
    "train_data_body=pd.read_csv(\"fnc-1-master/train_bodies.csv\")\n",
    "train_data_body.head(10)"
   ]
  },
  {
   "cell_type": "code",
   "execution_count": 4,
   "metadata": {},
   "outputs": [],
   "source": [
    "train_head_to_bodyid=np.array(train_data['Body ID'])"
   ]
  },
  {
   "cell_type": "code",
   "execution_count": 5,
   "metadata": {
    "colab": {
     "base_uri": "https://localhost:8080/",
     "height": 355
    },
    "executionInfo": {
     "elapsed": 1128,
     "status": "ok",
     "timestamp": 1606057637846,
     "user": {
      "displayName": "Tanmay Jain",
      "photoUrl": "https://lh3.googleusercontent.com/a-/AOh14GjC2ndIGIMHilfWwgUcxfoOD32LD9plIIRrs_PLYw=s64",
      "userId": "17300627337889729528"
     },
     "user_tz": -330
    },
    "id": "dx8VPT245WUK",
    "outputId": "99df0307-e43c-40d7-dbf5-b48bcee38826"
   },
   "outputs": [
    {
     "data": {
      "text/html": [
       "<div>\n",
       "<style scoped>\n",
       "    .dataframe tbody tr th:only-of-type {\n",
       "        vertical-align: middle;\n",
       "    }\n",
       "\n",
       "    .dataframe tbody tr th {\n",
       "        vertical-align: top;\n",
       "    }\n",
       "\n",
       "    .dataframe thead th {\n",
       "        text-align: right;\n",
       "    }\n",
       "</style>\n",
       "<table border=\"1\" class=\"dataframe\">\n",
       "  <thead>\n",
       "    <tr style=\"text-align: right;\">\n",
       "      <th></th>\n",
       "      <th>Headline</th>\n",
       "      <th>Body ID</th>\n",
       "      <th>Stance</th>\n",
       "    </tr>\n",
       "  </thead>\n",
       "  <tbody>\n",
       "    <tr>\n",
       "      <th>0</th>\n",
       "      <td>Ferguson riots: Pregnant woman loses eye after...</td>\n",
       "      <td>2008</td>\n",
       "      <td>unrelated</td>\n",
       "    </tr>\n",
       "    <tr>\n",
       "      <th>1</th>\n",
       "      <td>Crazy Conservatives Are Sure a Gitmo Detainee ...</td>\n",
       "      <td>1550</td>\n",
       "      <td>unrelated</td>\n",
       "    </tr>\n",
       "    <tr>\n",
       "      <th>2</th>\n",
       "      <td>A Russian Guy Says His Justin Bieber Ringtone ...</td>\n",
       "      <td>2</td>\n",
       "      <td>unrelated</td>\n",
       "    </tr>\n",
       "    <tr>\n",
       "      <th>3</th>\n",
       "      <td>Zombie Cat: Buried Kitty Believed Dead, Meows ...</td>\n",
       "      <td>1793</td>\n",
       "      <td>unrelated</td>\n",
       "    </tr>\n",
       "    <tr>\n",
       "      <th>4</th>\n",
       "      <td>Argentina's President Adopts Boy to End Werewo...</td>\n",
       "      <td>37</td>\n",
       "      <td>unrelated</td>\n",
       "    </tr>\n",
       "    <tr>\n",
       "      <th>5</th>\n",
       "      <td>Next-generation Apple iPhones' features leaked</td>\n",
       "      <td>2353</td>\n",
       "      <td>unrelated</td>\n",
       "    </tr>\n",
       "    <tr>\n",
       "      <th>6</th>\n",
       "      <td>Saudi national airline may introduce gender se...</td>\n",
       "      <td>192</td>\n",
       "      <td>unrelated</td>\n",
       "    </tr>\n",
       "    <tr>\n",
       "      <th>7</th>\n",
       "      <td>'Zombie Cat' Claws Way Out Of Grave And Into O...</td>\n",
       "      <td>2482</td>\n",
       "      <td>unrelated</td>\n",
       "    </tr>\n",
       "    <tr>\n",
       "      <th>8</th>\n",
       "      <td>ISIS might be harvesting organs, Iraq tells UN</td>\n",
       "      <td>250</td>\n",
       "      <td>unrelated</td>\n",
       "    </tr>\n",
       "    <tr>\n",
       "      <th>9</th>\n",
       "      <td>Woman has surgery to get third breast: The thr...</td>\n",
       "      <td>85</td>\n",
       "      <td>unrelated</td>\n",
       "    </tr>\n",
       "  </tbody>\n",
       "</table>\n",
       "</div>"
      ],
      "text/plain": [
       "                                            Headline  Body ID     Stance\n",
       "0  Ferguson riots: Pregnant woman loses eye after...     2008  unrelated\n",
       "1  Crazy Conservatives Are Sure a Gitmo Detainee ...     1550  unrelated\n",
       "2  A Russian Guy Says His Justin Bieber Ringtone ...        2  unrelated\n",
       "3  Zombie Cat: Buried Kitty Believed Dead, Meows ...     1793  unrelated\n",
       "4  Argentina's President Adopts Boy to End Werewo...       37  unrelated\n",
       "5     Next-generation Apple iPhones' features leaked     2353  unrelated\n",
       "6  Saudi national airline may introduce gender se...      192  unrelated\n",
       "7  'Zombie Cat' Claws Way Out Of Grave And Into O...     2482  unrelated\n",
       "8     ISIS might be harvesting organs, Iraq tells UN      250  unrelated\n",
       "9  Woman has surgery to get third breast: The thr...       85  unrelated"
      ]
     },
     "execution_count": 5,
     "metadata": {},
     "output_type": "execute_result"
    }
   ],
   "source": [
    "test_data=pd.read_csv(\"fnc-1-master/competition_test_stances.csv\")\n",
    "test_data.head(10)"
   ]
  },
  {
   "cell_type": "code",
   "execution_count": 6,
   "metadata": {
    "colab": {
     "base_uri": "https://localhost:8080/",
     "height": 355
    },
    "executionInfo": {
     "elapsed": 1745,
     "status": "ok",
     "timestamp": 1606057638799,
     "user": {
      "displayName": "Tanmay Jain",
      "photoUrl": "https://lh3.googleusercontent.com/a-/AOh14GjC2ndIGIMHilfWwgUcxfoOD32LD9plIIRrs_PLYw=s64",
      "userId": "17300627337889729528"
     },
     "user_tz": -330
    },
    "id": "HlcXoKzn5rwu",
    "outputId": "8e1d5c1a-6c0e-48d5-f1b7-6a29d3609c09"
   },
   "outputs": [
    {
     "data": {
      "text/html": [
       "<div>\n",
       "<style scoped>\n",
       "    .dataframe tbody tr th:only-of-type {\n",
       "        vertical-align: middle;\n",
       "    }\n",
       "\n",
       "    .dataframe tbody tr th {\n",
       "        vertical-align: top;\n",
       "    }\n",
       "\n",
       "    .dataframe thead th {\n",
       "        text-align: right;\n",
       "    }\n",
       "</style>\n",
       "<table border=\"1\" class=\"dataframe\">\n",
       "  <thead>\n",
       "    <tr style=\"text-align: right;\">\n",
       "      <th></th>\n",
       "      <th>Body ID</th>\n",
       "      <th>articleBody</th>\n",
       "    </tr>\n",
       "  </thead>\n",
       "  <tbody>\n",
       "    <tr>\n",
       "      <th>0</th>\n",
       "      <td>1</td>\n",
       "      <td>Al-Sisi has denied Israeli reports stating tha...</td>\n",
       "    </tr>\n",
       "    <tr>\n",
       "      <th>1</th>\n",
       "      <td>2</td>\n",
       "      <td>A bereaved Afghan mother took revenge on the T...</td>\n",
       "    </tr>\n",
       "    <tr>\n",
       "      <th>2</th>\n",
       "      <td>3</td>\n",
       "      <td>CNBC is reporting Tesla has chosen Nevada as t...</td>\n",
       "    </tr>\n",
       "    <tr>\n",
       "      <th>3</th>\n",
       "      <td>12</td>\n",
       "      <td>A 4-inch version of the iPhone 6 is said to be...</td>\n",
       "    </tr>\n",
       "    <tr>\n",
       "      <th>4</th>\n",
       "      <td>19</td>\n",
       "      <td>GR editor’s Note\\n\\nThere are no reports in th...</td>\n",
       "    </tr>\n",
       "    <tr>\n",
       "      <th>5</th>\n",
       "      <td>20</td>\n",
       "      <td>“I once sent Tim an email about the quality of...</td>\n",
       "    </tr>\n",
       "    <tr>\n",
       "      <th>6</th>\n",
       "      <td>21</td>\n",
       "      <td>Absolutely no one was devastated when news bro...</td>\n",
       "    </tr>\n",
       "    <tr>\n",
       "      <th>7</th>\n",
       "      <td>28</td>\n",
       "      <td>In designing its first wearable device in the ...</td>\n",
       "    </tr>\n",
       "    <tr>\n",
       "      <th>8</th>\n",
       "      <td>31</td>\n",
       "      <td>The picture of a possible \"Crabzilla\" measurin...</td>\n",
       "    </tr>\n",
       "    <tr>\n",
       "      <th>9</th>\n",
       "      <td>33</td>\n",
       "      <td>Early Tuesday morning, Dornella Conner was “ri...</td>\n",
       "    </tr>\n",
       "  </tbody>\n",
       "</table>\n",
       "</div>"
      ],
      "text/plain": [
       "   Body ID                                        articleBody\n",
       "0        1  Al-Sisi has denied Israeli reports stating tha...\n",
       "1        2  A bereaved Afghan mother took revenge on the T...\n",
       "2        3  CNBC is reporting Tesla has chosen Nevada as t...\n",
       "3       12  A 4-inch version of the iPhone 6 is said to be...\n",
       "4       19  GR editor’s Note\\n\\nThere are no reports in th...\n",
       "5       20  “I once sent Tim an email about the quality of...\n",
       "6       21  Absolutely no one was devastated when news bro...\n",
       "7       28  In designing its first wearable device in the ...\n",
       "8       31  The picture of a possible \"Crabzilla\" measurin...\n",
       "9       33  Early Tuesday morning, Dornella Conner was “ri..."
      ]
     },
     "execution_count": 6,
     "metadata": {},
     "output_type": "execute_result"
    }
   ],
   "source": [
    "test_data_body=pd.read_csv(\"fnc-1-master/competition_test_bodies.csv\")\n",
    "test_data_body.head(10)"
   ]
  },
  {
   "cell_type": "code",
   "execution_count": 7,
   "metadata": {},
   "outputs": [],
   "source": [
    "test_head_to_bodyid=np.array(test_data['Body ID'])"
   ]
  },
  {
   "cell_type": "code",
   "execution_count": 8,
   "metadata": {
    "executionInfo": {
     "elapsed": 2210,
     "status": "ok",
     "timestamp": 1606057641184,
     "user": {
      "displayName": "Tanmay Jain",
      "photoUrl": "https://lh3.googleusercontent.com/a-/AOh14GjC2ndIGIMHilfWwgUcxfoOD32LD9plIIRrs_PLYw=s64",
      "userId": "17300627337889729528"
     },
     "user_tz": -330
    },
    "id": "YKtMX_MnZKi8"
   },
   "outputs": [
    {
     "name": "stderr",
     "output_type": "stream",
     "text": [
      "1683it [00:00, 205394.95it/s]\n"
     ]
    }
   ],
   "source": [
    "train_bodyid_to_idx={}\n",
    "for idx,id in tqdm(enumerate(train_data_body['Body ID'])):\n",
    "    if id not in train_bodyid_to_idx:\n",
    "        train_bodyid_to_idx[id]=idx"
   ]
  },
  {
   "cell_type": "code",
   "execution_count": 9,
   "metadata": {
    "executionInfo": {
     "elapsed": 1190,
     "status": "ok",
     "timestamp": 1606057641186,
     "user": {
      "displayName": "Tanmay Jain",
      "photoUrl": "https://lh3.googleusercontent.com/a-/AOh14GjC2ndIGIMHilfWwgUcxfoOD32LD9plIIRrs_PLYw=s64",
      "userId": "17300627337889729528"
     },
     "user_tz": -330
    },
    "id": "7SBtHZ0KZKi9"
   },
   "outputs": [
    {
     "name": "stderr",
     "output_type": "stream",
     "text": [
      "904it [00:00, 125046.20it/s]\n"
     ]
    }
   ],
   "source": [
    "test_bodyid_to_idx={}\n",
    "for idx,id in tqdm(enumerate(test_data_body['Body ID'])):\n",
    "    if id not in test_bodyid_to_idx:\n",
    "        test_bodyid_to_idx[id]=idx"
   ]
  },
  {
   "cell_type": "code",
   "execution_count": 10,
   "metadata": {
    "colab": {
     "base_uri": "https://localhost:8080/",
     "height": 35
    },
    "executionInfo": {
     "elapsed": 1345,
     "status": "ok",
     "timestamp": 1606057641822,
     "user": {
      "displayName": "Tanmay Jain",
      "photoUrl": "https://lh3.googleusercontent.com/a-/AOh14GjC2ndIGIMHilfWwgUcxfoOD32LD9plIIRrs_PLYw=s64",
      "userId": "17300627337889729528"
     },
     "user_tz": -330
    },
    "id": "mWonoiri8GOn",
    "outputId": "f5e8b9ca-aa7f-4c50-fe36-fab1f272964f"
   },
   "outputs": [
    {
     "data": {
      "text/plain": [
       "3"
      ]
     },
     "execution_count": 10,
     "metadata": {},
     "output_type": "execute_result"
    }
   ],
   "source": [
    "test_bodyid_to_idx[12]"
   ]
  },
  {
   "cell_type": "code",
   "execution_count": 11,
   "metadata": {
    "colab": {
     "base_uri": "https://localhost:8080/",
     "height": 139
    },
    "executionInfo": {
     "elapsed": 1206,
     "status": "ok",
     "timestamp": 1606057643553,
     "user": {
      "displayName": "Tanmay Jain",
      "photoUrl": "https://lh3.googleusercontent.com/a-/AOh14GjC2ndIGIMHilfWwgUcxfoOD32LD9plIIRrs_PLYw=s64",
      "userId": "17300627337889729528"
     },
     "user_tz": -330
    },
    "id": "RAMk83_l8L4r",
    "outputId": "70656c2b-79bc-4352-f0dc-ebb272235026"
   },
   "outputs": [
    {
     "data": {
      "text/plain": [
       "8"
      ]
     },
     "execution_count": 11,
     "metadata": {},
     "output_type": "execute_result"
    }
   ],
   "source": [
    "train_bodyid_to_idx[11]"
   ]
  },
  {
   "cell_type": "code",
   "execution_count": 12,
   "metadata": {
    "executionInfo": {
     "elapsed": 938,
     "status": "ok",
     "timestamp": 1606057645348,
     "user": {
      "displayName": "Tanmay Jain",
      "photoUrl": "https://lh3.googleusercontent.com/a-/AOh14GjC2ndIGIMHilfWwgUcxfoOD32LD9plIIRrs_PLYw=s64",
      "userId": "17300627337889729528"
     },
     "user_tz": -330
    },
    "id": "8XXCzAP6ZKi9"
   },
   "outputs": [],
   "source": [
    "# Get the headlines of data points\n",
    "def get_headlines(data):\n",
    "    headlines = []\n",
    "    for i in range(len(data)):\n",
    "        headlines.append(data['Headline'][i])\n",
    "    return headlines"
   ]
  },
  {
   "cell_type": "code",
   "execution_count": 13,
   "metadata": {
    "executionInfo": {
     "elapsed": 1875,
     "status": "ok",
     "timestamp": 1606057646779,
     "user": {
      "displayName": "Tanmay Jain",
      "photoUrl": "https://lh3.googleusercontent.com/a-/AOh14GjC2ndIGIMHilfWwgUcxfoOD32LD9plIIRrs_PLYw=s64",
      "userId": "17300627337889729528"
     },
     "user_tz": -330
    },
    "id": "rPrWHmG1ZKi9"
   },
   "outputs": [],
   "source": [
    "# Get the articles of data points\n",
    "def get_articles(data):\n",
    "    articles=[]\n",
    "    for i in range(len(data)):\n",
    "        articles.append(data['articleBody'][i])\n",
    "    return articles"
   ]
  },
  {
   "cell_type": "code",
   "execution_count": 14,
   "metadata": {
    "executionInfo": {
     "elapsed": 1438,
     "status": "ok",
     "timestamp": 1606057647500,
     "user": {
      "displayName": "Tanmay Jain",
      "photoUrl": "https://lh3.googleusercontent.com/a-/AOh14GjC2ndIGIMHilfWwgUcxfoOD32LD9plIIRrs_PLYw=s64",
      "userId": "17300627337889729528"
     },
     "user_tz": -330
    },
    "id": "0DCJ8LBUZKi9"
   },
   "outputs": [],
   "source": [
    "# Get the stances of data points\n",
    "def get_stances(data):\n",
    "    stances = []\n",
    "    for i in range(len(data)):\n",
    "        stances.append(data['Stance'][i])\n",
    "    return stances"
   ]
  },
  {
   "cell_type": "code",
   "execution_count": 15,
   "metadata": {
    "executionInfo": {
     "elapsed": 2277,
     "status": "ok",
     "timestamp": 1606057649664,
     "user": {
      "displayName": "Tanmay Jain",
      "photoUrl": "https://lh3.googleusercontent.com/a-/AOh14GjC2ndIGIMHilfWwgUcxfoOD32LD9plIIRrs_PLYw=s64",
      "userId": "17300627337889729528"
     },
     "user_tz": -330
    },
    "id": "HAMKNPt0ZKi9"
   },
   "outputs": [],
   "source": [
    "train_headlines=get_headlines(train_data)\n",
    "test_headlines=get_headlines(test_data)"
   ]
  },
  {
   "cell_type": "code",
   "execution_count": 16,
   "metadata": {
    "executionInfo": {
     "elapsed": 1680,
     "status": "ok",
     "timestamp": 1606057650169,
     "user": {
      "displayName": "Tanmay Jain",
      "photoUrl": "https://lh3.googleusercontent.com/a-/AOh14GjC2ndIGIMHilfWwgUcxfoOD32LD9plIIRrs_PLYw=s64",
      "userId": "17300627337889729528"
     },
     "user_tz": -330
    },
    "id": "kq3_eSEUZKi9"
   },
   "outputs": [],
   "source": [
    "train_articles_bodies=get_articles(train_data_body)\n",
    "test_articles_bodies=get_articles(test_data_body)"
   ]
  },
  {
   "cell_type": "code",
   "execution_count": 17,
   "metadata": {
    "executionInfo": {
     "elapsed": 1877,
     "status": "ok",
     "timestamp": 1606057651210,
     "user": {
      "displayName": "Tanmay Jain",
      "photoUrl": "https://lh3.googleusercontent.com/a-/AOh14GjC2ndIGIMHilfWwgUcxfoOD32LD9plIIRrs_PLYw=s64",
      "userId": "17300627337889729528"
     },
     "user_tz": -330
    },
    "id": "VcYriXnMZKi9"
   },
   "outputs": [],
   "source": [
    "train_stances=get_stances(train_data)\n",
    "test_stances=get_stances(test_data)"
   ]
  },
  {
   "cell_type": "code",
   "execution_count": 18,
   "metadata": {
    "colab": {
     "base_uri": "https://localhost:8080/"
    },
    "executionInfo": {
     "elapsed": 1488,
     "status": "ok",
     "timestamp": 1606057651212,
     "user": {
      "displayName": "Tanmay Jain",
      "photoUrl": "https://lh3.googleusercontent.com/a-/AOh14GjC2ndIGIMHilfWwgUcxfoOD32LD9plIIRrs_PLYw=s64",
      "userId": "17300627337889729528"
     },
     "user_tz": -330
    },
    "id": "mdk2CArGZKi9",
    "outputId": "94ea5539-30ce-4d22-e24d-3e70714c4718"
   },
   "outputs": [
    {
     "name": "stdout",
     "output_type": "stream",
     "text": [
      "49972 1683 49972\n",
      "25413 904 25413\n"
     ]
    }
   ],
   "source": [
    "print(len(train_headlines),len(train_articles_bodies),len(train_stances))\n",
    "print(len(test_headlines),len(test_articles_bodies),len(test_stances))"
   ]
  },
  {
   "cell_type": "code",
   "execution_count": 19,
   "metadata": {},
   "outputs": [
    {
     "name": "stderr",
     "output_type": "stream",
     "text": [
      "[nltk_data] Downloading package stopwords to\n",
      "[nltk_data]     C:\\Users\\jaint\\AppData\\Roaming\\nltk_data...\n",
      "[nltk_data]   Package stopwords is already up-to-date!\n"
     ]
    }
   ],
   "source": [
    "import nltk\n",
    "from nltk.corpus import stopwords\n",
    "nltk.download('stopwords')\n",
    "stopword=set(stopwords.words('english'))             ## some defined stopwords\n",
    "def remove_stopwords(string):   \n",
    "    new_text = \"\"\n",
    "    wordss=nltk.word_tokenize(string)\n",
    "    for word in wordss:\n",
    "        if word not in stopword:\n",
    "            new_text=new_text + \" \" + word\n",
    "    return new_text"
   ]
  },
  {
   "cell_type": "code",
   "execution_count": 20,
   "metadata": {},
   "outputs": [
    {
     "name": "stderr",
     "output_type": "stream",
     "text": [
      "[nltk_data] Downloading package wordnet to\n",
      "[nltk_data]     C:\\Users\\jaint\\AppData\\Roaming\\nltk_data...\n",
      "[nltk_data]   Package wordnet is already up-to-date!\n"
     ]
    }
   ],
   "source": [
    "lemmatizer = nltk.WordNetLemmatizer()\n",
    "nltk.download('wordnet')\n",
    "def lemmatising(string):\n",
    "    new_text=\"\"\n",
    "    wordss=nltk.word_tokenize(string)\n",
    "    for word in wordss:\n",
    "        new_text=new_text + \" \" + lemmatizer.lemmatize(word,pos=\"v\").lower()\n",
    "    return new_text"
   ]
  },
  {
   "cell_type": "code",
   "execution_count": 21,
   "metadata": {},
   "outputs": [],
   "source": [
    "def remove_punctuation(string):\n",
    "    symbols = \"!\\\"#$%&()*+-./:;<=>?@[\\]^_`{|}~\\n\"\n",
    "    for i in symbols:\n",
    "        string = np.char.replace(string, i, ' ')\n",
    "    return string"
   ]
  },
  {
   "cell_type": "code",
   "execution_count": 22,
   "metadata": {},
   "outputs": [],
   "source": [
    "import re\n",
    "def preprocess(string):\n",
    "    string = \" \".join(re.findall(r'\\w+', string, flags=re.UNICODE)).lower()        ## to lowercase, non-alphanumeric removal\n",
    "    string = remove_punctuation(string)\n",
    "    string=np.char.replace(string, \"'\", \"\")\n",
    "    string=str(string)\n",
    "    #data = remove_single_characters(data)\n",
    "    #data = convert_numbers(data)\n",
    "    string=remove_stopwords(string)\n",
    "    string=lemmatising(string)\n",
    "    string = remove_punctuation(string)\n",
    "    string=str(string)\n",
    "    return string"
   ]
  },
  {
   "cell_type": "code",
   "execution_count": 23,
   "metadata": {},
   "outputs": [
    {
     "name": "stdout",
     "output_type": "stream",
     "text": [
      "Original Line .... Police find mass graves with at least '15 bodies' near Mexico town where 43 students disappeared after police clash\n",
      "Preprocessed Line ...   police find mass grave least 15 body near mexico town 43 students disappear police clash\n"
     ]
    }
   ],
   "source": [
    "print(\"Original Line ....\" ,train_headlines[0])\n",
    "print(\"Preprocessed Line ... \",preprocess(train_headlines[0]))"
   ]
  },
  {
   "cell_type": "code",
   "execution_count": 24,
   "metadata": {},
   "outputs": [],
   "source": [
    "from tqdm import tqdm\n",
    "def preprocess_data(data):\n",
    "    new_data=[]\n",
    "    for text in tqdm(data):\n",
    "        new_data.append(preprocess(text))\n",
    "    return new_data"
   ]
  },
  {
   "cell_type": "code",
   "execution_count": 25,
   "metadata": {},
   "outputs": [
    {
     "name": "stderr",
     "output_type": "stream",
     "text": [
      "100%|██████████████████████████████████████████████████████████████████████████| 49972/49972 [00:37<00:00, 1349.71it/s]\n",
      "100%|█████████████████████████████████████████████████████████████████████████████| 1683/1683 [00:07<00:00, 220.30it/s]\n",
      "100%|██████████████████████████████████████████████████████████████████████████| 25413/25413 [00:19<00:00, 1272.51it/s]\n",
      "100%|███████████████████████████████████████████████████████████████████████████████| 904/904 [00:04<00:00, 221.85it/s]"
     ]
    },
    {
     "name": "stdout",
     "output_type": "stream",
     "text": [
      "49972 1683 49972\n",
      "25413 904 25413\n"
     ]
    },
    {
     "name": "stderr",
     "output_type": "stream",
     "text": [
      "\n"
     ]
    }
   ],
   "source": [
    "train_headlines=preprocess_data(train_headlines)\n",
    "train_articles_bodies=preprocess_data(train_articles_bodies)\n",
    "\n",
    "\n",
    "\n",
    "test_headlines=preprocess_data(test_headlines)\n",
    "test_articles_bodies=preprocess_data(test_articles_bodies)\n",
    "\n",
    "\n",
    "print(len(train_headlines),len(train_articles_bodies),len(train_stances))\n",
    "print(len(test_headlines),len(test_articles_bodies),len(test_stances))"
   ]
  },
  {
   "cell_type": "code",
   "execution_count": 31,
   "metadata": {},
   "outputs": [
    {
     "name": "stdout",
     "output_type": "stream",
     "text": [
      " police find mass grave least 15 body near mexico town 43 students disappear police clash\n",
      " ferguson riot pregnant woman lose eye cop fire bean bag round car window\n"
     ]
    }
   ],
   "source": [
    "print(train_headlines[0])\n",
    "print(test_headlines[0])"
   ]
  },
  {
   "cell_type": "code",
   "execution_count": 32,
   "metadata": {},
   "outputs": [],
   "source": [
    "import tensorflow_hub as hub\n",
    "import tensorflow as tf\n",
    "import sys,os\n",
    "from absl import logging"
   ]
  },
  {
   "cell_type": "code",
   "execution_count": 33,
   "metadata": {},
   "outputs": [],
   "source": [
    "# Import the Universal Sentence Encoder's TF Hub module\n",
    "embed = hub.load(\"https://tfhub.dev/google/universal-sentence-encoder/4\")\n",
    "\n",
    "# Reduce logging output.\n",
    "logging.set_verbosity(logging.ERROR)"
   ]
  },
  {
   "cell_type": "code",
   "execution_count": 34,
   "metadata": {},
   "outputs": [],
   "source": [
    "# get topN similar sentences\n",
    "def get_top_similar(sentence, sentence_list, similarity_matrix, topN):\n",
    "    # find the index of sentence in list\n",
    "    index = sentence_list.index(sentence)\n",
    "    # get the corresponding row in similarity matrix\n",
    "    similarity_row = np.array(similarity_matrix[index, :])\n",
    "    # get the indices of top similar\n",
    "    indices = similarity_row.argsort()[-topN:][::-1]\n",
    "    return [sentence_list[i] for i in indices]"
   ]
  },
  {
   "cell_type": "code",
   "execution_count": 35,
   "metadata": {},
   "outputs": [],
   "source": [
    "def save_file(data,output_file_name):\n",
    "    df=pd.DataFrame(np.array(data))\n",
    "    df.to_csv(output_file_name,index=False)"
   ]
  },
  {
   "cell_type": "code",
   "execution_count": 36,
   "metadata": {},
   "outputs": [],
   "source": [
    "train_headlines_embedding=embed(train_headlines)\n",
    "#save_file(train_headlines_embedding,\"train_headlines_embedding.csv\")"
   ]
  },
  {
   "cell_type": "code",
   "execution_count": 37,
   "metadata": {},
   "outputs": [],
   "source": [
    "test_headlines_embedding=embed(test_headlines)\n",
    "#save_file(test_headlines_embedding,\"test_headlines_embedding.csv\")"
   ]
  },
  {
   "cell_type": "code",
   "execution_count": 38,
   "metadata": {},
   "outputs": [],
   "source": [
    "train_articles_bodies_embedding=embed(train_articles_bodies)"
   ]
  },
  {
   "cell_type": "code",
   "execution_count": 39,
   "metadata": {},
   "outputs": [],
   "source": [
    "test_articles_bodies_embedding=embed(test_articles_bodies)"
   ]
  },
  {
   "cell_type": "code",
   "execution_count": 40,
   "metadata": {},
   "outputs": [],
   "source": [
    "train_articles_bodies_embedding=np.array(train_articles_bodies_embedding)\n",
    "test_articles_bodies_embedding=np.array(test_articles_bodies_embedding)"
   ]
  },
  {
   "cell_type": "code",
   "execution_count": 41,
   "metadata": {},
   "outputs": [
    {
     "name": "stderr",
     "output_type": "stream",
     "text": [
      "100%|████████████████████████████████████████████████████████████████████████| 49972/49972 [00:00<00:00, 324173.22it/s]\n"
     ]
    }
   ],
   "source": [
    "train_articles_embedding=np.zeros((train_headlines_embedding.shape[0],512))\n",
    "for i in tqdm(range(train_headlines_embedding.shape[0])):\n",
    "    idx=train_bodyid_to_idx[train_head_to_bodyid[i]]\n",
    "    train_articles_embedding[i]=train_articles_bodies_embedding[idx]\n",
    "#save_file(train_articles_embedding,\"train_articles_embedding.csv\")"
   ]
  },
  {
   "cell_type": "code",
   "execution_count": 42,
   "metadata": {},
   "outputs": [
    {
     "name": "stderr",
     "output_type": "stream",
     "text": [
      "100%|████████████████████████████████████████████████████████████████████████| 25413/25413 [00:00<00:00, 281629.82it/s]\n"
     ]
    }
   ],
   "source": [
    "test_articles_embedding=np.zeros((test_headlines_embedding.shape[0],512))\n",
    "for i in tqdm(range(test_headlines_embedding.shape[0])):\n",
    "    idx=test_bodyid_to_idx[test_head_to_bodyid[i]]\n",
    "    test_articles_embedding[i]=test_articles_bodies_embedding[idx]\n",
    "#save_file(test_articles_embedding,\"test_articles_embedding.csv\")"
   ]
  },
  {
   "cell_type": "code",
   "execution_count": 43,
   "metadata": {
    "executionInfo": {
     "elapsed": 1855,
     "status": "ok",
     "timestamp": 1606057653238,
     "user": {
      "displayName": "Tanmay Jain",
      "photoUrl": "https://lh3.googleusercontent.com/a-/AOh14GjC2ndIGIMHilfWwgUcxfoOD32LD9plIIRrs_PLYw=s64",
      "userId": "17300627337889729528"
     },
     "user_tz": -330
    },
    "id": "aC2s6TGiZKi-"
   },
   "outputs": [
    {
     "name": "stderr",
     "output_type": "stream",
     "text": [
      "100%|███████████████████████████████████████████████████████████████████████████| 49972/49972 [03:53<00:00, 213.61it/s]\n"
     ]
    }
   ],
   "source": [
    "# Function for extracting the cosine similarity between bodies and headlines. \n",
    "from sklearn.metrics.pairwise import cosine_similarity\n",
    "train_cos_sim_features = []\n",
    "for i in tqdm(range(0, len(train_headlines))):\n",
    "    body_vs_headline = []\n",
    "    body_vs_headline.append(train_headlines[i])\n",
    "    idx=train_bodyid_to_idx[train_head_to_bodyid[i]]\n",
    "    body_vs_headline.append(train_articles_bodies[idx])\n",
    "    embedding = embed(body_vs_headline)\n",
    "    matrix=cosine_similarity(embedding)\n",
    "    train_cos_sim_features.append(matrix[0][1])\n",
    "#save_file(train_cos_sim_features,\"train_cosine_similarity_features.csv\")"
   ]
  },
  {
   "cell_type": "code",
   "execution_count": 44,
   "metadata": {},
   "outputs": [
    {
     "name": "stderr",
     "output_type": "stream",
     "text": [
      "100%|███████████████████████████████████████████████████████████████████████████| 25413/25413 [01:52<00:00, 225.28it/s]\n"
     ]
    }
   ],
   "source": [
    "# Function for extracting the cosine similarity between bodies and headlines. \n",
    "test_cos_sim_features = []\n",
    "for i in tqdm(range(0, len(test_headlines))):\n",
    "    body_vs_headline = []\n",
    "    body_vs_headline.append(test_headlines[i])\n",
    "    idx=test_bodyid_to_idx[test_head_to_bodyid[i]]\n",
    "    body_vs_headline.append(test_articles_bodies[idx])\n",
    "    embedding = embed(body_vs_headline)\n",
    "    matrix=cosine_similarity(embedding)\n",
    "    test_cos_sim_features.append(matrix[0][1])\n",
    "#save_file(test_cos_sim_features,\"test_cosine_similarity_features.csv\")"
   ]
  },
  {
   "cell_type": "code",
   "execution_count": 49,
   "metadata": {},
   "outputs": [
    {
     "name": "stderr",
     "output_type": "stream",
     "text": [
      "100%|█████████████████████████████████████████████████████████████████████████| 49972/49972 [00:03<00:00, 13797.09it/s]\n"
     ]
    }
   ],
   "source": [
    "# word overlap for train data\n",
    "train_word_overlap = []\n",
    "for i in tqdm(range(0,len(train_headlines))):\n",
    "    headline=train_headlines[i]\n",
    "    idx=train_bodyid_to_idx[train_head_to_bodyid[i]]\n",
    "    body=train_articles_bodies[idx]\n",
    "    # Lenght of common words b/w body and headline / Length of all the words of body & headline\n",
    "    features = len(set(headline).intersection(body)) / float(len(set(headline).union(body)))\n",
    "    train_word_overlap.append(features)\n",
    "        \n",
    "# Convert the list to a sparse matrix (in order to concatenate the cos sim with other features)\n",
    "train_word_overlap=np.array(train_word_overlap)"
   ]
  },
  {
   "cell_type": "code",
   "execution_count": 50,
   "metadata": {},
   "outputs": [
    {
     "name": "stderr",
     "output_type": "stream",
     "text": [
      "100%|█████████████████████████████████████████████████████████████████████████| 25413/25413 [00:01<00:00, 15473.36it/s]\n"
     ]
    }
   ],
   "source": [
    "# word overlap for train data\n",
    "test_word_overlap = []\n",
    "for i in tqdm(range(0,len(test_headlines))):\n",
    "    headline=test_headlines[i]\n",
    "    idx=test_bodyid_to_idx[test_head_to_bodyid[i]]\n",
    "    body=test_articles_bodies[idx]\n",
    "    # Lenght of common words b/w body and headline / Length of all the words of body & headline\n",
    "    features = len(set(headline).intersection(body)) / float(len(set(headline).union(body)))\n",
    "    test_word_overlap.append(features)\n",
    "        \n",
    "# Convert the list to a sparse matrix (in order to concatenate the cos sim with other features)\n",
    "test_word_overlap=np.array(test_word_overlap)"
   ]
  },
  {
   "cell_type": "code",
   "execution_count": 51,
   "metadata": {},
   "outputs": [
    {
     "name": "stdout",
     "output_type": "stream",
     "text": [
      "(49972,)\n",
      "(25413,)\n"
     ]
    }
   ],
   "source": [
    "print(train_word_overlap.shape)\n",
    "print(test_word_overlap.shape)"
   ]
  },
  {
   "cell_type": "code",
   "execution_count": 52,
   "metadata": {
    "executionInfo": {
     "elapsed": 201804,
     "status": "ok",
     "timestamp": 1606058106768,
     "user": {
      "displayName": "Tanmay Jain",
      "photoUrl": "https://lh3.googleusercontent.com/a-/AOh14GjC2ndIGIMHilfWwgUcxfoOD32LD9plIIRrs_PLYw=s64",
      "userId": "17300627337889729528"
     },
     "user_tz": -330
    },
    "id": "qY56vyy2ZKi_"
   },
   "outputs": [],
   "source": [
    "# Function for combining features of various types (lists, coo_matrix, np.array etc.)\n",
    "from scipy.sparse import coo_matrix, bmat , hstack\n",
    "def combine_features(headline_vector, cosine_similarity , word_overlap , body_vector):\n",
    "    combined_features = bmat([[headline_vector, cosine_similarity , word_overlap ,body_vector]])\n",
    "    return combined_features"
   ]
  },
  {
   "cell_type": "code",
   "execution_count": 53,
   "metadata": {
    "colab": {
     "base_uri": "https://localhost:8080/"
    },
    "executionInfo": {
     "elapsed": 200136,
     "status": "ok",
     "timestamp": 1606058108747,
     "user": {
      "displayName": "Tanmay Jain",
      "photoUrl": "https://lh3.googleusercontent.com/a-/AOh14GjC2ndIGIMHilfWwgUcxfoOD32LD9plIIRrs_PLYw=s64",
      "userId": "17300627337889729528"
     },
     "user_tz": -330
    },
    "id": "2IRQhDBPZKi_",
    "outputId": "e82df16e-a31b-4c8c-d657-760a1eaf95f3"
   },
   "outputs": [
    {
     "name": "stdout",
     "output_type": "stream",
     "text": [
      ">>>>>>>> FOR TRAINING DATA <<<<<<<<<< \n",
      "\n",
      "Before Merging shapes\n",
      "(49972, 512) (49972, 1) (49972, 1) (49972, 512) \n",
      "\n",
      "...... Merging Started ....... \n",
      "\n",
      "After Merging Shapes\n",
      "(49972, 1026)\n"
     ]
    }
   ],
   "source": [
    "print(\">>>>>>>> FOR TRAINING DATA <<<<<<<<<< \\n\")\n",
    "print(\"Before Merging shapes\")\n",
    "\n",
    "print(coo_matrix(train_headlines_embedding).todense().shape,coo_matrix(train_cos_sim_features).todense().T.shape,coo_matrix(train_word_overlap).todense().T.shape,coo_matrix(train_articles_embedding).todense().shape,\"\\n\")\n",
    "print(\"...... Merging Started ....... \\n\")\n",
    "print(\"After Merging Shapes\")\n",
    "X_train_data=combine_features(coo_matrix(train_headlines_embedding),coo_matrix(train_cos_sim_features).T,coo_matrix(train_word_overlap).T,coo_matrix(train_articles_embedding))\n",
    "X_train_data=X_train_data.todense()\n",
    "print(X_train_data.shape)"
   ]
  },
  {
   "cell_type": "code",
   "execution_count": 54,
   "metadata": {
    "colab": {
     "base_uri": "https://localhost:8080/"
    },
    "executionInfo": {
     "elapsed": 201213,
     "status": "ok",
     "timestamp": 1606058110271,
     "user": {
      "displayName": "Tanmay Jain",
      "photoUrl": "https://lh3.googleusercontent.com/a-/AOh14GjC2ndIGIMHilfWwgUcxfoOD32LD9plIIRrs_PLYw=s64",
      "userId": "17300627337889729528"
     },
     "user_tz": -330
    },
    "id": "3EBVdvU3ZKi_",
    "outputId": "479589ad-4b41-44df-dc8b-3207eeaffe3d"
   },
   "outputs": [
    {
     "name": "stdout",
     "output_type": "stream",
     "text": [
      ">>>>>>>> FOR TESTING DATA <<<<<<<<<< \n",
      "\n",
      "Before Merging shapes\n",
      "(25413, 512) (25413, 1) (25413, 1) (25413, 512) \n",
      "\n",
      "...... Merging Started ....... \n",
      "\n",
      "After Merging Shapes\n",
      "(25413, 1026)\n"
     ]
    }
   ],
   "source": [
    "print(\">>>>>>>> FOR TESTING DATA <<<<<<<<<< \\n\")\n",
    "print(\"Before Merging shapes\")\n",
    "print(coo_matrix(test_headlines_embedding).todense().shape,coo_matrix(test_cos_sim_features).todense().T.shape,coo_matrix(test_word_overlap).todense().T.shape,coo_matrix(test_articles_embedding).todense().shape,\"\\n\")\n",
    "print(\"...... Merging Started ....... \\n\")\n",
    "print(\"After Merging Shapes\")\n",
    "X_test_data=combine_features(coo_matrix(test_headlines_embedding),coo_matrix(test_cos_sim_features).T,coo_matrix(test_word_overlap).T,coo_matrix(test_articles_embedding))\n",
    "X_test_data=X_test_data.todense()\n",
    "print(X_test_data.shape)"
   ]
  },
  {
   "cell_type": "code",
   "execution_count": 55,
   "metadata": {
    "executionInfo": {
     "elapsed": 199869,
     "status": "ok",
     "timestamp": 1606058110272,
     "user": {
      "displayName": "Tanmay Jain",
      "photoUrl": "https://lh3.googleusercontent.com/a-/AOh14GjC2ndIGIMHilfWwgUcxfoOD32LD9plIIRrs_PLYw=s64",
      "userId": "17300627337889729528"
     },
     "user_tz": -330
    },
    "id": "04g-FsHPZKjA"
   },
   "outputs": [],
   "source": [
    "label_ref = {'agree': 0, 'disagree': 1, 'discuss': 2, 'unrelated': 3}\n",
    "label_ref_rev = {0: 'agree', 1: 'disagree', 2: 'discuss', 3: 'unrelated'}\n",
    "\n",
    "Y_train_stances=[]\n",
    "for stance in train_stances:\n",
    "    Y_train_stances.append(label_ref[stance])\n",
    "\n",
    "Y_test_stances=[]\n",
    "for stance in test_stances:\n",
    "    Y_test_stances.append(label_ref[stance])"
   ]
  },
  {
   "cell_type": "code",
   "execution_count": 56,
   "metadata": {
    "executionInfo": {
     "elapsed": 198831,
     "status": "ok",
     "timestamp": 1606058110273,
     "user": {
      "displayName": "Tanmay Jain",
      "photoUrl": "https://lh3.googleusercontent.com/a-/AOh14GjC2ndIGIMHilfWwgUcxfoOD32LD9plIIRrs_PLYw=s64",
      "userId": "17300627337889729528"
     },
     "user_tz": -330
    },
    "id": "kvKrlHicZKjA"
   },
   "outputs": [],
   "source": [
    "from keras.utils import to_categorical\n",
    "Y_train_data=np.array(Y_train_stances)\n",
    "Y_train_data=Y_train_data.reshape(-1,1)\n",
    "Y_train_data=to_categorical(Y_train_data)\n",
    "\n",
    "Y_test_data=np.array(Y_test_stances)\n",
    "Y_test_data=Y_test_data.reshape(-1,1)\n",
    "Y_test_data=to_categorical(Y_test_data)"
   ]
  },
  {
   "cell_type": "code",
   "execution_count": 62,
   "metadata": {
    "colab": {
     "base_uri": "https://localhost:8080/"
    },
    "executionInfo": {
     "elapsed": 197725,
     "status": "ok",
     "timestamp": 1606058110273,
     "user": {
      "displayName": "Tanmay Jain",
      "photoUrl": "https://lh3.googleusercontent.com/a-/AOh14GjC2ndIGIMHilfWwgUcxfoOD32LD9plIIRrs_PLYw=s64",
      "userId": "17300627337889729528"
     },
     "user_tz": -330
    },
    "id": "ZUgQBdQzZKjA",
    "outputId": "4ac1f551-b307-4e4e-f93e-c9ec564f37d6"
   },
   "outputs": [
    {
     "name": "stdout",
     "output_type": "stream",
     "text": [
      "(49972, 1026) (49972, 4)\n",
      "(25413, 1026) (25413, 4)\n"
     ]
    }
   ],
   "source": [
    "print(X_train_data.shape,Y_train_data.shape)\n",
    "print(X_test_data.shape,Y_test_data.shape)"
   ]
  },
  {
   "cell_type": "markdown",
   "metadata": {
    "id": "iz9p1cTIZKjA"
   },
   "source": [
    "### Make A neural model "
   ]
  },
  {
   "cell_type": "code",
   "execution_count": 63,
   "metadata": {
    "colab": {
     "base_uri": "https://localhost:8080/"
    },
    "executionInfo": {
     "elapsed": 1193,
     "status": "ok",
     "timestamp": 1606058726913,
     "user": {
      "displayName": "Tanmay Jain",
      "photoUrl": "https://lh3.googleusercontent.com/a-/AOh14GjC2ndIGIMHilfWwgUcxfoOD32LD9plIIRrs_PLYw=s64",
      "userId": "17300627337889729528"
     },
     "user_tz": -330
    },
    "id": "bs73kpFOZKjA",
    "outputId": "55949baf-489f-48cd-b151-04e69488d7da"
   },
   "outputs": [
    {
     "name": "stdout",
     "output_type": "stream",
     "text": [
      "Model: \"sequential_1\"\n",
      "_________________________________________________________________\n",
      "Layer (type)                 Output Shape              Param #   \n",
      "=================================================================\n",
      "dense_3 (Dense)              (None, 256)               262912    \n",
      "_________________________________________________________________\n",
      "dropout_2 (Dropout)          (None, 256)               0         \n",
      "_________________________________________________________________\n",
      "dense_4 (Dense)              (None, 64)                16448     \n",
      "_________________________________________________________________\n",
      "dropout_3 (Dropout)          (None, 64)                0         \n",
      "_________________________________________________________________\n",
      "dense_5 (Dense)              (None, 4)                 260       \n",
      "=================================================================\n",
      "Total params: 279,620\n",
      "Trainable params: 279,620\n",
      "Non-trainable params: 0\n",
      "_________________________________________________________________\n"
     ]
    }
   ],
   "source": [
    "from keras.models import Sequential\n",
    "from keras.layers import Dense,Dropout\n",
    "model=Sequential()\n",
    "model.add(Dense(256,activation='relu',input_shape=(X_train_data.shape[1],)))\n",
    "model.add(Dropout(0.25))\n",
    "model.add(Dense(64,activation='relu'))\n",
    "model.add(Dropout(0.25))\n",
    "model.add(Dense(4,activation='softmax'))\n",
    "model.summary()"
   ]
  },
  {
   "cell_type": "code",
   "execution_count": 64,
   "metadata": {
    "executionInfo": {
     "elapsed": 1218,
     "status": "ok",
     "timestamp": 1606058162110,
     "user": {
      "displayName": "Tanmay Jain",
      "photoUrl": "https://lh3.googleusercontent.com/a-/AOh14GjC2ndIGIMHilfWwgUcxfoOD32LD9plIIRrs_PLYw=s64",
      "userId": "17300627337889729528"
     },
     "user_tz": -330
    },
    "id": "ArNCRHEBZKjA"
   },
   "outputs": [],
   "source": [
    "from keras.callbacks import ModelCheckpoint\n",
    "from keras.optimizers import Adam\n",
    "checkpoint=ModelCheckpoint(\"wordoverlap_model.h5\",monitor='val_loss',verbose=0,save_best_only=True,mode='min')\n",
    "model.compile(loss=\"categorical_crossentropy\",metrics=['accuracy'],optimizer=Adam(lr=0.0001))"
   ]
  },
  {
   "cell_type": "code",
   "execution_count": 65,
   "metadata": {
    "colab": {
     "base_uri": "https://localhost:8080/"
    },
    "executionInfo": {
     "elapsed": 446043,
     "status": "ok",
     "timestamp": 1606058611298,
     "user": {
      "displayName": "Tanmay Jain",
      "photoUrl": "https://lh3.googleusercontent.com/a-/AOh14GjC2ndIGIMHilfWwgUcxfoOD32LD9plIIRrs_PLYw=s64",
      "userId": "17300627337889729528"
     },
     "user_tz": -330
    },
    "id": "FJjSSjfvZKjA",
    "outputId": "4227c35e-e9f9-47c9-fddd-864d15e3e4b8"
   },
   "outputs": [
    {
     "name": "stdout",
     "output_type": "stream",
     "text": [
      "Epoch 1/50\n",
      "625/625 [==============================] - 4s 6ms/step - loss: 0.7809 - accuracy: 0.7324 - val_loss: 0.5865 - val_accuracy: 0.7631\n",
      "Epoch 2/50\n",
      "625/625 [==============================] - 3s 5ms/step - loss: 0.4821 - accuracy: 0.8263 - val_loss: 0.3496 - val_accuracy: 0.8827\n",
      "Epoch 3/50\n",
      "625/625 [==============================] - 3s 5ms/step - loss: 0.3403 - accuracy: 0.8799 - val_loss: 0.2786 - val_accuracy: 0.9035\n",
      "Epoch 4/50\n",
      "625/625 [==============================] - 3s 5ms/step - loss: 0.2884 - accuracy: 0.8978 - val_loss: 0.2484 - val_accuracy: 0.9116\n",
      "Epoch 5/50\n",
      "625/625 [==============================] - 3s 5ms/step - loss: 0.2584 - accuracy: 0.9078 - val_loss: 0.2284 - val_accuracy: 0.9180\n",
      "Epoch 6/50\n",
      "625/625 [==============================] - 3s 5ms/step - loss: 0.2357 - accuracy: 0.9146 - val_loss: 0.2121 - val_accuracy: 0.9200\n",
      "Epoch 7/50\n",
      "625/625 [==============================] - 3s 5ms/step - loss: 0.2189 - accuracy: 0.9199 - val_loss: 0.2030 - val_accuracy: 0.9220\n",
      "Epoch 8/50\n",
      "625/625 [==============================] - 3s 5ms/step - loss: 0.2038 - accuracy: 0.9249 - val_loss: 0.1886 - val_accuracy: 0.9267\n",
      "Epoch 9/50\n",
      "625/625 [==============================] - 3s 5ms/step - loss: 0.1914 - accuracy: 0.9300 - val_loss: 0.1785 - val_accuracy: 0.9300\n",
      "Epoch 10/50\n",
      "625/625 [==============================] - 3s 5ms/step - loss: 0.1804 - accuracy: 0.9340 - val_loss: 0.1711 - val_accuracy: 0.9344\n",
      "Epoch 11/50\n",
      "625/625 [==============================] - 3s 5ms/step - loss: 0.1687 - accuracy: 0.9375 - val_loss: 0.1633 - val_accuracy: 0.9373\n",
      "Epoch 12/50\n",
      "625/625 [==============================] - 3s 5ms/step - loss: 0.1614 - accuracy: 0.9404 - val_loss: 0.1573 - val_accuracy: 0.9373\n",
      "Epoch 13/50\n",
      "625/625 [==============================] - 3s 5ms/step - loss: 0.1518 - accuracy: 0.9434 - val_loss: 0.1517 - val_accuracy: 0.9398\n",
      "Epoch 14/50\n",
      "625/625 [==============================] - 3s 5ms/step - loss: 0.1431 - accuracy: 0.9465 - val_loss: 0.1456 - val_accuracy: 0.9445\n",
      "Epoch 15/50\n",
      "625/625 [==============================] - 3s 5ms/step - loss: 0.1365 - accuracy: 0.9481 - val_loss: 0.1413 - val_accuracy: 0.9438\n",
      "Epoch 16/50\n",
      "625/625 [==============================] - 3s 5ms/step - loss: 0.1294 - accuracy: 0.9521 - val_loss: 0.1357 - val_accuracy: 0.9468\n",
      "Epoch 17/50\n",
      "625/625 [==============================] - 3s 5ms/step - loss: 0.1215 - accuracy: 0.9548 - val_loss: 0.1296 - val_accuracy: 0.9489\n",
      "Epoch 18/50\n",
      "625/625 [==============================] - 3s 5ms/step - loss: 0.1152 - accuracy: 0.9577 - val_loss: 0.1256 - val_accuracy: 0.9502\n",
      "Epoch 19/50\n",
      "625/625 [==============================] - 3s 5ms/step - loss: 0.1101 - accuracy: 0.9599 - val_loss: 0.1206 - val_accuracy: 0.9517\n",
      "Epoch 20/50\n",
      "625/625 [==============================] - 3s 5ms/step - loss: 0.1034 - accuracy: 0.9624 - val_loss: 0.1186 - val_accuracy: 0.9534\n",
      "Epoch 21/50\n",
      "625/625 [==============================] - 3s 5ms/step - loss: 0.0973 - accuracy: 0.9651 - val_loss: 0.1136 - val_accuracy: 0.9538\n",
      "Epoch 22/50\n",
      "625/625 [==============================] - 3s 5ms/step - loss: 0.0916 - accuracy: 0.9672 - val_loss: 0.1111 - val_accuracy: 0.9555\n",
      "Epoch 23/50\n",
      "625/625 [==============================] - 3s 5ms/step - loss: 0.0861 - accuracy: 0.9691 - val_loss: 0.1069 - val_accuracy: 0.9579\n",
      "Epoch 24/50\n",
      "625/625 [==============================] - 3s 5ms/step - loss: 0.0828 - accuracy: 0.9712 - val_loss: 0.1061 - val_accuracy: 0.9581\n",
      "Epoch 25/50\n",
      "625/625 [==============================] - 3s 5ms/step - loss: 0.0774 - accuracy: 0.9729 - val_loss: 0.0984 - val_accuracy: 0.9610\n",
      "Epoch 26/50\n",
      "625/625 [==============================] - 3s 5ms/step - loss: 0.0729 - accuracy: 0.9744 - val_loss: 0.0981 - val_accuracy: 0.9623\n",
      "Epoch 27/50\n",
      "625/625 [==============================] - 3s 5ms/step - loss: 0.0682 - accuracy: 0.9766 - val_loss: 0.0941 - val_accuracy: 0.9632\n",
      "Epoch 28/50\n",
      "625/625 [==============================] - 3s 5ms/step - loss: 0.0649 - accuracy: 0.9781 - val_loss: 0.0922 - val_accuracy: 0.9646\n",
      "Epoch 29/50\n",
      "625/625 [==============================] - 3s 5ms/step - loss: 0.0614 - accuracy: 0.9793 - val_loss: 0.0884 - val_accuracy: 0.9667\n",
      "Epoch 30/50\n",
      "625/625 [==============================] - 3s 5ms/step - loss: 0.0577 - accuracy: 0.9800 - val_loss: 0.0901 - val_accuracy: 0.9654\n",
      "Epoch 31/50\n",
      "625/625 [==============================] - 3s 5ms/step - loss: 0.0554 - accuracy: 0.9808 - val_loss: 0.0866 - val_accuracy: 0.9673\n",
      "Epoch 32/50\n",
      "625/625 [==============================] - 4s 6ms/step - loss: 0.0526 - accuracy: 0.9826 - val_loss: 0.0843 - val_accuracy: 0.9674\n",
      "Epoch 33/50\n",
      "625/625 [==============================] - 3s 5ms/step - loss: 0.0490 - accuracy: 0.9833 - val_loss: 0.0847 - val_accuracy: 0.9674\n",
      "Epoch 34/50\n",
      "625/625 [==============================] - 3s 5ms/step - loss: 0.0474 - accuracy: 0.9843 - val_loss: 0.0802 - val_accuracy: 0.9703\n",
      "Epoch 35/50\n",
      "625/625 [==============================] - 3s 5ms/step - loss: 0.0447 - accuracy: 0.9855 - val_loss: 0.0799 - val_accuracy: 0.9710\n",
      "Epoch 36/50\n",
      "625/625 [==============================] - 3s 5ms/step - loss: 0.0428 - accuracy: 0.9854 - val_loss: 0.0803 - val_accuracy: 0.9715\n",
      "Epoch 37/50\n",
      "625/625 [==============================] - 3s 4ms/step - loss: 0.0384 - accuracy: 0.9879 - val_loss: 0.0786 - val_accuracy: 0.9710\n",
      "Epoch 38/50\n",
      "625/625 [==============================] - 3s 4ms/step - loss: 0.0383 - accuracy: 0.9871 - val_loss: 0.0772 - val_accuracy: 0.9710\n",
      "Epoch 39/50\n",
      "625/625 [==============================] - 4s 6ms/step - loss: 0.0345 - accuracy: 0.9890 - val_loss: 0.0779 - val_accuracy: 0.9710\n",
      "Epoch 40/50\n",
      "625/625 [==============================] - 4s 6ms/step - loss: 0.0340 - accuracy: 0.9894 - val_loss: 0.0771 - val_accuracy: 0.9720\n",
      "Epoch 41/50\n",
      "625/625 [==============================] - 3s 5ms/step - loss: 0.0305 - accuracy: 0.9904 - val_loss: 0.0733 - val_accuracy: 0.9741\n",
      "Epoch 42/50\n",
      "625/625 [==============================] - 3s 4ms/step - loss: 0.0299 - accuracy: 0.9905 - val_loss: 0.0754 - val_accuracy: 0.9719\n",
      "Epoch 43/50\n",
      "625/625 [==============================] - 3s 4ms/step - loss: 0.0284 - accuracy: 0.9913 - val_loss: 0.0750 - val_accuracy: 0.9742\n",
      "Epoch 44/50\n",
      "625/625 [==============================] - 3s 5ms/step - loss: 0.0269 - accuracy: 0.9916 - val_loss: 0.0718 - val_accuracy: 0.9744\n",
      "Epoch 45/50\n",
      "625/625 [==============================] - 4s 6ms/step - loss: 0.0265 - accuracy: 0.9922 - val_loss: 0.0721 - val_accuracy: 0.9756\n",
      "Epoch 46/50\n",
      "625/625 [==============================] - 4s 6ms/step - loss: 0.0252 - accuracy: 0.9920 - val_loss: 0.0687 - val_accuracy: 0.9767\n",
      "Epoch 47/50\n",
      "625/625 [==============================] - 3s 6ms/step - loss: 0.0235 - accuracy: 0.9924 - val_loss: 0.0744 - val_accuracy: 0.9748\n",
      "Epoch 48/50\n",
      "625/625 [==============================] - 3s 5ms/step - loss: 0.0224 - accuracy: 0.9935 - val_loss: 0.0701 - val_accuracy: 0.9762\n",
      "Epoch 49/50\n",
      "625/625 [==============================] - 3s 5ms/step - loss: 0.0213 - accuracy: 0.9931 - val_loss: 0.0701 - val_accuracy: 0.9757\n",
      "Epoch 50/50\n",
      "625/625 [==============================] - 4s 6ms/step - loss: 0.0209 - accuracy: 0.9934 - val_loss: 0.0697 - val_accuracy: 0.9769\n"
     ]
    }
   ],
   "source": [
    "hist=model.fit(X_train_data,Y_train_data,epochs=50,shuffle=True,batch_size=64,validation_split=0.2,callbacks=[checkpoint])"
   ]
  },
  {
   "cell_type": "code",
   "execution_count": 66,
   "metadata": {
    "colab": {
     "base_uri": "https://localhost:8080/",
     "height": 347
    },
    "executionInfo": {
     "elapsed": 1508,
     "status": "ok",
     "timestamp": 1606058617845,
     "user": {
      "displayName": "Tanmay Jain",
      "photoUrl": "https://lh3.googleusercontent.com/a-/AOh14GjC2ndIGIMHilfWwgUcxfoOD32LD9plIIRrs_PLYw=s64",
      "userId": "17300627337889729528"
     },
     "user_tz": -330
    },
    "id": "-Oan5PiWZKjC",
    "outputId": "ee1b9b03-fdb3-4f76-c72e-ebd44de0d165"
   },
   "outputs": [
    {
     "data": {
      "image/png": "[encoded data removed]",
      "text/plain": [
       "<Figure size 576x396 with 1 Axes>"
      ]
     },
     "metadata": {},
     "output_type": "display_data"
    }
   ],
   "source": [
    "import matplotlib.pyplot as plt\n",
    "plt.style.use('seaborn')\n",
    "plt.figure(0)\n",
    "plt.plot(hist.history['loss'],'g')\n",
    "plt.plot(hist.history['val_loss'],'b')\n",
    "plt.plot(hist.history['accuracy'],'r')\n",
    "plt.plot(hist.history['val_accuracy'],'black')\n",
    "plt.xlabel('epochs')\n",
    "plt.ylabel('value')\n",
    "plt.show()"
   ]
  },
  {
   "cell_type": "markdown",
   "metadata": {
    "id": "tRYtxg8QiQ4y"
   },
   "source": [
    "Load Model"
   ]
  },
  {
   "cell_type": "code",
   "execution_count": 67,
   "metadata": {
    "executionInfo": {
     "elapsed": 1373,
     "status": "ok",
     "timestamp": 1606058639181,
     "user": {
      "displayName": "Tanmay Jain",
      "photoUrl": "https://lh3.googleusercontent.com/a-/AOh14GjC2ndIGIMHilfWwgUcxfoOD32LD9plIIRrs_PLYw=s64",
      "userId": "17300627337889729528"
     },
     "user_tz": -330
    },
    "id": "0ZieNSpIZKjC"
   },
   "outputs": [],
   "source": [
    "from keras.models import load_model\n",
    "model=load_model('wordoverlap_model.h5')"
   ]
  },
  {
   "cell_type": "code",
   "execution_count": 68,
   "metadata": {
    "colab": {
     "base_uri": "https://localhost:8080/"
    },
    "executionInfo": {
     "elapsed": 8739,
     "status": "ok",
     "timestamp": 1606058650547,
     "user": {
      "displayName": "Tanmay Jain",
      "photoUrl": "https://lh3.googleusercontent.com/a-/AOh14GjC2ndIGIMHilfWwgUcxfoOD32LD9plIIRrs_PLYw=s64",
      "userId": "17300627337889729528"
     },
     "user_tz": -330
    },
    "id": "TDjqtkuVZKjC",
    "outputId": "b8539933-6633-4247-e591-dc8abd51c0e8"
   },
   "outputs": [
    {
     "name": "stdout",
     "output_type": "stream",
     "text": [
      "1562/1562 [==============================] - 3s 2ms/step - loss: 0.0230 - accuracy: 0.9935\n"
     ]
    },
    {
     "data": {
      "text/plain": [
       "[0.022985972464084625, 0.9934763312339783]"
      ]
     },
     "execution_count": 68,
     "metadata": {},
     "output_type": "execute_result"
    }
   ],
   "source": [
    "model.evaluate(X_train_data,Y_train_data)"
   ]
  },
  {
   "cell_type": "code",
   "execution_count": 69,
   "metadata": {
    "id": "-9OccDkUZKjC"
   },
   "outputs": [],
   "source": [
    "from sklearn.metrics import confusion_matrix,classification_report,plot_confusion_matrix,accuracy_score"
   ]
  },
  {
   "cell_type": "code",
   "execution_count": 70,
   "metadata": {
    "id": "UwW2zH9kazde"
   },
   "outputs": [
    {
     "name": "stdout",
     "output_type": "stream",
     "text": [
      "Predicted  :    [3 3 3 ... 0 3 0]\n",
      "Actual  :   [3 3 3 ... 1 1 0]\n",
      "              precision    recall  f1-score   support\n",
      "\n",
      "           0       0.42      0.53      0.47      1903\n",
      "           1       0.28      0.09      0.14       697\n",
      "           2       0.69      0.66      0.68      4464\n",
      "           3       0.95      0.96      0.95     18349\n",
      "\n",
      "    accuracy                           0.85     25413\n",
      "   macro avg       0.58      0.56      0.56     25413\n",
      "weighted avg       0.85      0.85      0.84     25413\n",
      "\n"
     ]
    }
   ],
   "source": [
    "Y_pred=model.predict(X_test_data)\n",
    "Y_pred=np.argmax(Y_pred,axis=1)  #get max from each row\n",
    "print(\"Predicted  :   \" , Y_pred)\n",
    "\n",
    "actual_Y_label=np.argmax(Y_test_data,axis=1)\n",
    "print(\"Actual  :  \" , actual_Y_label)\n",
    "\n",
    "cls_report=classification_report(actual_Y_label,Y_pred)\n",
    "print(cls_report)"
   ]
  },
  {
   "cell_type": "code",
   "execution_count": 71,
   "metadata": {
    "id": "K-y-RrqGa49c"
   },
   "outputs": [],
   "source": [
    "import itertools\n",
    "def plot_confusion_matrix(cm,target_names,title='Confusion matrix',cmap=None,normalize=True):\n",
    "    accuracy = np.trace(cm) / float(np.sum(cm))\n",
    "    misclass = 1 - accuracy\n",
    "\n",
    "    if cmap is None:\n",
    "        cmap = plt.get_cmap('Blues')\n",
    "\n",
    "    plt.figure(figsize=(8, 6))\n",
    "    plt.imshow(cm, interpolation='nearest', cmap=cmap)\n",
    "    plt.title(title)\n",
    "    plt.colorbar()\n",
    "\n",
    "    if target_names is not None:\n",
    "        tick_marks = np.arange(len(target_names))\n",
    "        plt.xticks(tick_marks, target_names, rotation=45)\n",
    "        plt.yticks(tick_marks, target_names)\n",
    "\n",
    "    if normalize:\n",
    "        cm = cm.astype('float') / cm.sum(axis=1)[:, np.newaxis]\n",
    "    \n",
    "    thresh = cm.max() / 1.5 if normalize else cm.max() / 2\n",
    "    for i, j in itertools.product(range(cm.shape[0]), range(cm.shape[1])):\n",
    "        if normalize:\n",
    "            plt.text(j, i, \"{:0.4f}\".format(cm[i, j]),\n",
    "                     horizontalalignment=\"center\",\n",
    "                     color=\"white\" if cm[i, j] > thresh else \"black\")\n",
    "        else:\n",
    "            plt.text(j, i, \"{:,}\".format(cm[i, j]),\n",
    "                     horizontalalignment=\"center\",\n",
    "                     color=\"white\" if cm[i, j] > thresh else \"black\")\n",
    "    plt.tight_layout()\n",
    "    plt.ylabel('True label')\n",
    "    plt.xlabel('Predicted label\\naccuracy={:0.4f}; misclass={:0.4f}'.format(accuracy, misclass))\n",
    "    plt.show()"
   ]
  },
  {
   "cell_type": "code",
   "execution_count": 72,
   "metadata": {
    "colab": {
     "base_uri": "https://localhost:8080/",
     "height": 485
    },
    "executionInfo": {
     "elapsed": 1101,
     "status": "ok",
     "timestamp": 1605958008975,
     "user": {
      "displayName": "Tanmay Jain",
      "photoUrl": "https://lh3.googleusercontent.com/a-/AOh14GjC2ndIGIMHilfWwgUcxfoOD32LD9plIIRrs_PLYw=s64",
      "userId": "17300627337889729528"
     },
     "user_tz": -330
    },
    "id": "sB2We1wAjPAU",
    "outputId": "98604c82-c2c4-4395-b887-41678ad3521a"
   },
   "outputs": [
    {
     "data": {
      "text/plain": [
       "<Figure size 576x396 with 0 Axes>"
      ]
     },
     "metadata": {},
     "output_type": "display_data"
    },
    {
     "data": {
      "image/png": "[encoded data removed]",
      "text/plain": [
       "<Figure size 576x432 with 2 Axes>"
      ]
     },
     "metadata": {},
     "output_type": "display_data"
    }
   ],
   "source": [
    "labels=['agree','disagree','discuss','unrelated']\n",
    "cnf_matrix=confusion_matrix(actual_Y_label,Y_pred)\n",
    "plt.figure()\n",
    "plot_confusion_matrix(cnf_matrix,target_names=labels,normalize=False)"
   ]
  },
  {
   "cell_type": "code",
   "execution_count": 73,
   "metadata": {},
   "outputs": [
    {
     "name": "stdout",
     "output_type": "stream",
     "text": [
      "795/795 [==============================] - 1s 1ms/step - loss: 0.6947 - accuracy: 0.8482\n"
     ]
    },
    {
     "data": {
      "text/plain": [
       "[0.6946860551834106, 0.8482272624969482]"
      ]
     },
     "execution_count": 73,
     "metadata": {},
     "output_type": "execute_result"
    }
   ],
   "source": [
    "model.evaluate(X_test_data,Y_test_data)"
   ]
  },
  {
   "cell_type": "code",
   "execution_count": null,
   "metadata": {},
   "outputs": [],
   "source": []
  }
 ],
 "metadata": {
  "accelerator": "GPU",
  "colab": {
   "collapsed_sections": [],
   "name": "Fake News Detection Code.ipynb",
   "provenance": []
  },
  "kernelspec": {
   "display_name": "Python 3",
   "language": "python",
   "name": "python3"
  },
  "language_info": {
   "codemirror_mode": {
    "name": "ipython",
    "version": 3
   },
   "file_extension": ".py",
   "mimetype": "text/x-python",
   "name": "python",
   "nbconvert_exporter": "python",
   "pygments_lexer": "ipython3",
   "version": "3.8.5"
  }
 },
 "nbformat": 4,
 "nbformat_minor": 1
}
