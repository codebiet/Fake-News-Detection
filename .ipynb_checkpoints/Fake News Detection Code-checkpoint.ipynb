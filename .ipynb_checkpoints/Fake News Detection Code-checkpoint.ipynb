{
 "cells": [
  {
   "cell_type": "code",
   "execution_count": 1,
   "metadata": {
    "colab": {
     "base_uri": "https://localhost:8080/"
    },
    "executionInfo": {
     "elapsed": 28071,
     "status": "ok",
     "timestamp": 1606057617710,
     "user": {
      "displayName": "Tanmay Jain",
      "photoUrl": "https://lh3.googleusercontent.com/a-/AOh14GjC2ndIGIMHilfWwgUcxfoOD32LD9plIIRrs_PLYw=s64",
      "userId": "17300627337889729528"
     },
     "user_tz": -330
    },
    "id": "pLTl-JApZRDJ",
    "outputId": "bada00c6-1c8f-4369-efaa-758e2c29e064"
   },
   "outputs": [
    {
     "name": "stdout",
     "output_type": "stream",
     "text": [
      "Mounted at /content/gdrive\n"
     ]
    }
   ],
   "source": [
    "from google.colab import drive\n",
    "drive.mount('/content/gdrive')"
   ]
  },
  {
   "cell_type": "code",
   "execution_count": 2,
   "metadata": {
    "colab": {
     "base_uri": "https://localhost:8080/"
    },
    "executionInfo": {
     "elapsed": 4193,
     "status": "ok",
     "timestamp": 1606057623942,
     "user": {
      "displayName": "Tanmay Jain",
      "photoUrl": "https://lh3.googleusercontent.com/a-/AOh14GjC2ndIGIMHilfWwgUcxfoOD32LD9plIIRrs_PLYw=s64",
      "userId": "17300627337889729528"
     },
     "user_tz": -330
    },
    "id": "kySBWq3H2DEt",
    "outputId": "79c31b3d-6e6c-4915-88c7-b4226149bbb3"
   },
   "outputs": [
    {
     "name": "stdout",
     "output_type": "stream",
     "text": [
      "--2020-11-22 15:07:00--  https://www.dropbox.com/s/yqv6h6cmxjrb9in/fnc-1-master.zip?dl=0\n",
      "Resolving www.dropbox.com (www.dropbox.com)... 162.125.65.1, 2620:100:6021:1::a27d:4101\n",
      "Connecting to www.dropbox.com (www.dropbox.com)|162.125.65.1|:443... connected.\n",
      "HTTP request sent, awaiting response... 301 Moved Permanently\n",
      "Location: /s/raw/yqv6h6cmxjrb9in/fnc-1-master.zip [following]\n",
      "--2020-11-22 15:07:00--  https://www.dropbox.com/s/raw/yqv6h6cmxjrb9in/fnc-1-master.zip\n",
      "Reusing existing connection to www.dropbox.com:443.\n",
      "HTTP request sent, awaiting response... 302 Found\n",
      "Location: https://uc8465c087387b8ad98fc5635b6d.dl.dropboxusercontent.com/cd/0/inline/BDo01BINv6MDsgmm1hYJR4iPCKYllMfkxVE3MEkVNSve-qM4aOk04d2NyFlEEoVm4GyDyq1l-4ZZEv-h3IBzMDt4vU13ye0a_VfvQHmvjQhg5LqB7_NljFK-hBts7mDnLQQ/file# [following]\n",
      "--2020-11-22 15:07:01--  https://uc8465c087387b8ad98fc5635b6d.dl.dropboxusercontent.com/cd/0/inline/BDo01BINv6MDsgmm1hYJR4iPCKYllMfkxVE3MEkVNSve-qM4aOk04d2NyFlEEoVm4GyDyq1l-4ZZEv-h3IBzMDt4vU13ye0a_VfvQHmvjQhg5LqB7_NljFK-hBts7mDnLQQ/file\n",
      "Resolving uc8465c087387b8ad98fc5635b6d.dl.dropboxusercontent.com (uc8465c087387b8ad98fc5635b6d.dl.dropboxusercontent.com)... 162.125.65.15, 2620:100:6021:15::a27d:410f\n",
      "Connecting to uc8465c087387b8ad98fc5635b6d.dl.dropboxusercontent.com (uc8465c087387b8ad98fc5635b6d.dl.dropboxusercontent.com)|162.125.65.15|:443... connected.\n",
      "HTTP request sent, awaiting response... 302 Found\n",
      "Location: /cd/0/inline2/BDoCKon0ulsXpvb51vwMxM943GJp-imA1d3X_hgCM88hY1jhAf7HqnLmYbGk94G8wxl38zb_nwdExepiNjlUVtD8HkZL9PokcgFZKaWJK-qr7WooTuGquI6bc2JxE_QUqMdQ9DCP5wEmhf4J2E6z5fVT7v2BURUlIWUrBaqJRt9YgDS4J0VsVEBX15JidkMiPSFJIxF0M7ckUzIValEGt7wEbyorj-BkH1wDhOsCiUnhcjHYYahH2MMeSLgOao7t99BXf0A73pGHpOf6UCudZ63tRaFETlOie3YGXDb-uWXi1Ajca1X4ePMUxvgd1iziktT9_N1Bre130xdZMPH7NWw5Fx6qO2dGZAoyStHLhwQDBg/file [following]\n",
      "--2020-11-22 15:07:01--  https://uc8465c087387b8ad98fc5635b6d.dl.dropboxusercontent.com/cd/0/inline2/BDoCKon0ulsXpvb51vwMxM943GJp-imA1d3X_hgCM88hY1jhAf7HqnLmYbGk94G8wxl38zb_nwdExepiNjlUVtD8HkZL9PokcgFZKaWJK-qr7WooTuGquI6bc2JxE_QUqMdQ9DCP5wEmhf4J2E6z5fVT7v2BURUlIWUrBaqJRt9YgDS4J0VsVEBX15JidkMiPSFJIxF0M7ckUzIValEGt7wEbyorj-BkH1wDhOsCiUnhcjHYYahH2MMeSLgOao7t99BXf0A73pGHpOf6UCudZ63tRaFETlOie3YGXDb-uWXi1Ajca1X4ePMUxvgd1iziktT9_N1Bre130xdZMPH7NWw5Fx6qO2dGZAoyStHLhwQDBg/file\n",
      "Reusing existing connection to uc8465c087387b8ad98fc5635b6d.dl.dropboxusercontent.com:443.\n",
      "HTTP request sent, awaiting response... 200 OK\n",
      "Length: 7110230 (6.8M) [application/zip]\n",
      "Saving to: ‘fnc-1-master.zip?dl=0’\n",
      "\n",
      "fnc-1-master.zip?dl 100%[===================>]   6.78M  14.1MB/s    in 0.5s    \n",
      "\n",
      "2020-11-22 15:07:03 (14.1 MB/s) - ‘fnc-1-master.zip?dl=0’ saved [7110230/7110230]\n",
      "\n"
     ]
    }
   ],
   "source": [
    "!wget https://www.dropbox.com/s/yqv6h6cmxjrb9in/fnc-1-master.zip?dl=0"
   ]
  },
  {
   "cell_type": "code",
   "execution_count": 3,
   "metadata": {
    "colab": {
     "base_uri": "https://localhost:8080/"
    },
    "executionInfo": {
     "elapsed": 1445,
     "status": "ok",
     "timestamp": 1606057627639,
     "user": {
      "displayName": "Tanmay Jain",
      "photoUrl": "https://lh3.googleusercontent.com/a-/AOh14GjC2ndIGIMHilfWwgUcxfoOD32LD9plIIRrs_PLYw=s64",
      "userId": "17300627337889729528"
     },
     "user_tz": -330
    },
    "id": "AEYnFwp32MY_",
    "outputId": "7df7d55b-2195-49e3-f9cd-e07572ddfa88"
   },
   "outputs": [
    {
     "name": "stdout",
     "output_type": "stream",
     "text": [
      "Archive:  fnc-1-master.zip?dl=0\n",
      "29d473af2d15278f0464d5e41e4cbe7eb58231f2\n",
      "   creating: fnc-1-master/\n",
      "  inflating: fnc-1-master/README.md  \n",
      "  inflating: fnc-1-master/competition_test_bodies.csv  \n",
      "  inflating: fnc-1-master/competition_test_stances.csv  \n",
      "  inflating: fnc-1-master/competition_test_stances_unlabeled.csv  \n",
      "  inflating: fnc-1-master/scorer.py  \n",
      "  inflating: fnc-1-master/test_bodies.csv  \n",
      "  inflating: fnc-1-master/test_stances_unlabeled.csv  \n",
      "  inflating: fnc-1-master/train_bodies.csv  \n",
      "  inflating: fnc-1-master/train_stances.csv  \n",
      "  inflating: fnc-1-master/train_stances.random.csv  \n"
     ]
    }
   ],
   "source": [
    "!unzip fnc-1-master.zip?dl=0"
   ]
  },
  {
   "cell_type": "code",
   "execution_count": null,
   "metadata": {},
   "outputs": [],
   "source": [
    "ls fnc-1-master/"
   ]
  },
  {
   "cell_type": "code",
   "execution_count": 1,
   "metadata": {
    "executionInfo": {
     "elapsed": 4623,
     "status": "ok",
     "timestamp": 1606057634093,
     "user": {
      "displayName": "Tanmay Jain",
      "photoUrl": "https://lh3.googleusercontent.com/a-/AOh14GjC2ndIGIMHilfWwgUcxfoOD32LD9plIIRrs_PLYw=s64",
      "userId": "17300627337889729528"
     },
     "user_tz": -330
    },
    "id": "8jwlF_ZvZKi5"
   },
   "outputs": [],
   "source": [
    "import pandas as pd\n",
    "import numpy as np\n",
    "import nltk\n",
    "from nltk.tokenize import word_tokenize\n",
    "from nltk.corpus import stopwords\n",
    "from nltk.tokenize import RegexpTokenizer\n",
    "import re,scipy\n",
    "from nltk.stem.snowball import PorterStemmer  \n",
    "from scipy.sparse import hstack\n",
    "from scipy.sparse import coo_matrix, bmat\n",
    "from tqdm import tqdm\n",
    "from scipy import sparse\n",
    "from sklearn.feature_extraction.text import TfidfVectorizer\n",
    "from sklearn.metrics.pairwise import cosine_similarity\n",
    "from sklearn.feature_selection import chi2\n",
    "from sklearn.feature_selection import SelectKBest,VarianceThreshold\n",
    "import tensorflow\n",
    "from keras.models import *\n",
    "from keras.layers import *\n",
    "from keras.optimizers import Adam\n",
    "from keras.callbacks import *\n",
    "from keras.utils import to_categorical \n",
    "import matplotlib.pyplot as plt"
   ]
  },
  {
   "cell_type": "code",
   "execution_count": 2,
   "metadata": {
    "colab": {
     "base_uri": "https://localhost:8080/",
     "height": 355
    },
    "executionInfo": {
     "elapsed": 1128,
     "status": "ok",
     "timestamp": 1606057636655,
     "user": {
      "displayName": "Tanmay Jain",
      "photoUrl": "https://lh3.googleusercontent.com/a-/AOh14GjC2ndIGIMHilfWwgUcxfoOD32LD9plIIRrs_PLYw=s64",
      "userId": "17300627337889729528"
     },
     "user_tz": -330
    },
    "id": "zF4LWnHFZKi6",
    "outputId": "5fdf4c86-ae2e-4600-ca8b-69aeb4392284"
   },
   "outputs": [
    {
     "data": {
      "text/html": [
       "<div>\n",
       "<style scoped>\n",
       "    .dataframe tbody tr th:only-of-type {\n",
       "        vertical-align: middle;\n",
       "    }\n",
       "\n",
       "    .dataframe tbody tr th {\n",
       "        vertical-align: top;\n",
       "    }\n",
       "\n",
       "    .dataframe thead th {\n",
       "        text-align: right;\n",
       "    }\n",
       "</style>\n",
       "<table border=\"1\" class=\"dataframe\">\n",
       "  <thead>\n",
       "    <tr style=\"text-align: right;\">\n",
       "      <th></th>\n",
       "      <th>Headline</th>\n",
       "      <th>Body ID</th>\n",
       "      <th>Stance</th>\n",
       "    </tr>\n",
       "  </thead>\n",
       "  <tbody>\n",
       "    <tr>\n",
       "      <th>0</th>\n",
       "      <td>Police find mass graves with at least '15 bodi...</td>\n",
       "      <td>712</td>\n",
       "      <td>unrelated</td>\n",
       "    </tr>\n",
       "    <tr>\n",
       "      <th>1</th>\n",
       "      <td>Hundreds of Palestinians flee floods in Gaza a...</td>\n",
       "      <td>158</td>\n",
       "      <td>agree</td>\n",
       "    </tr>\n",
       "    <tr>\n",
       "      <th>2</th>\n",
       "      <td>Christian Bale passes on role of Steve Jobs, a...</td>\n",
       "      <td>137</td>\n",
       "      <td>unrelated</td>\n",
       "    </tr>\n",
       "    <tr>\n",
       "      <th>3</th>\n",
       "      <td>HBO and Apple in Talks for $15/Month Apple TV ...</td>\n",
       "      <td>1034</td>\n",
       "      <td>unrelated</td>\n",
       "    </tr>\n",
       "    <tr>\n",
       "      <th>4</th>\n",
       "      <td>Spider burrowed through tourist's stomach and ...</td>\n",
       "      <td>1923</td>\n",
       "      <td>disagree</td>\n",
       "    </tr>\n",
       "    <tr>\n",
       "      <th>5</th>\n",
       "      <td>'Nasa Confirms Earth Will Experience 6 Days of...</td>\n",
       "      <td>154</td>\n",
       "      <td>agree</td>\n",
       "    </tr>\n",
       "    <tr>\n",
       "      <th>6</th>\n",
       "      <td>Accused Boston Marathon Bomber Severely Injure...</td>\n",
       "      <td>962</td>\n",
       "      <td>unrelated</td>\n",
       "    </tr>\n",
       "    <tr>\n",
       "      <th>7</th>\n",
       "      <td>Identity of ISIS terrorist known as 'Jihadi Jo...</td>\n",
       "      <td>2033</td>\n",
       "      <td>unrelated</td>\n",
       "    </tr>\n",
       "    <tr>\n",
       "      <th>8</th>\n",
       "      <td>Banksy 'Arrested &amp; Real Identity Revealed' Is ...</td>\n",
       "      <td>1739</td>\n",
       "      <td>agree</td>\n",
       "    </tr>\n",
       "    <tr>\n",
       "      <th>9</th>\n",
       "      <td>British Aid Worker Confirmed Murdered By ISIS</td>\n",
       "      <td>882</td>\n",
       "      <td>unrelated</td>\n",
       "    </tr>\n",
       "  </tbody>\n",
       "</table>\n",
       "</div>"
      ],
      "text/plain": [
       "                                            Headline  Body ID     Stance\n",
       "0  Police find mass graves with at least '15 bodi...      712  unrelated\n",
       "1  Hundreds of Palestinians flee floods in Gaza a...      158      agree\n",
       "2  Christian Bale passes on role of Steve Jobs, a...      137  unrelated\n",
       "3  HBO and Apple in Talks for $15/Month Apple TV ...     1034  unrelated\n",
       "4  Spider burrowed through tourist's stomach and ...     1923   disagree\n",
       "5  'Nasa Confirms Earth Will Experience 6 Days of...      154      agree\n",
       "6  Accused Boston Marathon Bomber Severely Injure...      962  unrelated\n",
       "7  Identity of ISIS terrorist known as 'Jihadi Jo...     2033  unrelated\n",
       "8  Banksy 'Arrested & Real Identity Revealed' Is ...     1739      agree\n",
       "9      British Aid Worker Confirmed Murdered By ISIS      882  unrelated"
      ]
     },
     "execution_count": 2,
     "metadata": {},
     "output_type": "execute_result"
    }
   ],
   "source": [
    "train_data=pd.read_csv(\"fnc-1-master/train_stances.csv\")\n",
    "train_data.head(10)"
   ]
  },
  {
   "cell_type": "code",
   "execution_count": 3,
   "metadata": {
    "colab": {
     "base_uri": "https://localhost:8080/",
     "height": 355
    },
    "executionInfo": {
     "elapsed": 976,
     "status": "ok",
     "timestamp": 1606057637118,
     "user": {
      "displayName": "Tanmay Jain",
      "photoUrl": "https://lh3.googleusercontent.com/a-/AOh14GjC2ndIGIMHilfWwgUcxfoOD32LD9plIIRrs_PLYw=s64",
      "userId": "17300627337889729528"
     },
     "user_tz": -330
    },
    "id": "6-z6bUfaZKi8",
    "outputId": "3cea46c8-0086-4736-9701-f8af1d0824e8"
   },
   "outputs": [
    {
     "data": {
      "text/html": [
       "<div>\n",
       "<style scoped>\n",
       "    .dataframe tbody tr th:only-of-type {\n",
       "        vertical-align: middle;\n",
       "    }\n",
       "\n",
       "    .dataframe tbody tr th {\n",
       "        vertical-align: top;\n",
       "    }\n",
       "\n",
       "    .dataframe thead th {\n",
       "        text-align: right;\n",
       "    }\n",
       "</style>\n",
       "<table border=\"1\" class=\"dataframe\">\n",
       "  <thead>\n",
       "    <tr style=\"text-align: right;\">\n",
       "      <th></th>\n",
       "      <th>Body ID</th>\n",
       "      <th>articleBody</th>\n",
       "    </tr>\n",
       "  </thead>\n",
       "  <tbody>\n",
       "    <tr>\n",
       "      <th>0</th>\n",
       "      <td>0</td>\n",
       "      <td>A small meteorite crashed into a wooded area i...</td>\n",
       "    </tr>\n",
       "    <tr>\n",
       "      <th>1</th>\n",
       "      <td>4</td>\n",
       "      <td>Last week we hinted at what was to come as Ebo...</td>\n",
       "    </tr>\n",
       "    <tr>\n",
       "      <th>2</th>\n",
       "      <td>5</td>\n",
       "      <td>(NEWSER) – Wonder how long a Quarter Pounder w...</td>\n",
       "    </tr>\n",
       "    <tr>\n",
       "      <th>3</th>\n",
       "      <td>6</td>\n",
       "      <td>Posting photos of a gun-toting child online, I...</td>\n",
       "    </tr>\n",
       "    <tr>\n",
       "      <th>4</th>\n",
       "      <td>7</td>\n",
       "      <td>At least 25 suspected Boko Haram insurgents we...</td>\n",
       "    </tr>\n",
       "    <tr>\n",
       "      <th>5</th>\n",
       "      <td>8</td>\n",
       "      <td>There is so much fake stuff on the Internet in...</td>\n",
       "    </tr>\n",
       "    <tr>\n",
       "      <th>6</th>\n",
       "      <td>9</td>\n",
       "      <td>(CNN) -- A meteorite crashed down in Managua, ...</td>\n",
       "    </tr>\n",
       "    <tr>\n",
       "      <th>7</th>\n",
       "      <td>10</td>\n",
       "      <td>Move over, Netflix and Hulu.\\nWord has it that...</td>\n",
       "    </tr>\n",
       "    <tr>\n",
       "      <th>8</th>\n",
       "      <td>11</td>\n",
       "      <td>We’ve all seen the traditional depictions of G...</td>\n",
       "    </tr>\n",
       "    <tr>\n",
       "      <th>9</th>\n",
       "      <td>13</td>\n",
       "      <td>A SOLDIER has been shot at Canada’s National W...</td>\n",
       "    </tr>\n",
       "  </tbody>\n",
       "</table>\n",
       "</div>"
      ],
      "text/plain": [
       "   Body ID                                        articleBody\n",
       "0        0  A small meteorite crashed into a wooded area i...\n",
       "1        4  Last week we hinted at what was to come as Ebo...\n",
       "2        5  (NEWSER) – Wonder how long a Quarter Pounder w...\n",
       "3        6  Posting photos of a gun-toting child online, I...\n",
       "4        7  At least 25 suspected Boko Haram insurgents we...\n",
       "5        8  There is so much fake stuff on the Internet in...\n",
       "6        9  (CNN) -- A meteorite crashed down in Managua, ...\n",
       "7       10  Move over, Netflix and Hulu.\\nWord has it that...\n",
       "8       11  We’ve all seen the traditional depictions of G...\n",
       "9       13  A SOLDIER has been shot at Canada’s National W..."
      ]
     },
     "execution_count": 3,
     "metadata": {},
     "output_type": "execute_result"
    }
   ],
   "source": [
    "train_data_body=pd.read_csv(\"fnc-1-master/train_bodies.csv\")\n",
    "train_data_body.head(10)"
   ]
  },
  {
   "cell_type": "code",
   "execution_count": 4,
   "metadata": {
    "colab": {
     "base_uri": "https://localhost:8080/",
     "height": 355
    },
    "executionInfo": {
     "elapsed": 1128,
     "status": "ok",
     "timestamp": 1606057637846,
     "user": {
      "displayName": "Tanmay Jain",
      "photoUrl": "https://lh3.googleusercontent.com/a-/AOh14GjC2ndIGIMHilfWwgUcxfoOD32LD9plIIRrs_PLYw=s64",
      "userId": "17300627337889729528"
     },
     "user_tz": -330
    },
    "id": "dx8VPT245WUK",
    "outputId": "99df0307-e43c-40d7-dbf5-b48bcee38826"
   },
   "outputs": [
    {
     "data": {
      "text/html": [
       "<div>\n",
       "<style scoped>\n",
       "    .dataframe tbody tr th:only-of-type {\n",
       "        vertical-align: middle;\n",
       "    }\n",
       "\n",
       "    .dataframe tbody tr th {\n",
       "        vertical-align: top;\n",
       "    }\n",
       "\n",
       "    .dataframe thead th {\n",
       "        text-align: right;\n",
       "    }\n",
       "</style>\n",
       "<table border=\"1\" class=\"dataframe\">\n",
       "  <thead>\n",
       "    <tr style=\"text-align: right;\">\n",
       "      <th></th>\n",
       "      <th>Headline</th>\n",
       "      <th>Body ID</th>\n",
       "      <th>Stance</th>\n",
       "    </tr>\n",
       "  </thead>\n",
       "  <tbody>\n",
       "    <tr>\n",
       "      <th>0</th>\n",
       "      <td>Ferguson riots: Pregnant woman loses eye after...</td>\n",
       "      <td>2008</td>\n",
       "      <td>unrelated</td>\n",
       "    </tr>\n",
       "    <tr>\n",
       "      <th>1</th>\n",
       "      <td>Crazy Conservatives Are Sure a Gitmo Detainee ...</td>\n",
       "      <td>1550</td>\n",
       "      <td>unrelated</td>\n",
       "    </tr>\n",
       "    <tr>\n",
       "      <th>2</th>\n",
       "      <td>A Russian Guy Says His Justin Bieber Ringtone ...</td>\n",
       "      <td>2</td>\n",
       "      <td>unrelated</td>\n",
       "    </tr>\n",
       "    <tr>\n",
       "      <th>3</th>\n",
       "      <td>Zombie Cat: Buried Kitty Believed Dead, Meows ...</td>\n",
       "      <td>1793</td>\n",
       "      <td>unrelated</td>\n",
       "    </tr>\n",
       "    <tr>\n",
       "      <th>4</th>\n",
       "      <td>Argentina's President Adopts Boy to End Werewo...</td>\n",
       "      <td>37</td>\n",
       "      <td>unrelated</td>\n",
       "    </tr>\n",
       "    <tr>\n",
       "      <th>5</th>\n",
       "      <td>Next-generation Apple iPhones' features leaked</td>\n",
       "      <td>2353</td>\n",
       "      <td>unrelated</td>\n",
       "    </tr>\n",
       "    <tr>\n",
       "      <th>6</th>\n",
       "      <td>Saudi national airline may introduce gender se...</td>\n",
       "      <td>192</td>\n",
       "      <td>unrelated</td>\n",
       "    </tr>\n",
       "    <tr>\n",
       "      <th>7</th>\n",
       "      <td>'Zombie Cat' Claws Way Out Of Grave And Into O...</td>\n",
       "      <td>2482</td>\n",
       "      <td>unrelated</td>\n",
       "    </tr>\n",
       "    <tr>\n",
       "      <th>8</th>\n",
       "      <td>ISIS might be harvesting organs, Iraq tells UN</td>\n",
       "      <td>250</td>\n",
       "      <td>unrelated</td>\n",
       "    </tr>\n",
       "    <tr>\n",
       "      <th>9</th>\n",
       "      <td>Woman has surgery to get third breast: The thr...</td>\n",
       "      <td>85</td>\n",
       "      <td>unrelated</td>\n",
       "    </tr>\n",
       "  </tbody>\n",
       "</table>\n",
       "</div>"
      ],
      "text/plain": [
       "                                            Headline  Body ID     Stance\n",
       "0  Ferguson riots: Pregnant woman loses eye after...     2008  unrelated\n",
       "1  Crazy Conservatives Are Sure a Gitmo Detainee ...     1550  unrelated\n",
       "2  A Russian Guy Says His Justin Bieber Ringtone ...        2  unrelated\n",
       "3  Zombie Cat: Buried Kitty Believed Dead, Meows ...     1793  unrelated\n",
       "4  Argentina's President Adopts Boy to End Werewo...       37  unrelated\n",
       "5     Next-generation Apple iPhones' features leaked     2353  unrelated\n",
       "6  Saudi national airline may introduce gender se...      192  unrelated\n",
       "7  'Zombie Cat' Claws Way Out Of Grave And Into O...     2482  unrelated\n",
       "8     ISIS might be harvesting organs, Iraq tells UN      250  unrelated\n",
       "9  Woman has surgery to get third breast: The thr...       85  unrelated"
      ]
     },
     "execution_count": 4,
     "metadata": {},
     "output_type": "execute_result"
    }
   ],
   "source": [
    "test_data=pd.read_csv(\"fnc-1-master/competition_test_stances.csv\")\n",
    "test_data.head(10)"
   ]
  },
  {
   "cell_type": "code",
   "execution_count": 5,
   "metadata": {
    "colab": {
     "base_uri": "https://localhost:8080/",
     "height": 355
    },
    "executionInfo": {
     "elapsed": 1745,
     "status": "ok",
     "timestamp": 1606057638799,
     "user": {
      "displayName": "Tanmay Jain",
      "photoUrl": "https://lh3.googleusercontent.com/a-/AOh14GjC2ndIGIMHilfWwgUcxfoOD32LD9plIIRrs_PLYw=s64",
      "userId": "17300627337889729528"
     },
     "user_tz": -330
    },
    "id": "HlcXoKzn5rwu",
    "outputId": "8e1d5c1a-6c0e-48d5-f1b7-6a29d3609c09"
   },
   "outputs": [
    {
     "data": {
      "text/html": [
       "<div>\n",
       "<style scoped>\n",
       "    .dataframe tbody tr th:only-of-type {\n",
       "        vertical-align: middle;\n",
       "    }\n",
       "\n",
       "    .dataframe tbody tr th {\n",
       "        vertical-align: top;\n",
       "    }\n",
       "\n",
       "    .dataframe thead th {\n",
       "        text-align: right;\n",
       "    }\n",
       "</style>\n",
       "<table border=\"1\" class=\"dataframe\">\n",
       "  <thead>\n",
       "    <tr style=\"text-align: right;\">\n",
       "      <th></th>\n",
       "      <th>Body ID</th>\n",
       "      <th>articleBody</th>\n",
       "    </tr>\n",
       "  </thead>\n",
       "  <tbody>\n",
       "    <tr>\n",
       "      <th>0</th>\n",
       "      <td>1</td>\n",
       "      <td>Al-Sisi has denied Israeli reports stating tha...</td>\n",
       "    </tr>\n",
       "    <tr>\n",
       "      <th>1</th>\n",
       "      <td>2</td>\n",
       "      <td>A bereaved Afghan mother took revenge on the T...</td>\n",
       "    </tr>\n",
       "    <tr>\n",
       "      <th>2</th>\n",
       "      <td>3</td>\n",
       "      <td>CNBC is reporting Tesla has chosen Nevada as t...</td>\n",
       "    </tr>\n",
       "    <tr>\n",
       "      <th>3</th>\n",
       "      <td>12</td>\n",
       "      <td>A 4-inch version of the iPhone 6 is said to be...</td>\n",
       "    </tr>\n",
       "    <tr>\n",
       "      <th>4</th>\n",
       "      <td>19</td>\n",
       "      <td>GR editor’s Note\\n\\nThere are no reports in th...</td>\n",
       "    </tr>\n",
       "    <tr>\n",
       "      <th>5</th>\n",
       "      <td>20</td>\n",
       "      <td>“I once sent Tim an email about the quality of...</td>\n",
       "    </tr>\n",
       "    <tr>\n",
       "      <th>6</th>\n",
       "      <td>21</td>\n",
       "      <td>Absolutely no one was devastated when news bro...</td>\n",
       "    </tr>\n",
       "    <tr>\n",
       "      <th>7</th>\n",
       "      <td>28</td>\n",
       "      <td>In designing its first wearable device in the ...</td>\n",
       "    </tr>\n",
       "    <tr>\n",
       "      <th>8</th>\n",
       "      <td>31</td>\n",
       "      <td>The picture of a possible \"Crabzilla\" measurin...</td>\n",
       "    </tr>\n",
       "    <tr>\n",
       "      <th>9</th>\n",
       "      <td>33</td>\n",
       "      <td>Early Tuesday morning, Dornella Conner was “ri...</td>\n",
       "    </tr>\n",
       "  </tbody>\n",
       "</table>\n",
       "</div>"
      ],
      "text/plain": [
       "   Body ID                                        articleBody\n",
       "0        1  Al-Sisi has denied Israeli reports stating tha...\n",
       "1        2  A bereaved Afghan mother took revenge on the T...\n",
       "2        3  CNBC is reporting Tesla has chosen Nevada as t...\n",
       "3       12  A 4-inch version of the iPhone 6 is said to be...\n",
       "4       19  GR editor’s Note\\n\\nThere are no reports in th...\n",
       "5       20  “I once sent Tim an email about the quality of...\n",
       "6       21  Absolutely no one was devastated when news bro...\n",
       "7       28  In designing its first wearable device in the ...\n",
       "8       31  The picture of a possible \"Crabzilla\" measurin...\n",
       "9       33  Early Tuesday morning, Dornella Conner was “ri..."
      ]
     },
     "execution_count": 5,
     "metadata": {},
     "output_type": "execute_result"
    }
   ],
   "source": [
    "test_data_body=pd.read_csv(\"fnc-1-master/competition_test_bodies.csv\")\n",
    "test_data_body.head(10)"
   ]
  },
  {
   "cell_type": "code",
   "execution_count": 6,
   "metadata": {
    "executionInfo": {
     "elapsed": 2210,
     "status": "ok",
     "timestamp": 1606057641184,
     "user": {
      "displayName": "Tanmay Jain",
      "photoUrl": "https://lh3.googleusercontent.com/a-/AOh14GjC2ndIGIMHilfWwgUcxfoOD32LD9plIIRrs_PLYw=s64",
      "userId": "17300627337889729528"
     },
     "user_tz": -330
    },
    "id": "YKtMX_MnZKi8"
   },
   "outputs": [],
   "source": [
    "train_dic={}\n",
    "for idx,id in enumerate(train_data_body['Body ID']):\n",
    "    if id not in train_dic:\n",
    "        train_dic[id]=train_data_body['articleBody'][idx]"
   ]
  },
  {
   "cell_type": "code",
   "execution_count": 7,
   "metadata": {
    "executionInfo": {
     "elapsed": 1190,
     "status": "ok",
     "timestamp": 1606057641186,
     "user": {
      "displayName": "Tanmay Jain",
      "photoUrl": "https://lh3.googleusercontent.com/a-/AOh14GjC2ndIGIMHilfWwgUcxfoOD32LD9plIIRrs_PLYw=s64",
      "userId": "17300627337889729528"
     },
     "user_tz": -330
    },
    "id": "7SBtHZ0KZKi9"
   },
   "outputs": [],
   "source": [
    "test_dic={}\n",
    "for idx,id in enumerate(test_data_body['Body ID']):\n",
    "    if id not in test_dic:\n",
    "        test_dic[id]=test_data_body['articleBody'][idx]"
   ]
  },
  {
   "cell_type": "code",
   "execution_count": 8,
   "metadata": {
    "colab": {
     "base_uri": "https://localhost:8080/",
     "height": 35
    },
    "executionInfo": {
     "elapsed": 1345,
     "status": "ok",
     "timestamp": 1606057641822,
     "user": {
      "displayName": "Tanmay Jain",
      "photoUrl": "https://lh3.googleusercontent.com/a-/AOh14GjC2ndIGIMHilfWwgUcxfoOD32LD9plIIRrs_PLYw=s64",
      "userId": "17300627337889729528"
     },
     "user_tz": -330
    },
    "id": "mWonoiri8GOn",
    "outputId": "f5e8b9ca-aa7f-4c50-fe36-fab1f272964f"
   },
   "outputs": [
    {
     "data": {
      "text/plain": [
       "'Al-Sisi has denied Israeli reports stating that he offered to extend the Gaza Strip.'"
      ]
     },
     "execution_count": 8,
     "metadata": {},
     "output_type": "execute_result"
    }
   ],
   "source": [
    "test_dic[1]"
   ]
  },
  {
   "cell_type": "code",
   "execution_count": 9,
   "metadata": {
    "colab": {
     "base_uri": "https://localhost:8080/",
     "height": 139
    },
    "executionInfo": {
     "elapsed": 1206,
     "status": "ok",
     "timestamp": 1606057643553,
     "user": {
      "displayName": "Tanmay Jain",
      "photoUrl": "https://lh3.googleusercontent.com/a-/AOh14GjC2ndIGIMHilfWwgUcxfoOD32LD9plIIRrs_PLYw=s64",
      "userId": "17300627337889729528"
     },
     "user_tz": -330
    },
    "id": "RAMk83_l8L4r",
    "outputId": "70656c2b-79bc-4352-f0dc-ebb272235026"
   },
   "outputs": [
    {
     "data": {
      "text/plain": [
       "'A small meteorite crashed into a wooded area in Nicaragua\\'s capital of Managua overnight, the government said Sunday. Residents reported hearing a mysterious boom that left a 16-foot deep crater near the city\\'s airport, the Associated Press reports. \\n\\nGovernment spokeswoman Rosario Murillo said a committee formed by the government to study the event determined it was a \"relatively small\" meteorite that \"appears to have come off an asteroid that was passing close to Earth.\" House-sized asteroid 2014 RC, which measured 60 feet in diameter, skimmed the Earth this weekend, ABC News reports. \\nMurillo said Nicaragua will ask international experts to help local scientists in understanding what happened.\\n\\nThe crater left by the meteorite had a radius of 39 feet and a depth of 16 feet,  said Humberto Saballos, a volcanologist with the Nicaraguan Institute of Territorial Studies who was on the committee. He said it is still not clear if the meteorite disintegrated or was buried.\\n\\nHumberto Garcia, of the Astronomy Center at the National Autonomous University of Nicaragua, said the meteorite could be related to an asteroid that was forecast to pass by the planet Saturday night.\\n\\n\"We have to study it more because it could be ice or rock,\" he said.\\n\\nWilfried Strauch, an adviser to the Institute of Territorial Studies, said it was \"very strange that no one reported a streak of light. We have to ask if anyone has a photo or something.\"\\n\\nLocal residents reported hearing a loud boom Saturday night, but said they didn\\'t see anything strange in the sky.\\n\\n\"I was sitting on my porch and I saw nothing, then all of a sudden I heard a large blast. We thought it was a bomb because we felt an expansive wave,\" Jorge Santamaria told The Associated Press.\\n\\nThe site of the crater is near Managua\\'s international airport and an air force base. Only journalists from state media were allowed to visit it.'"
      ]
     },
     "execution_count": 9,
     "metadata": {},
     "output_type": "execute_result"
    }
   ],
   "source": [
    "train_dic[0]"
   ]
  },
  {
   "cell_type": "code",
   "execution_count": 10,
   "metadata": {
    "executionInfo": {
     "elapsed": 938,
     "status": "ok",
     "timestamp": 1606057645348,
     "user": {
      "displayName": "Tanmay Jain",
      "photoUrl": "https://lh3.googleusercontent.com/a-/AOh14GjC2ndIGIMHilfWwgUcxfoOD32LD9plIIRrs_PLYw=s64",
      "userId": "17300627337889729528"
     },
     "user_tz": -330
    },
    "id": "8XXCzAP6ZKi9"
   },
   "outputs": [],
   "source": [
    "# Get the headlines of data points\n",
    "def get_headlines(data):\n",
    "    headlines = []\n",
    "    for i in range(len(data)):\n",
    "        headlines.append(data['Headline'][i])\n",
    "    return headlines"
   ]
  },
  {
   "cell_type": "code",
   "execution_count": 11,
   "metadata": {
    "executionInfo": {
     "elapsed": 1875,
     "status": "ok",
     "timestamp": 1606057646779,
     "user": {
      "displayName": "Tanmay Jain",
      "photoUrl": "https://lh3.googleusercontent.com/a-/AOh14GjC2ndIGIMHilfWwgUcxfoOD32LD9plIIRrs_PLYw=s64",
      "userId": "17300627337889729528"
     },
     "user_tz": -330
    },
    "id": "rPrWHmG1ZKi9"
   },
   "outputs": [],
   "source": [
    "# Get the articles of data points\n",
    "def get_articles(data,tmp):\n",
    "    tmp=int(tmp)\n",
    "    articles=[]\n",
    "    if (tmp==1):\n",
    "        for i in range(len(data)):\n",
    "            articles.append(train_dic[data['Body ID'][i]])\n",
    "    else:\n",
    "        for i in range(len(data)):\n",
    "            articles.append(test_dic[data['Body ID'][i]])\n",
    "    return articles"
   ]
  },
  {
   "cell_type": "code",
   "execution_count": 12,
   "metadata": {
    "executionInfo": {
     "elapsed": 1438,
     "status": "ok",
     "timestamp": 1606057647500,
     "user": {
      "displayName": "Tanmay Jain",
      "photoUrl": "https://lh3.googleusercontent.com/a-/AOh14GjC2ndIGIMHilfWwgUcxfoOD32LD9plIIRrs_PLYw=s64",
      "userId": "17300627337889729528"
     },
     "user_tz": -330
    },
    "id": "0DCJ8LBUZKi9"
   },
   "outputs": [],
   "source": [
    "# Get the stances of data points\n",
    "def get_stances(data):\n",
    "    stances = []\n",
    "    for i in range(len(data)):\n",
    "        stances.append(data['Stance'][i])\n",
    "    return stances"
   ]
  },
  {
   "cell_type": "code",
   "execution_count": 13,
   "metadata": {
    "executionInfo": {
     "elapsed": 2277,
     "status": "ok",
     "timestamp": 1606057649664,
     "user": {
      "displayName": "Tanmay Jain",
      "photoUrl": "https://lh3.googleusercontent.com/a-/AOh14GjC2ndIGIMHilfWwgUcxfoOD32LD9plIIRrs_PLYw=s64",
      "userId": "17300627337889729528"
     },
     "user_tz": -330
    },
    "id": "HAMKNPt0ZKi9"
   },
   "outputs": [],
   "source": [
    "train_headlines=get_headlines(train_data)\n",
    "test_headlines=get_headlines(test_data)"
   ]
  },
  {
   "cell_type": "code",
   "execution_count": 14,
   "metadata": {
    "executionInfo": {
     "elapsed": 1680,
     "status": "ok",
     "timestamp": 1606057650169,
     "user": {
      "displayName": "Tanmay Jain",
      "photoUrl": "https://lh3.googleusercontent.com/a-/AOh14GjC2ndIGIMHilfWwgUcxfoOD32LD9plIIRrs_PLYw=s64",
      "userId": "17300627337889729528"
     },
     "user_tz": -330
    },
    "id": "kq3_eSEUZKi9"
   },
   "outputs": [],
   "source": [
    "train_bodies=get_articles(train_data,1)\n",
    "test_bodies=get_articles(test_data,0)"
   ]
  },
  {
   "cell_type": "code",
   "execution_count": 15,
   "metadata": {
    "executionInfo": {
     "elapsed": 1877,
     "status": "ok",
     "timestamp": 1606057651210,
     "user": {
      "displayName": "Tanmay Jain",
      "photoUrl": "https://lh3.googleusercontent.com/a-/AOh14GjC2ndIGIMHilfWwgUcxfoOD32LD9plIIRrs_PLYw=s64",
      "userId": "17300627337889729528"
     },
     "user_tz": -330
    },
    "id": "VcYriXnMZKi9"
   },
   "outputs": [],
   "source": [
    "train_stances=get_stances(train_data)\n",
    "test_stances=get_stances(test_data)"
   ]
  },
  {
   "cell_type": "code",
   "execution_count": 16,
   "metadata": {
    "colab": {
     "base_uri": "https://localhost:8080/"
    },
    "executionInfo": {
     "elapsed": 1488,
     "status": "ok",
     "timestamp": 1606057651212,
     "user": {
      "displayName": "Tanmay Jain",
      "photoUrl": "https://lh3.googleusercontent.com/a-/AOh14GjC2ndIGIMHilfWwgUcxfoOD32LD9plIIRrs_PLYw=s64",
      "userId": "17300627337889729528"
     },
     "user_tz": -330
    },
    "id": "mdk2CArGZKi9",
    "outputId": "94ea5539-30ce-4d22-e24d-3e70714c4718"
   },
   "outputs": [
    {
     "name": "stdout",
     "output_type": "stream",
     "text": [
      "49972 49972 49972\n",
      "25413 25413 25413\n"
     ]
    }
   ],
   "source": [
    "print(len(train_headlines),len(train_bodies),len(train_stances))\n",
    "print(len(test_headlines),len(test_bodies),len(test_stances))"
   ]
  },
  {
   "cell_type": "code",
   "execution_count": 17,
   "metadata": {},
   "outputs": [
    {
     "name": "stdout",
     "output_type": "stream",
     "text": [
      "Police find mass graves with at least '15 bodies' near Mexico town where 43 students disappeared after police clash\n",
      "Ferguson riots: Pregnant woman loses eye after cops fire BEAN BAG round through car window\n"
     ]
    }
   ],
   "source": [
    "print(train_headlines[0])\n",
    "print(test_headlines[0])"
   ]
  },
  {
   "cell_type": "code",
   "execution_count": 18,
   "metadata": {},
   "outputs": [],
   "source": [
    "#nltk.download('stopwords')\n",
    "stopword=set(stopwords.words('english'))             ## some defined stopwords\n",
    "def remove_stopwords(string):   \n",
    "    new_text = \"\"\n",
    "    wordss=nltk.word_tokenize(string)\n",
    "    for word in wordss:\n",
    "        if word not in stopword:\n",
    "            new_text=new_text + \" \" + word\n",
    "    return new_text"
   ]
  },
  {
   "cell_type": "code",
   "execution_count": 19,
   "metadata": {},
   "outputs": [],
   "source": [
    "lemmatizer = nltk.WordNetLemmatizer()\n",
    "#nltk.download('wordnet')\n",
    "def lemmatising(string):\n",
    "    new_text=\"\"\n",
    "    wordss=nltk.word_tokenize(string)\n",
    "    for word in wordss:\n",
    "        new_text=new_text + \" \" + lemmatizer.lemmatize(word,pos=\"v\").lower()\n",
    "    return new_text"
   ]
  },
  {
   "cell_type": "code",
   "execution_count": 20,
   "metadata": {},
   "outputs": [],
   "source": [
    "def remove_punctuation(string):\n",
    "    symbols = \"!\\\"#$%&()*+-./:;<=>?@[\\]^_`{|}~\\n\"\n",
    "    for i in symbols:\n",
    "        string = np.char.replace(string, i, ' ')\n",
    "    return string"
   ]
  },
  {
   "cell_type": "code",
   "execution_count": 21,
   "metadata": {},
   "outputs": [],
   "source": [
    "def preprocess(string):\n",
    "    string = \" \".join(re.findall(r'\\w+', string, flags=re.UNICODE)).lower()        ## to lowercase, non-alphanumeric removal\n",
    "    string = remove_punctuation(string)\n",
    "    string=np.char.replace(string, \"'\", \"\")\n",
    "    string=str(string)\n",
    "    #data = remove_single_characters(data)\n",
    "    #data = convert_numbers(data)\n",
    "    string=remove_stopwords(string)\n",
    "    string=lemmatising(string)\n",
    "    string = remove_punctuation(string)\n",
    "    string=str(string)\n",
    "    return string"
   ]
  },
  {
   "cell_type": "code",
   "execution_count": 22,
   "metadata": {},
   "outputs": [
    {
     "data": {
      "text/plain": [
       "' heloo study'"
      ]
     },
     "execution_count": 22,
     "metadata": {},
     "output_type": "execute_result"
    }
   ],
   "source": [
    "preprocess(\"Heloo I am //Studying \")"
   ]
  },
  {
   "cell_type": "code",
   "execution_count": 23,
   "metadata": {
    "executionInfo": {
     "elapsed": 1855,
     "status": "ok",
     "timestamp": 1606057653238,
     "user": {
      "displayName": "Tanmay Jain",
      "photoUrl": "https://lh3.googleusercontent.com/a-/AOh14GjC2ndIGIMHilfWwgUcxfoOD32LD9plIIRrs_PLYw=s64",
      "userId": "17300627337889729528"
     },
     "user_tz": -330
    },
    "id": "aC2s6TGiZKi-"
   },
   "outputs": [],
   "source": [
    "def preprocess_data(data):\n",
    "    new_data=[]\n",
    "    for text in data:\n",
    "        new_data.append(preprocess(text))\n",
    "    return new_data"
   ]
  },
  {
   "cell_type": "code",
   "execution_count": 24,
   "metadata": {},
   "outputs": [
    {
     "name": "stdout",
     "output_type": "stream",
     "text": [
      "Training Preprocessing Start\n",
      "Training Preprocessing Done\n",
      "Testing Preprocessing Start\n",
      "Testing Preprocessing Done\n",
      "49972 49972 49972\n",
      "25413 25413 25413\n"
     ]
    }
   ],
   "source": [
    "print(\"Training Preprocessing Start\")\n",
    "train_headlines=preprocess_data(train_headlines)\n",
    "train_bodies=preprocess_data(train_bodies)\n",
    "print(\"Training Preprocessing Done\")\n",
    "\n",
    "print(\"Testing Preprocessing Start\")\n",
    "test_headlines=preprocess_data(test_headlines)\n",
    "test_bodies=preprocess_data(test_bodies)\n",
    "print(\"Testing Preprocessing Done\")\n",
    "\n",
    "print(len(train_headlines),len(train_bodies),len(train_stances))\n",
    "print(len(test_headlines),len(test_bodies),len(test_stances))"
   ]
  },
  {
   "cell_type": "code",
   "execution_count": 28,
   "metadata": {},
   "outputs": [
    {
     "name": "stdout",
     "output_type": "stream",
     "text": [
      " police find mass grave least 15 body near mexico town 43 students disappear police clash\n",
      " ferguson riot pregnant woman lose eye cop fire bean bag round car window\n"
     ]
    }
   ],
   "source": [
    "print(train_headlines[0])\n",
    "print(test_headlines[0])"
   ]
  },
  {
   "cell_type": "code",
   "execution_count": 26,
   "metadata": {},
   "outputs": [],
   "source": [
    "def save_file(data,output_file_name):\n",
    "    df=pd.DataFrame(np.array(data))\n",
    "    print(df)\n",
    "    df.to_csv(output_file_name,index=False)"
   ]
  },
  {
   "cell_type": "code",
   "execution_count": 28,
   "metadata": {},
   "outputs": [
    {
     "name": "stdout",
     "output_type": "stream",
     "text": [
      "                                                       0\n",
      "0       police find mass grave least 15 body near mex...\n",
      "1       hundreds palestinians flee flood gaza israel ...\n",
      "2       christian bale pass role steve job actor repo...\n",
      "3       hbo apple talk 15 month apple tv stream servi...\n",
      "4                    spider burrow tourist stomach chest\n",
      "...                                                  ...\n",
      "49967   urgent leader isil abu bakr al baghdadi kill ...\n",
      "49968   brian williams slam social media speculation ...\n",
      "49969     mexico say miss students find first mass grave\n",
      "49970   us lawmaker ten isis fighters apprehend come ...\n",
      "49971         shots hear allege brown shoot record audio\n",
      "\n",
      "[49972 rows x 1 columns]\n",
      "                                                       0\n",
      "0       ferguson riot pregnant woman lose eye cop fir...\n",
      "1       crazy conservatives sure gitmo detainee kill ...\n",
      "2       russian guy say justin bieber ringtone save b...\n",
      "3       zombie cat bury kitty believe dead meow back ...\n",
      "4       argentina president adopt boy end werewolf curse\n",
      "...                                                  ...\n",
      "25408   success affordable care act hugely inconvenie...\n",
      "25409   success affordable care act hugely inconvenie...\n",
      "25410   success affordable care act hugely inconvenie...\n",
      "25411   success affordable care act hugely inconvenie...\n",
      "25412   success affordable care act hugely inconvenie...\n",
      "\n",
      "[25413 rows x 1 columns]\n",
      "                                                       0\n",
      "0       danny boyle direct untitled film seth rogen e...\n",
      "1       hundreds palestinians evacuate home sunday mo...\n",
      "2       30 year old moscow resident hospitalize wound...\n",
      "3       reuters canadian soldier shoot canadian war m...\n",
      "4       fear arachnophobes story bunbury spiderman mi...\n",
      "...                                                  ...\n",
      "49967   cnn boko haram laugh nigeria announcement cea...\n",
      "49968   along unveil apple watch earlier year company...\n",
      "49969         body find mass grave confirm miss students\n",
      "49970   rep duncan hunter r ca tell greta van sustere...\n",
      "49971   marry tv actor meet young woman kiss sauna wa...\n",
      "\n",
      "[49972 rows x 1 columns]\n",
      "                                                       0\n",
      "0       respect senior french police officer investig...\n",
      "1       dave morin social network company path report...\n",
      "2       bereave afghan mother take revenge taliban wa...\n",
      "3       hewlett packard officially split two follow r...\n",
      "4       airline passenger head dallas remove plane la...\n",
      "...                                                  ...\n",
      "25408   congressional republicans evidently hop repea...\n",
      "25409   obamacare work worth reflect upon president t...\n",
      "25410   millions may lose coverage next year congress...\n",
      "25411   come november grim trudge across increasingly...\n",
      "25412   remember much republicans want repeal obamaca...\n",
      "\n",
      "[25413 rows x 1 columns]\n",
      "               0\n",
      "0      unrelated\n",
      "1          agree\n",
      "2      unrelated\n",
      "3      unrelated\n",
      "4       disagree\n",
      "...          ...\n",
      "49967  unrelated\n",
      "49968  unrelated\n",
      "49969      agree\n",
      "49970    discuss\n",
      "49971  unrelated\n",
      "\n",
      "[49972 rows x 1 columns]\n",
      "               0\n",
      "0      unrelated\n",
      "1      unrelated\n",
      "2      unrelated\n",
      "3      unrelated\n",
      "4      unrelated\n",
      "...          ...\n",
      "25408      agree\n",
      "25409    discuss\n",
      "25410   disagree\n",
      "25411   disagree\n",
      "25412      agree\n",
      "\n",
      "[25413 rows x 1 columns]\n"
     ]
    }
   ],
   "source": [
    "save_file(train_headlines,\"Preprocessed Train Headlines.csv\")\n",
    "save_file(test_headlines,\"Preprocessed Test Headlines.csv\")\n",
    "save_file(train_bodies,\"Preprocessed Train Bodies.csv\")\n",
    "save_file(test_bodies,\"Preprocessed Test Bodies.csv\")\n",
    "save_file(train_stances,\"Train Stances.csv\")\n",
    "save_file(test_stances,\"Test stances.csv\")"
   ]
  },
  {
   "cell_type": "code",
   "execution_count": 52,
   "metadata": {
    "executionInfo": {
     "elapsed": 1320,
     "status": "ok",
     "timestamp": 1606057839928,
     "user": {
      "displayName": "Tanmay Jain",
      "photoUrl": "https://lh3.googleusercontent.com/a-/AOh14GjC2ndIGIMHilfWwgUcxfoOD32LD9plIIRrs_PLYw=s64",
      "userId": "17300627337889729528"
     },
     "user_tz": -330
    },
    "id": "FTt-rfRuf0Aa"
   },
   "outputs": [],
   "source": [
    "# Function for extracting tf-idf vectors (for both the bodies and the headlines).\n",
    "def extract_tfidf(bodies,headlines):\n",
    "    \n",
    "    #constant_filter = VarianceThreshold(threshold = 0.0002)\n",
    "\n",
    "    # Body vectorisation\n",
    "    body_vectorizer = TfidfVectorizer(ngram_range=(1, 2), min_df=2, max_df=0.5 , lowercase=True, stop_words='english', max_features=1024)\n",
    "    bodies_tfidf = body_vectorizer.fit_transform(bodies)\n",
    "    #new_bodies_tfidf=constant_filter.fit_transform(bodies_tfidf)\n",
    "    #new_bodies_tfidf_cols=np.array(constant_filter.get_support(indices=True))\n",
    "\n",
    "    # Headline vectorisation\n",
    "    headline_vectorizer = TfidfVectorizer(ngram_range=(1, 2), min_df=2, max_df=0.5,lowercase=True, stop_words='english',max_features=1024)\n",
    "    headlines_tfidf = headline_vectorizer.fit_transform(headlines)\n",
    "    #new_headlines_tfidf=constant_filter.fit_transform(headlines_tfidf)\n",
    "      \n",
    "    print(bodies_tfidf.shape,headlines_tfidf.shape)\n",
    "    \n",
    "    feature_names = np.array(headline_vectorizer.get_feature_names())\n",
    "    sorted_by_idf = np.argsort(headline_vectorizer.idf_) \n",
    "    print('\\n\\nFeatures with lowest and highest idf in the headline vector')\n",
    "    print(\"\\nFeatures with lowest idf:{}\".format(feature_names[sorted_by_idf[:10]]))\n",
    "    print(\"\\nFeatures with highest idf:{}\".format(feature_names[sorted_by_idf[-10:]]))\n",
    "\n",
    "    \n",
    "    feature_names = np.array(body_vectorizer.get_feature_names())\n",
    "    sorted_by_idf = np.argsort(body_vectorizer.idf_) \n",
    "    print('\\n\\nFeatures with lowest and highest idf in the body vector')\n",
    "    print(\"\\nFeatures with lowest idf:{}\".format(feature_names[sorted_by_idf[:10]]))\n",
    "    print(\"\\nFeatures with highest idf:{}\".format(feature_names[sorted_by_idf[-10:]]))\n",
    "\n",
    "\n",
    "    return bodies_tfidf, headlines_tfidf"
   ]
  },
  {
   "cell_type": "code",
   "execution_count": 53,
   "metadata": {
    "colab": {
     "base_uri": "https://localhost:8080/"
    },
    "executionInfo": {
     "elapsed": 23333,
     "status": "ok",
     "timestamp": 1606057862359,
     "user": {
      "displayName": "Tanmay Jain",
      "photoUrl": "https://lh3.googleusercontent.com/a-/AOh14GjC2ndIGIMHilfWwgUcxfoOD32LD9plIIRrs_PLYw=s64",
      "userId": "17300627337889729528"
     },
     "user_tz": -330
    },
    "id": "8rMP1nx-ZKi-",
    "outputId": "1eed62be-3dc2-4685-8c66-a5c7173058ac"
   },
   "outputs": [
    {
     "name": "stdout",
     "output_type": "stream",
     "text": [
      "(49972, 1024) (49972, 1024)\n",
      "\n",
      "\n",
      "Features with lowest and highest idf in the headline vector\n",
      "\n",
      "Features with lowest idf:['isis' 'report' 'say' 'behead' 'claim' 'foley' 'shoot' 'video'\n",
      " 'journalist' 'jam']\n",
      "\n",
      "Features with highest idf:['rat vogue' 'identify isis' 'foot' 'delivery' 'catfish' 'libya'\n",
      " 'darkness' 'british rapper' 'scottish' 'foley executioner']\n",
      "\n",
      "\n",
      "Features with lowest and highest idf in the body vector\n",
      "\n",
      "Features with lowest idf:['tell' 'time' 'make' 'people' 'come' 'accord' 'year' 'state' 'know'\n",
      " 'news']\n",
      "\n",
      "Features with highest idf:['espn' 'castro' 'chandler' 'phelps' 'kfc' 'vickers' 'somers' 'mueller'\n",
      " 'hbo' 'catfish']\n"
     ]
    }
   ],
   "source": [
    "train_bodies_tfidf,train_headlines_tfidf=extract_tfidf(train_bodies,train_headlines)"
   ]
  },
  {
   "cell_type": "code",
   "execution_count": 54,
   "metadata": {
    "colab": {
     "base_uri": "https://localhost:8080/"
    },
    "executionInfo": {
     "elapsed": 11420,
     "status": "ok",
     "timestamp": 1606057881078,
     "user": {
      "displayName": "Tanmay Jain",
      "photoUrl": "https://lh3.googleusercontent.com/a-/AOh14GjC2ndIGIMHilfWwgUcxfoOD32LD9plIIRrs_PLYw=s64",
      "userId": "17300627337889729528"
     },
     "user_tz": -330
    },
    "id": "D_WzjSJegP01",
    "outputId": "10cb330c-899f-4cc1-f479-30aaed254e17"
   },
   "outputs": [
    {
     "name": "stdout",
     "output_type": "stream",
     "text": [
      "(25413, 1024) (25413, 1024)\n",
      "\n",
      "\n",
      "Features with lowest and highest idf in the headline vector\n",
      "\n",
      "Features with lowest idf:['report' 'isis' 'woman' 'selfie' 'joan' 'joan rivers' 'rivers' 'doctor'\n",
      " 'behead' 'breast']\n",
      "\n",
      "Features with highest idf:['finance' 'water whitstable' 'biopsy consent' 'icon' 'icon anesthesia'\n",
      " 'com' 'rivers star' 'anesthesia cnn' 'jacksonville' 'jacksonville com']\n",
      "\n",
      "\n",
      "Features with lowest and highest idf in the body vector\n",
      "\n",
      "Features with lowest idf:['tell' 'accord' 'make' 'year' 'time' 'come' 'new' 'know' 'state' 'news']\n",
      "\n",
      "Features with highest idf:['thief' 'marines' 'al nusra' 'embassy' 'dr korovin' 'mr nash' 'ibm'\n",
      " 'hefner' 'ypj' 'qiang']\n"
     ]
    }
   ],
   "source": [
    "test_bodies_tfidf,test_headlines_tfidf=extract_tfidf(test_bodies,test_headlines)"
   ]
  },
  {
   "cell_type": "code",
   "execution_count": 25,
   "metadata": {
    "executionInfo": {
     "elapsed": 1231,
     "status": "ok",
     "timestamp": 1606057889147,
     "user": {
      "displayName": "Tanmay Jain",
      "photoUrl": "https://lh3.googleusercontent.com/a-/AOh14GjC2ndIGIMHilfWwgUcxfoOD32LD9plIIRrs_PLYw=s64",
      "userId": "17300627337889729528"
     },
     "user_tz": -330
    },
    "id": "9SAIc9mKZKi_"
   },
   "outputs": [],
   "source": [
    "# Function for extracting the cosine similarity between bodies and headlines. \n",
    "def extract_cosine_similarity(headlines, bodies):\n",
    "    \n",
    "    vectorizer = TfidfVectorizer(ngram_range=(1,2),lowercase=True, stop_words='english')\n",
    "    \n",
    "    cos_sim_features = []\n",
    "    for i in range(0, len(bodies)):\n",
    "        body_vs_headline = []\n",
    "        body_vs_headline.append(bodies[i])\n",
    "        body_vs_headline.append(headlines[i])\n",
    "        tfidf = vectorizer.fit_transform(body_vs_headline)\n",
    "        \n",
    "        cos_siml=cosine_similarity(tfidf)\n",
    "        cos_sim_features.append(cos_siml[0][1])\n",
    "        \n",
    "    # Convert the list to a sparse matrix (in order to concatenate the cos sim with other features)\n",
    "    cos_sim_array = coo_matrix(np.array(cos_sim_features))\n",
    "\n",
    "    return cos_sim_array"
   ]
  },
  {
   "cell_type": "code",
   "execution_count": 56,
   "metadata": {
    "executionInfo": {
     "elapsed": 217805,
     "status": "ok",
     "timestamp": 1606058106761,
     "user": {
      "displayName": "Tanmay Jain",
      "photoUrl": "https://lh3.googleusercontent.com/a-/AOh14GjC2ndIGIMHilfWwgUcxfoOD32LD9plIIRrs_PLYw=s64",
      "userId": "17300627337889729528"
     },
     "user_tz": -330
    },
    "id": "ml0ANRJEZKi_"
   },
   "outputs": [],
   "source": [
    "train_cos_sim=extract_cosine_similarity(train_headlines,train_bodies)\n",
    "test_cos_sim=extract_cosine_similarity(test_headlines,test_bodies)"
   ]
  },
  {
   "cell_type": "code",
   "execution_count": 57,
   "metadata": {
    "colab": {
     "base_uri": "https://localhost:8080/"
    },
    "executionInfo": {
     "elapsed": 209106,
     "status": "ok",
     "timestamp": 1606058106764,
     "user": {
      "displayName": "Tanmay Jain",
      "photoUrl": "https://lh3.googleusercontent.com/a-/AOh14GjC2ndIGIMHilfWwgUcxfoOD32LD9plIIRrs_PLYw=s64",
      "userId": "17300627337889729528"
     },
     "user_tz": -330
    },
    "id": "IWCBYadVZKi_",
    "outputId": "1900d447-2d54-41fe-ffb5-9a770abd9f3a"
   },
   "outputs": [
    {
     "name": "stdout",
     "output_type": "stream",
     "text": [
      "(1, 49972)\n",
      "(1, 25413)\n"
     ]
    }
   ],
   "source": [
    "print(train_cos_sim.shape)\n",
    "print(test_cos_sim.shape)"
   ]
  },
  {
   "cell_type": "code",
   "execution_count": 35,
   "metadata": {
    "colab": {
     "base_uri": "https://localhost:8080/",
     "height": 433
    },
    "executionInfo": {
     "elapsed": 205122,
     "status": "ok",
     "timestamp": 1606058106766,
     "user": {
      "displayName": "Tanmay Jain",
      "photoUrl": "https://lh3.googleusercontent.com/a-/AOh14GjC2ndIGIMHilfWwgUcxfoOD32LD9plIIRrs_PLYw=s64",
      "userId": "17300627337889729528"
     },
     "user_tz": -330
    },
    "id": "IMGCDC6FZKi_",
    "outputId": "d9218d78-fd17-419c-c2e9-c06132e7b7fa"
   },
   "outputs": [
    {
     "name": "stdout",
     "output_type": "stream",
     "text": [
      "(49972, 1)\n"
     ]
    },
    {
     "data": {
      "text/html": [
       "<div>\n",
       "<style scoped>\n",
       "    .dataframe tbody tr th:only-of-type {\n",
       "        vertical-align: middle;\n",
       "    }\n",
       "\n",
       "    .dataframe tbody tr th {\n",
       "        vertical-align: top;\n",
       "    }\n",
       "\n",
       "    .dataframe thead th {\n",
       "        text-align: right;\n",
       "    }\n",
       "</style>\n",
       "<table border=\"1\" class=\"dataframe\">\n",
       "  <thead>\n",
       "    <tr style=\"text-align: right;\">\n",
       "      <th></th>\n",
       "      <th>train_cosine_similarity</th>\n",
       "    </tr>\n",
       "  </thead>\n",
       "  <tbody>\n",
       "    <tr>\n",
       "      <th>0</th>\n",
       "      <td>0.000000</td>\n",
       "    </tr>\n",
       "    <tr>\n",
       "      <th>1</th>\n",
       "      <td>0.243906</td>\n",
       "    </tr>\n",
       "    <tr>\n",
       "      <th>2</th>\n",
       "      <td>0.000000</td>\n",
       "    </tr>\n",
       "    <tr>\n",
       "      <th>3</th>\n",
       "      <td>0.000000</td>\n",
       "    </tr>\n",
       "    <tr>\n",
       "      <th>4</th>\n",
       "      <td>0.083046</td>\n",
       "    </tr>\n",
       "    <tr>\n",
       "      <th>...</th>\n",
       "      <td>...</td>\n",
       "    </tr>\n",
       "    <tr>\n",
       "      <th>49967</th>\n",
       "      <td>0.013275</td>\n",
       "    </tr>\n",
       "    <tr>\n",
       "      <th>49968</th>\n",
       "      <td>0.000000</td>\n",
       "    </tr>\n",
       "    <tr>\n",
       "      <th>49969</th>\n",
       "      <td>0.377913</td>\n",
       "    </tr>\n",
       "    <tr>\n",
       "      <th>49970</th>\n",
       "      <td>0.279927</td>\n",
       "    </tr>\n",
       "    <tr>\n",
       "      <th>49971</th>\n",
       "      <td>0.000000</td>\n",
       "    </tr>\n",
       "  </tbody>\n",
       "</table>\n",
       "<p>49972 rows × 1 columns</p>\n",
       "</div>"
      ],
      "text/plain": [
       "       train_cosine_similarity\n",
       "0                     0.000000\n",
       "1                     0.243906\n",
       "2                     0.000000\n",
       "3                     0.000000\n",
       "4                     0.083046\n",
       "...                        ...\n",
       "49967                 0.013275\n",
       "49968                 0.000000\n",
       "49969                 0.377913\n",
       "49970                 0.279927\n",
       "49971                 0.000000\n",
       "\n",
       "[49972 rows x 1 columns]"
      ]
     },
     "execution_count": 35,
     "metadata": {},
     "output_type": "execute_result"
    }
   ],
   "source": [
    "train_cosine_similarity=train_cos_sim.T\n",
    "print(train_cosine_similarity.shape)\n",
    "pd.DataFrame(train_cosine_similarity.todense(),columns=['train_cosine_similarity'])"
   ]
  },
  {
   "cell_type": "code",
   "execution_count": 72,
   "metadata": {
    "colab": {
     "base_uri": "https://localhost:8080/",
     "height": 433
    },
    "executionInfo": {
     "elapsed": 204474,
     "status": "ok",
     "timestamp": 1606058106767,
     "user": {
      "displayName": "Tanmay Jain",
      "photoUrl": "https://lh3.googleusercontent.com/a-/AOh14GjC2ndIGIMHilfWwgUcxfoOD32LD9plIIRrs_PLYw=s64",
      "userId": "17300627337889729528"
     },
     "user_tz": -330
    },
    "id": "06KY-801ZKi_",
    "outputId": "d61e6359-4cf0-48dc-abc2-241d579f651b"
   },
   "outputs": [
    {
     "name": "stdout",
     "output_type": "stream",
     "text": [
      "(25413, 1)\n"
     ]
    },
    {
     "data": {
      "text/html": [
       "<div>\n",
       "<style scoped>\n",
       "    .dataframe tbody tr th:only-of-type {\n",
       "        vertical-align: middle;\n",
       "    }\n",
       "\n",
       "    .dataframe tbody tr th {\n",
       "        vertical-align: top;\n",
       "    }\n",
       "\n",
       "    .dataframe thead th {\n",
       "        text-align: right;\n",
       "    }\n",
       "</style>\n",
       "<table border=\"1\" class=\"dataframe\">\n",
       "  <thead>\n",
       "    <tr style=\"text-align: right;\">\n",
       "      <th></th>\n",
       "      <th>test_cosine_similarity</th>\n",
       "    </tr>\n",
       "  </thead>\n",
       "  <tbody>\n",
       "    <tr>\n",
       "      <th>0</th>\n",
       "      <td>0.000000</td>\n",
       "    </tr>\n",
       "    <tr>\n",
       "      <th>1</th>\n",
       "      <td>0.000000</td>\n",
       "    </tr>\n",
       "    <tr>\n",
       "      <th>2</th>\n",
       "      <td>0.011338</td>\n",
       "    </tr>\n",
       "    <tr>\n",
       "      <th>3</th>\n",
       "      <td>0.000000</td>\n",
       "    </tr>\n",
       "    <tr>\n",
       "      <th>4</th>\n",
       "      <td>0.000000</td>\n",
       "    </tr>\n",
       "    <tr>\n",
       "      <th>...</th>\n",
       "      <td>...</td>\n",
       "    </tr>\n",
       "    <tr>\n",
       "      <th>25408</th>\n",
       "      <td>0.260167</td>\n",
       "    </tr>\n",
       "    <tr>\n",
       "      <th>25409</th>\n",
       "      <td>0.059068</td>\n",
       "    </tr>\n",
       "    <tr>\n",
       "      <th>25410</th>\n",
       "      <td>0.004466</td>\n",
       "    </tr>\n",
       "    <tr>\n",
       "      <th>25411</th>\n",
       "      <td>0.036266</td>\n",
       "    </tr>\n",
       "    <tr>\n",
       "      <th>25412</th>\n",
       "      <td>0.042632</td>\n",
       "    </tr>\n",
       "  </tbody>\n",
       "</table>\n",
       "<p>25413 rows × 1 columns</p>\n",
       "</div>"
      ],
      "text/plain": [
       "       test_cosine_similarity\n",
       "0                    0.000000\n",
       "1                    0.000000\n",
       "2                    0.011338\n",
       "3                    0.000000\n",
       "4                    0.000000\n",
       "...                       ...\n",
       "25408                0.260167\n",
       "25409                0.059068\n",
       "25410                0.004466\n",
       "25411                0.036266\n",
       "25412                0.042632\n",
       "\n",
       "[25413 rows x 1 columns]"
      ]
     },
     "execution_count": 72,
     "metadata": {},
     "output_type": "execute_result"
    }
   ],
   "source": [
    "test_cosine_similarity=test_cos_sim.T\n",
    "print(test_cosine_similarity.shape)\n",
    "pd.DataFrame(test_cosine_similarity.todense(),columns=['test_cosine_similarity'])"
   ]
  },
  {
   "cell_type": "code",
   "execution_count": 73,
   "metadata": {
    "executionInfo": {
     "elapsed": 201804,
     "status": "ok",
     "timestamp": 1606058106768,
     "user": {
      "displayName": "Tanmay Jain",
      "photoUrl": "https://lh3.googleusercontent.com/a-/AOh14GjC2ndIGIMHilfWwgUcxfoOD32LD9plIIRrs_PLYw=s64",
      "userId": "17300627337889729528"
     },
     "user_tz": -330
    },
    "id": "qY56vyy2ZKi_"
   },
   "outputs": [],
   "source": [
    "# Function for combining features of various types (lists, coo_matrix, np.array etc.)\n",
    "def combine_features(tfidf_vectors_headline, cosine_similarity , tfidf_vectors_body):\n",
    "    combined_features = bmat([[tfidf_vectors_headline, cosine_similarity , tfidf_vectors_body]])\n",
    "    return combined_features"
   ]
  },
  {
   "cell_type": "code",
   "execution_count": 74,
   "metadata": {
    "colab": {
     "base_uri": "https://localhost:8080/"
    },
    "executionInfo": {
     "elapsed": 200136,
     "status": "ok",
     "timestamp": 1606058108747,
     "user": {
      "displayName": "Tanmay Jain",
      "photoUrl": "https://lh3.googleusercontent.com/a-/AOh14GjC2ndIGIMHilfWwgUcxfoOD32LD9plIIRrs_PLYw=s64",
      "userId": "17300627337889729528"
     },
     "user_tz": -330
    },
    "id": "2IRQhDBPZKi_",
    "outputId": "e82df16e-a31b-4c8c-d657-760a1eaf95f3"
   },
   "outputs": [
    {
     "name": "stdout",
     "output_type": "stream",
     "text": [
      ">>>>>>>> FOR TRAINING DATA <<<<<<<<<< \n",
      "\n",
      "Before Merging shapes\n",
      "(49972, 1024) (49972, 1) (49972, 1024) \n",
      "\n",
      "...... Merging Started ....... \n",
      "\n",
      "After Merging Shapes\n",
      "(49972, 2049)\n"
     ]
    }
   ],
   "source": [
    "print(\">>>>>>>> FOR TRAINING DATA <<<<<<<<<< \\n\")\n",
    "print(\"Before Merging shapes\")\n",
    "print(train_headlines_tfidf.shape,train_cosine_similarity.shape,train_bodies_tfidf.shape,\"\\n\")\n",
    "print(\"...... Merging Started ....... \\n\")\n",
    "print(\"After Merging Shapes\")\n",
    "X_train_data=combine_features(train_headlines_tfidf,train_cosine_similarity,train_bodies_tfidf)\n",
    "X_train_data=X_train_data.todense()\n",
    "print(X_train_data.shape)"
   ]
  },
  {
   "cell_type": "code",
   "execution_count": 75,
   "metadata": {
    "colab": {
     "base_uri": "https://localhost:8080/"
    },
    "executionInfo": {
     "elapsed": 201213,
     "status": "ok",
     "timestamp": 1606058110271,
     "user": {
      "displayName": "Tanmay Jain",
      "photoUrl": "https://lh3.googleusercontent.com/a-/AOh14GjC2ndIGIMHilfWwgUcxfoOD32LD9plIIRrs_PLYw=s64",
      "userId": "17300627337889729528"
     },
     "user_tz": -330
    },
    "id": "3EBVdvU3ZKi_",
    "outputId": "479589ad-4b41-44df-dc8b-3207eeaffe3d"
   },
   "outputs": [
    {
     "name": "stdout",
     "output_type": "stream",
     "text": [
      ">>>>>>>> FOR TESTING DATA <<<<<<<<<< \n",
      "\n",
      "Before Merging shapes\n",
      "(25413, 1024) (25413, 1) (25413, 1024) \n",
      "\n",
      "...... Merging Started ....... \n",
      "\n",
      "After Merging Shapes\n",
      "(25413, 2049)\n"
     ]
    }
   ],
   "source": [
    "print(\">>>>>>>> FOR TESTING DATA <<<<<<<<<< \\n\")\n",
    "print(\"Before Merging shapes\")\n",
    "print(test_headlines_tfidf.shape,test_cosine_similarity.shape,test_bodies_tfidf.shape,\"\\n\")\n",
    "print(\"...... Merging Started ....... \\n\")\n",
    "print(\"After Merging Shapes\")\n",
    "X_test_data=combine_features(test_headlines_tfidf,test_cosine_similarity,test_bodies_tfidf)\n",
    "X_test_data=X_test_data.todense()\n",
    "print(X_test_data.shape)"
   ]
  },
  {
   "cell_type": "code",
   "execution_count": 76,
   "metadata": {
    "executionInfo": {
     "elapsed": 199869,
     "status": "ok",
     "timestamp": 1606058110272,
     "user": {
      "displayName": "Tanmay Jain",
      "photoUrl": "https://lh3.googleusercontent.com/a-/AOh14GjC2ndIGIMHilfWwgUcxfoOD32LD9plIIRrs_PLYw=s64",
      "userId": "17300627337889729528"
     },
     "user_tz": -330
    },
    "id": "04g-FsHPZKjA"
   },
   "outputs": [],
   "source": [
    "label_ref = {'agree': 0, 'disagree': 1, 'discuss': 2, 'unrelated': 3}\n",
    "label_ref_rev = {0: 'agree', 1: 'disagree', 2: 'discuss', 3: 'unrelated'}\n",
    "\n",
    "Y_train_stances=[]\n",
    "for stance in train_stances:\n",
    "    Y_train_stances.append(label_ref[stance])\n",
    "\n",
    "Y_test_stances=[]\n",
    "for stance in test_stances:\n",
    "    Y_test_stances.append(label_ref[stance])"
   ]
  },
  {
   "cell_type": "code",
   "execution_count": 77,
   "metadata": {
    "executionInfo": {
     "elapsed": 198831,
     "status": "ok",
     "timestamp": 1606058110273,
     "user": {
      "displayName": "Tanmay Jain",
      "photoUrl": "https://lh3.googleusercontent.com/a-/AOh14GjC2ndIGIMHilfWwgUcxfoOD32LD9plIIRrs_PLYw=s64",
      "userId": "17300627337889729528"
     },
     "user_tz": -330
    },
    "id": "kvKrlHicZKjA"
   },
   "outputs": [],
   "source": [
    "Y_train_data=np.array(Y_train_stances)\n",
    "Y_train_data=Y_train_data.reshape(-1,1)\n",
    "Y_train_data=to_categorical(Y_train_data)\n",
    "\n",
    "Y_test_data=np.array(Y_test_stances)\n",
    "Y_test_data=Y_test_data.reshape(-1,1)\n",
    "Y_test_data=to_categorical(Y_test_data)"
   ]
  },
  {
   "cell_type": "code",
   "execution_count": 98,
   "metadata": {
    "colab": {
     "base_uri": "https://localhost:8080/"
    },
    "executionInfo": {
     "elapsed": 197725,
     "status": "ok",
     "timestamp": 1606058110273,
     "user": {
      "displayName": "Tanmay Jain",
      "photoUrl": "https://lh3.googleusercontent.com/a-/AOh14GjC2ndIGIMHilfWwgUcxfoOD32LD9plIIRrs_PLYw=s64",
      "userId": "17300627337889729528"
     },
     "user_tz": -330
    },
    "id": "ZUgQBdQzZKjA",
    "outputId": "4ac1f551-b307-4e4e-f93e-c9ec564f37d6"
   },
   "outputs": [
    {
     "name": "stdout",
     "output_type": "stream",
     "text": [
      "(49972, 4)\n",
      "(25413, 4)\n"
     ]
    }
   ],
   "source": [
    "print(Y_train_data.shape)\n",
    "print(Y_test_data.shape)"
   ]
  },
  {
   "cell_type": "markdown",
   "metadata": {
    "id": "iz9p1cTIZKjA"
   },
   "source": [
    "### Make A neural model "
   ]
  },
  {
   "cell_type": "code",
   "execution_count": 105,
   "metadata": {
    "colab": {
     "base_uri": "https://localhost:8080/"
    },
    "executionInfo": {
     "elapsed": 1193,
     "status": "ok",
     "timestamp": 1606058726913,
     "user": {
      "displayName": "Tanmay Jain",
      "photoUrl": "https://lh3.googleusercontent.com/a-/AOh14GjC2ndIGIMHilfWwgUcxfoOD32LD9plIIRrs_PLYw=s64",
      "userId": "17300627337889729528"
     },
     "user_tz": -330
    },
    "id": "bs73kpFOZKjA",
    "outputId": "55949baf-489f-48cd-b151-04e69488d7da"
   },
   "outputs": [
    {
     "name": "stdout",
     "output_type": "stream",
     "text": [
      "Model: \"sequential_3\"\n",
      "_________________________________________________________________\n",
      "Layer (type)                 Output Shape              Param #   \n",
      "=================================================================\n",
      "dense_15 (Dense)             (None, 256)               524800    \n",
      "_________________________________________________________________\n",
      "dense_16 (Dense)             (None, 64)                16448     \n",
      "_________________________________________________________________\n",
      "dense_17 (Dense)             (None, 4)                 260       \n",
      "_________________________________________________________________\n",
      "dense_18 (Dense)             (None, 4)                 20        \n",
      "_________________________________________________________________\n",
      "dropout_3 (Dropout)          (None, 4)                 0         \n",
      "_________________________________________________________________\n",
      "dense_19 (Dense)             (None, 4)                 20        \n",
      "=================================================================\n",
      "Total params: 541,548\n",
      "Trainable params: 541,548\n",
      "Non-trainable params: 0\n",
      "_________________________________________________________________\n"
     ]
    }
   ],
   "source": [
    "model=Sequential()\n",
    "model.add(Dense(256,activation='relu',input_shape=(X_train_data.shape[1],)))\n",
    "model.add(Dense(64,activation='relu'))\n",
    "model.add(Dense(4,activation='relu'))\n",
    "model.add(Dense(4,activation='relu'))\n",
    "model.add(Dropout(0.25))\n",
    "model.add(Dense(4,activation='softmax'))\n",
    "model.summary()"
   ]
  },
  {
   "cell_type": "code",
   "execution_count": 106,
   "metadata": {
    "executionInfo": {
     "elapsed": 1218,
     "status": "ok",
     "timestamp": 1606058162110,
     "user": {
      "displayName": "Tanmay Jain",
      "photoUrl": "https://lh3.googleusercontent.com/a-/AOh14GjC2ndIGIMHilfWwgUcxfoOD32LD9plIIRrs_PLYw=s64",
      "userId": "17300627337889729528"
     },
     "user_tz": -330
    },
    "id": "ArNCRHEBZKjA"
   },
   "outputs": [],
   "source": [
    "checkpoint=ModelCheckpoint(\"new_model.h5\",monitor='val_loss',verbose=0,save_best_only=True,mode='min')\n",
    "model.compile(loss=\"categorical_crossentropy\",metrics=['accuracy'],optimizer=Adam(lr=0.0001))"
   ]
  },
  {
   "cell_type": "code",
   "execution_count": 107,
   "metadata": {
    "colab": {
     "base_uri": "https://localhost:8080/"
    },
    "executionInfo": {
     "elapsed": 446043,
     "status": "ok",
     "timestamp": 1606058611298,
     "user": {
      "displayName": "Tanmay Jain",
      "photoUrl": "https://lh3.googleusercontent.com/a-/AOh14GjC2ndIGIMHilfWwgUcxfoOD32LD9plIIRrs_PLYw=s64",
      "userId": "17300627337889729528"
     },
     "user_tz": -330
    },
    "id": "FJjSSjfvZKjA",
    "outputId": "4227c35e-e9f9-47c9-fddd-864d15e3e4b8"
   },
   "outputs": [
    {
     "name": "stdout",
     "output_type": "stream",
     "text": [
      "Epoch 1/100\n",
      "625/625 [==============================] - 4s 7ms/step - loss: 0.9479 - accuracy: 0.6550 - val_loss: 0.7214 - val_accuracy: 0.7330\n",
      "Epoch 2/100\n",
      "625/625 [==============================] - 4s 7ms/step - loss: 0.7162 - accuracy: 0.7037 - val_loss: 0.5142 - val_accuracy: 0.7330\n",
      "Epoch 3/100\n",
      "625/625 [==============================] - 4s 7ms/step - loss: 0.5212 - accuracy: 0.7265 - val_loss: 0.3973 - val_accuracy: 0.7333\n",
      "Epoch 4/100\n",
      "625/625 [==============================] - 4s 7ms/step - loss: 0.4201 - accuracy: 0.7857 - val_loss: 0.3298 - val_accuracy: 0.8604\n",
      "Epoch 5/100\n",
      "625/625 [==============================] - 4s 7ms/step - loss: 0.3595 - accuracy: 0.8651 - val_loss: 0.2830 - val_accuracy: 0.8966\n",
      "Epoch 6/100\n",
      "625/625 [==============================] - 4s 6ms/step - loss: 0.3215 - accuracy: 0.8830 - val_loss: 0.2516 - val_accuracy: 0.9032\n",
      "Epoch 7/100\n",
      "625/625 [==============================] - 4s 7ms/step - loss: 0.2936 - accuracy: 0.8879 - val_loss: 0.2310 - val_accuracy: 0.9315\n",
      "Epoch 8/100\n",
      "625/625 [==============================] - 4s 7ms/step - loss: 0.2705 - accuracy: 0.8932 - val_loss: 0.2143 - val_accuracy: 0.9320\n",
      "Epoch 9/100\n",
      "625/625 [==============================] - 4s 6ms/step - loss: 0.2520 - accuracy: 0.8978 - val_loss: 0.2040 - val_accuracy: 0.9356\n",
      "Epoch 10/100\n",
      "625/625 [==============================] - 4s 7ms/step - loss: 0.2408 - accuracy: 0.9000 - val_loss: 0.1932 - val_accuracy: 0.9423\n",
      "Epoch 11/100\n",
      "625/625 [==============================] - 4s 7ms/step - loss: 0.2288 - accuracy: 0.9033 - val_loss: 0.1851 - val_accuracy: 0.9511\n",
      "Epoch 12/100\n",
      "625/625 [==============================] - 4s 7ms/step - loss: 0.2203 - accuracy: 0.9069 - val_loss: 0.1793 - val_accuracy: 0.9475\n",
      "Epoch 13/100\n",
      "625/625 [==============================] - 4s 6ms/step - loss: 0.2107 - accuracy: 0.9103 - val_loss: 0.1756 - val_accuracy: 0.9509\n",
      "Epoch 14/100\n",
      "625/625 [==============================] - 4s 7ms/step - loss: 0.2068 - accuracy: 0.9124 - val_loss: 0.1634 - val_accuracy: 0.9528\n",
      "Epoch 15/100\n",
      "625/625 [==============================] - 5s 7ms/step - loss: 0.2021 - accuracy: 0.9133 - val_loss: 0.1585 - val_accuracy: 0.9563\n",
      "Epoch 16/100\n",
      "625/625 [==============================] - 4s 7ms/step - loss: 0.1978 - accuracy: 0.9155 - val_loss: 0.1594 - val_accuracy: 0.9559\n",
      "Epoch 17/100\n",
      "625/625 [==============================] - 3s 5ms/step - loss: 0.1959 - accuracy: 0.9152 - val_loss: 0.1546 - val_accuracy: 0.9590\n",
      "Epoch 18/100\n",
      "625/625 [==============================] - 3s 5ms/step - loss: 0.1921 - accuracy: 0.9181 - val_loss: 0.1450 - val_accuracy: 0.9600\n",
      "Epoch 19/100\n",
      "625/625 [==============================] - 4s 6ms/step - loss: 0.1920 - accuracy: 0.9168 - val_loss: 0.1497 - val_accuracy: 0.9629\n",
      "Epoch 20/100\n",
      "625/625 [==============================] - 4s 6ms/step - loss: 0.1860 - accuracy: 0.9213 - val_loss: 0.1526 - val_accuracy: 0.9634\n",
      "Epoch 21/100\n",
      "625/625 [==============================] - 4s 7ms/step - loss: 0.1841 - accuracy: 0.9210 - val_loss: 0.1506 - val_accuracy: 0.9639\n",
      "Epoch 22/100\n",
      "625/625 [==============================] - 4s 6ms/step - loss: 0.1845 - accuracy: 0.9206 - val_loss: 0.1455 - val_accuracy: 0.9662\n",
      "Epoch 23/100\n",
      "625/625 [==============================] - 5s 7ms/step - loss: 0.1811 - accuracy: 0.9224 - val_loss: 0.1484 - val_accuracy: 0.9646\n",
      "Epoch 24/100\n",
      "625/625 [==============================] - 4s 7ms/step - loss: 0.1817 - accuracy: 0.9212 - val_loss: 0.1431 - val_accuracy: 0.9669\n",
      "Epoch 25/100\n",
      "625/625 [==============================] - 4s 7ms/step - loss: 0.1819 - accuracy: 0.9211 - val_loss: 0.1377 - val_accuracy: 0.9665\n",
      "Epoch 26/100\n",
      "625/625 [==============================] - 5s 7ms/step - loss: 0.1812 - accuracy: 0.9226 - val_loss: 0.1399 - val_accuracy: 0.9676\n",
      "Epoch 27/100\n",
      "625/625 [==============================] - 5s 7ms/step - loss: 0.1768 - accuracy: 0.9245 - val_loss: 0.1410 - val_accuracy: 0.9665\n",
      "Epoch 28/100\n",
      "625/625 [==============================] - 4s 6ms/step - loss: 0.1761 - accuracy: 0.9249 - val_loss: 0.1350 - val_accuracy: 0.9681\n",
      "Epoch 29/100\n",
      "625/625 [==============================] - 3s 5ms/step - loss: 0.1758 - accuracy: 0.9258 - val_loss: 0.1415 - val_accuracy: 0.9683\n",
      "Epoch 30/100\n",
      "625/625 [==============================] - 4s 7ms/step - loss: 0.1785 - accuracy: 0.9234 - val_loss: 0.1432 - val_accuracy: 0.9670\n",
      "Epoch 31/100\n",
      "625/625 [==============================] - 4s 6ms/step - loss: 0.1754 - accuracy: 0.9255 - val_loss: 0.1424 - val_accuracy: 0.9682\n",
      "Epoch 32/100\n",
      "625/625 [==============================] - 4s 6ms/step - loss: 0.1738 - accuracy: 0.9262 - val_loss: 0.1412 - val_accuracy: 0.9683\n",
      "Epoch 33/100\n",
      "625/625 [==============================] - 4s 7ms/step - loss: 0.1726 - accuracy: 0.9277 - val_loss: 0.1444 - val_accuracy: 0.9669\n",
      "Epoch 34/100\n",
      "625/625 [==============================] - 4s 7ms/step - loss: 0.1738 - accuracy: 0.9305 - val_loss: 0.1307 - val_accuracy: 0.9707\n",
      "Epoch 35/100\n",
      "625/625 [==============================] - 5s 7ms/step - loss: 0.1722 - accuracy: 0.9334 - val_loss: 0.1337 - val_accuracy: 0.9686\n",
      "Epoch 36/100\n",
      "625/625 [==============================] - 4s 7ms/step - loss: 0.1693 - accuracy: 0.9367 - val_loss: 0.1313 - val_accuracy: 0.9685\n",
      "Epoch 37/100\n",
      "625/625 [==============================] - 4s 6ms/step - loss: 0.1669 - accuracy: 0.9398 - val_loss: 0.1308 - val_accuracy: 0.9710\n",
      "Epoch 38/100\n",
      "625/625 [==============================] - 4s 6ms/step - loss: 0.1649 - accuracy: 0.9429 - val_loss: 0.1327 - val_accuracy: 0.9696\n",
      "Epoch 39/100\n",
      "625/625 [==============================] - 4s 6ms/step - loss: 0.1591 - accuracy: 0.9489 - val_loss: 0.1268 - val_accuracy: 0.9707\n",
      "Epoch 40/100\n",
      "625/625 [==============================] - 4s 6ms/step - loss: 0.1583 - accuracy: 0.9507 - val_loss: 0.1273 - val_accuracy: 0.9697\n",
      "Epoch 41/100\n",
      "625/625 [==============================] - 4s 6ms/step - loss: 0.1551 - accuracy: 0.9522 - val_loss: 0.1236 - val_accuracy: 0.9706\n",
      "Epoch 42/100\n",
      "625/625 [==============================] - 4s 6ms/step - loss: 0.1524 - accuracy: 0.9542 - val_loss: 0.1237 - val_accuracy: 0.9707\n",
      "Epoch 43/100\n",
      "625/625 [==============================] - 3s 5ms/step - loss: 0.1523 - accuracy: 0.9542 - val_loss: 0.1272 - val_accuracy: 0.9708\n",
      "Epoch 44/100\n",
      "625/625 [==============================] - 3s 5ms/step - loss: 0.1525 - accuracy: 0.9540 - val_loss: 0.1291 - val_accuracy: 0.9710\n",
      "Epoch 45/100\n",
      "625/625 [==============================] - 3s 5ms/step - loss: 0.1477 - accuracy: 0.9560 - val_loss: 0.1253 - val_accuracy: 0.9717\n",
      "Epoch 46/100\n",
      "625/625 [==============================] - 3s 5ms/step - loss: 0.1440 - accuracy: 0.9576 - val_loss: 0.1322 - val_accuracy: 0.9713\n",
      "Epoch 47/100\n",
      "625/625 [==============================] - 3s 5ms/step - loss: 0.1457 - accuracy: 0.9562 - val_loss: 0.1265 - val_accuracy: 0.9710\n",
      "Epoch 48/100\n",
      "625/625 [==============================] - 3s 5ms/step - loss: 0.1455 - accuracy: 0.9570 - val_loss: 0.1303 - val_accuracy: 0.9719\n",
      "Epoch 49/100\n",
      "625/625 [==============================] - 3s 5ms/step - loss: 0.1470 - accuracy: 0.9560 - val_loss: 0.1356 - val_accuracy: 0.9717\n",
      "Epoch 50/100\n",
      "625/625 [==============================] - 3s 5ms/step - loss: 0.1444 - accuracy: 0.9566 - val_loss: 0.1246 - val_accuracy: 0.9726\n",
      "Epoch 51/100\n",
      "625/625 [==============================] - 3s 5ms/step - loss: 0.1457 - accuracy: 0.9562 - val_loss: 0.1345 - val_accuracy: 0.9717\n",
      "Epoch 52/100\n",
      "625/625 [==============================] - 3s 5ms/step - loss: 0.1446 - accuracy: 0.9563 - val_loss: 0.1570 - val_accuracy: 0.9704\n",
      "Epoch 53/100\n",
      "625/625 [==============================] - 3s 5ms/step - loss: 0.1430 - accuracy: 0.9568 - val_loss: 0.1366 - val_accuracy: 0.9706\n",
      "Epoch 54/100\n",
      "625/625 [==============================] - 4s 6ms/step - loss: 0.1413 - accuracy: 0.9577 - val_loss: 0.1390 - val_accuracy: 0.9717\n",
      "Epoch 55/100\n",
      "625/625 [==============================] - 4s 6ms/step - loss: 0.1424 - accuracy: 0.9571 - val_loss: 0.1413 - val_accuracy: 0.9722\n",
      "Epoch 56/100\n",
      "625/625 [==============================] - 4s 6ms/step - loss: 0.1420 - accuracy: 0.9571 - val_loss: 0.1406 - val_accuracy: 0.9704\n",
      "Epoch 57/100\n",
      "625/625 [==============================] - 4s 7ms/step - loss: 0.1398 - accuracy: 0.9579 - val_loss: 0.1286 - val_accuracy: 0.9725\n"
     ]
    },
    {
     "name": "stdout",
     "output_type": "stream",
     "text": [
      "Epoch 58/100\n",
      "625/625 [==============================] - 4s 7ms/step - loss: 0.1440 - accuracy: 0.9561 - val_loss: 0.1358 - val_accuracy: 0.9718\n",
      "Epoch 59/100\n",
      "625/625 [==============================] - 4s 7ms/step - loss: 0.1417 - accuracy: 0.9573 - val_loss: 0.1435 - val_accuracy: 0.9711\n",
      "Epoch 60/100\n",
      "625/625 [==============================] - 4s 7ms/step - loss: 0.1399 - accuracy: 0.9580 - val_loss: 0.1378 - val_accuracy: 0.9718\n",
      "Epoch 61/100\n",
      "625/625 [==============================] - 4s 7ms/step - loss: 0.1408 - accuracy: 0.9575 - val_loss: 0.1413 - val_accuracy: 0.9710\n",
      "Epoch 62/100\n",
      "625/625 [==============================] - 4s 7ms/step - loss: 0.1401 - accuracy: 0.9575 - val_loss: 0.1565 - val_accuracy: 0.9701\n",
      "Epoch 63/100\n",
      "625/625 [==============================] - 4s 7ms/step - loss: 0.1411 - accuracy: 0.9574 - val_loss: 0.1588 - val_accuracy: 0.9714\n",
      "Epoch 64/100\n",
      "625/625 [==============================] - 4s 7ms/step - loss: 0.1372 - accuracy: 0.9590 - val_loss: 0.1472 - val_accuracy: 0.9718\n",
      "Epoch 65/100\n",
      "625/625 [==============================] - 4s 7ms/step - loss: 0.1436 - accuracy: 0.9562 - val_loss: 0.1508 - val_accuracy: 0.9705\n",
      "Epoch 66/100\n",
      "625/625 [==============================] - 4s 7ms/step - loss: 0.1373 - accuracy: 0.9586 - val_loss: 0.1404 - val_accuracy: 0.9707\n",
      "Epoch 67/100\n",
      "625/625 [==============================] - 4s 7ms/step - loss: 0.1387 - accuracy: 0.9580 - val_loss: 0.1543 - val_accuracy: 0.9712\n",
      "Epoch 68/100\n",
      "625/625 [==============================] - 4s 7ms/step - loss: 0.1356 - accuracy: 0.9588 - val_loss: 0.1597 - val_accuracy: 0.9710\n",
      "Epoch 69/100\n",
      "625/625 [==============================] - 4s 7ms/step - loss: 0.1363 - accuracy: 0.9589 - val_loss: 0.1665 - val_accuracy: 0.9712\n",
      "Epoch 70/100\n",
      "625/625 [==============================] - 4s 6ms/step - loss: 0.1403 - accuracy: 0.9577 - val_loss: 0.1580 - val_accuracy: 0.9696\n",
      "Epoch 71/100\n",
      "625/625 [==============================] - 4s 7ms/step - loss: 0.1378 - accuracy: 0.9582 - val_loss: 0.1657 - val_accuracy: 0.9700\n",
      "Epoch 72/100\n",
      "625/625 [==============================] - 4s 7ms/step - loss: 0.1380 - accuracy: 0.9580 - val_loss: 0.1715 - val_accuracy: 0.9703\n",
      "Epoch 73/100\n",
      "625/625 [==============================] - 4s 6ms/step - loss: 0.1362 - accuracy: 0.9590 - val_loss: 0.1712 - val_accuracy: 0.9710\n",
      "Epoch 74/100\n",
      "625/625 [==============================] - 4s 7ms/step - loss: 0.1358 - accuracy: 0.9591 - val_loss: 0.1591 - val_accuracy: 0.9708\n",
      "Epoch 75/100\n",
      "625/625 [==============================] - 4s 6ms/step - loss: 0.1388 - accuracy: 0.9573 - val_loss: 0.1668 - val_accuracy: 0.9699\n",
      "Epoch 76/100\n",
      "625/625 [==============================] - 4s 6ms/step - loss: 0.1393 - accuracy: 0.9575 - val_loss: 0.1451 - val_accuracy: 0.9711\n",
      "Epoch 77/100\n",
      "625/625 [==============================] - 4s 6ms/step - loss: 0.1372 - accuracy: 0.9585 - val_loss: 0.2028 - val_accuracy: 0.9692\n",
      "Epoch 78/100\n",
      "625/625 [==============================] - 4s 6ms/step - loss: 0.1376 - accuracy: 0.9581 - val_loss: 0.1772 - val_accuracy: 0.9699\n",
      "Epoch 79/100\n",
      "625/625 [==============================] - 4s 6ms/step - loss: 0.1409 - accuracy: 0.9570 - val_loss: 0.1574 - val_accuracy: 0.9701\n",
      "Epoch 80/100\n",
      "625/625 [==============================] - 4s 6ms/step - loss: 0.1351 - accuracy: 0.9592 - val_loss: 0.2165 - val_accuracy: 0.9694\n",
      "Epoch 81/100\n",
      "625/625 [==============================] - 4s 7ms/step - loss: 0.1337 - accuracy: 0.9592 - val_loss: 0.1464 - val_accuracy: 0.9709\n",
      "Epoch 82/100\n",
      "625/625 [==============================] - 4s 6ms/step - loss: 0.1363 - accuracy: 0.9581 - val_loss: 0.1624 - val_accuracy: 0.9714\n",
      "Epoch 83/100\n",
      "625/625 [==============================] - 4s 7ms/step - loss: 0.1375 - accuracy: 0.9580 - val_loss: 0.1585 - val_accuracy: 0.9712\n",
      "Epoch 84/100\n",
      "625/625 [==============================] - 4s 6ms/step - loss: 0.1334 - accuracy: 0.9594 - val_loss: 0.1612 - val_accuracy: 0.9716\n",
      "Epoch 85/100\n",
      "625/625 [==============================] - 4s 6ms/step - loss: 0.1374 - accuracy: 0.9577 - val_loss: 0.1712 - val_accuracy: 0.9707\n",
      "Epoch 86/100\n",
      "625/625 [==============================] - 4s 6ms/step - loss: 0.1403 - accuracy: 0.9570 - val_loss: 0.1447 - val_accuracy: 0.9705\n",
      "Epoch 87/100\n",
      "625/625 [==============================] - 4s 7ms/step - loss: 0.1379 - accuracy: 0.9576 - val_loss: 0.1700 - val_accuracy: 0.9698\n",
      "Epoch 88/100\n",
      "625/625 [==============================] - 4s 7ms/step - loss: 0.1360 - accuracy: 0.9585 - val_loss: 0.1811 - val_accuracy: 0.9698\n",
      "Epoch 89/100\n",
      "625/625 [==============================] - 4s 7ms/step - loss: 0.1338 - accuracy: 0.9596 - val_loss: 0.1524 - val_accuracy: 0.9706\n",
      "Epoch 90/100\n",
      "625/625 [==============================] - 4s 7ms/step - loss: 0.1365 - accuracy: 0.9582 - val_loss: 0.1836 - val_accuracy: 0.9697\n",
      "Epoch 91/100\n",
      "625/625 [==============================] - 4s 6ms/step - loss: 0.1363 - accuracy: 0.9583 - val_loss: 0.1649 - val_accuracy: 0.9700\n",
      "Epoch 92/100\n",
      "625/625 [==============================] - 4s 7ms/step - loss: 0.1337 - accuracy: 0.9593 - val_loss: 0.1797 - val_accuracy: 0.9709\n",
      "Epoch 93/100\n",
      "625/625 [==============================] - 4s 7ms/step - loss: 0.1368 - accuracy: 0.9582 - val_loss: 0.1981 - val_accuracy: 0.9692\n",
      "Epoch 94/100\n",
      "625/625 [==============================] - 4s 6ms/step - loss: 0.1351 - accuracy: 0.9584 - val_loss: 0.1720 - val_accuracy: 0.9709\n",
      "Epoch 95/100\n",
      "625/625 [==============================] - 4s 6ms/step - loss: 0.1363 - accuracy: 0.9581 - val_loss: 0.2054 - val_accuracy: 0.9695\n",
      "Epoch 96/100\n",
      "625/625 [==============================] - 4s 6ms/step - loss: 0.1361 - accuracy: 0.9581 - val_loss: 0.2109 - val_accuracy: 0.9693\n",
      "Epoch 97/100\n",
      "625/625 [==============================] - 4s 6ms/step - loss: 0.1372 - accuracy: 0.9582 - val_loss: 0.1845 - val_accuracy: 0.9707\n",
      "Epoch 98/100\n",
      "625/625 [==============================] - 4s 6ms/step - loss: 0.1364 - accuracy: 0.9581 - val_loss: 0.1711 - val_accuracy: 0.9706\n",
      "Epoch 99/100\n",
      "625/625 [==============================] - 4s 6ms/step - loss: 0.1387 - accuracy: 0.9573 - val_loss: 0.1505 - val_accuracy: 0.9705\n",
      "Epoch 100/100\n",
      "625/625 [==============================] - 4s 6ms/step - loss: 0.1350 - accuracy: 0.9587 - val_loss: 0.1695 - val_accuracy: 0.9696\n"
     ]
    }
   ],
   "source": [
    "hist=model.fit(X_train_data,Y_train_data,epochs=100,shuffle=True,batch_size=64,validation_split=0.2,callbacks=[checkpoint])"
   ]
  },
  {
   "cell_type": "code",
   "execution_count": 109,
   "metadata": {
    "colab": {
     "base_uri": "https://localhost:8080/",
     "height": 347
    },
    "executionInfo": {
     "elapsed": 1508,
     "status": "ok",
     "timestamp": 1606058617845,
     "user": {
      "displayName": "Tanmay Jain",
      "photoUrl": "https://lh3.googleusercontent.com/a-/AOh14GjC2ndIGIMHilfWwgUcxfoOD32LD9plIIRrs_PLYw=s64",
      "userId": "17300627337889729528"
     },
     "user_tz": -330
    },
    "id": "-Oan5PiWZKjC",
    "outputId": "ee1b9b03-fdb3-4f76-c72e-ebd44de0d165"
   },
   "outputs": [
    {
     "data": {
      "image/png": "[encoded data removed]",
      "text/plain": [
       "<Figure size 576x396 with 1 Axes>"
      ]
     },
     "metadata": {},
     "output_type": "display_data"
    }
   ],
   "source": [
    "plt.style.use('seaborn')\n",
    "plt.figure(0)\n",
    "plt.plot(hist.history['loss'],'g')\n",
    "plt.plot(hist.history['val_loss'],'b')\n",
    "plt.plot(hist.history['accuracy'],'r')\n",
    "plt.plot(hist.history['val_accuracy'],'black')\n",
    "plt.xlabel('epochs')\n",
    "plt.ylabel('value')\n",
    "plt.show()"
   ]
  },
  {
   "cell_type": "markdown",
   "metadata": {
    "id": "tRYtxg8QiQ4y"
   },
   "source": [
    "Load Model"
   ]
  },
  {
   "cell_type": "code",
   "execution_count": 110,
   "metadata": {
    "executionInfo": {
     "elapsed": 1373,
     "status": "ok",
     "timestamp": 1606058639181,
     "user": {
      "displayName": "Tanmay Jain",
      "photoUrl": "https://lh3.googleusercontent.com/a-/AOh14GjC2ndIGIMHilfWwgUcxfoOD32LD9plIIRrs_PLYw=s64",
      "userId": "17300627337889729528"
     },
     "user_tz": -330
    },
    "id": "0ZieNSpIZKjC"
   },
   "outputs": [],
   "source": [
    "model=load_model('new_model.h5')"
   ]
  },
  {
   "cell_type": "code",
   "execution_count": 111,
   "metadata": {
    "colab": {
     "base_uri": "https://localhost:8080/"
    },
    "executionInfo": {
     "elapsed": 8739,
     "status": "ok",
     "timestamp": 1606058650547,
     "user": {
      "displayName": "Tanmay Jain",
      "photoUrl": "https://lh3.googleusercontent.com/a-/AOh14GjC2ndIGIMHilfWwgUcxfoOD32LD9plIIRrs_PLYw=s64",
      "userId": "17300627337889729528"
     },
     "user_tz": -330
    },
    "id": "TDjqtkuVZKjC",
    "outputId": "b8539933-6633-4247-e591-dc8abd51c0e8"
   },
   "outputs": [
    {
     "name": "stdout",
     "output_type": "stream",
     "text": [
      "1562/1562 [==============================] - 4s 3ms/step - loss: 0.0951 - accuracy: 0.9782\n"
     ]
    },
    {
     "data": {
      "text/plain": [
       "[0.09509163349866867, 0.9781877994537354]"
      ]
     },
     "execution_count": 111,
     "metadata": {},
     "output_type": "execute_result"
    }
   ],
   "source": [
    "model.evaluate(X_train_data,Y_train_data)"
   ]
  },
  {
   "cell_type": "code",
   "execution_count": 112,
   "metadata": {
    "colab": {
     "base_uri": "https://localhost:8080/"
    },
    "executionInfo": {
     "elapsed": 5877,
     "status": "ok",
     "timestamp": 1606058657910,
     "user": {
      "displayName": "Tanmay Jain",
      "photoUrl": "https://lh3.googleusercontent.com/a-/AOh14GjC2ndIGIMHilfWwgUcxfoOD32LD9plIIRrs_PLYw=s64",
      "userId": "17300627337889729528"
     },
     "user_tz": -330
    },
    "id": "QCvbyPY0ZKjC",
    "outputId": "05beedb8-8de2-4332-9cbf-086fdfe8f2a4"
   },
   "outputs": [
    {
     "name": "stdout",
     "output_type": "stream",
     "text": [
      "795/795 [==============================] - 2s 3ms/step - loss: 3.8813 - accuracy: 0.7904\n"
     ]
    },
    {
     "data": {
      "text/plain": [
       "[3.8812503814697266, 0.7903828620910645]"
      ]
     },
     "execution_count": 112,
     "metadata": {},
     "output_type": "execute_result"
    }
   ],
   "source": [
    "model.evaluate(X_test_data,Y_test_data)"
   ]
  },
  {
   "cell_type": "code",
   "execution_count": 113,
   "metadata": {
    "id": "-9OccDkUZKjC"
   },
   "outputs": [],
   "source": [
    "from sklearn.metrics import confusion_matrix,classification_report,plot_confusion_matrix,accuracy_score"
   ]
  },
  {
   "cell_type": "code",
   "execution_count": 114,
   "metadata": {
    "id": "UwW2zH9kazde"
   },
   "outputs": [
    {
     "name": "stdout",
     "output_type": "stream",
     "text": [
      "Predicted  :    [3 3 3 ... 3 3 3]\n",
      "Actual  :   [3 3 3 ... 1 1 0]\n",
      "              precision    recall  f1-score   support\n",
      "\n",
      "           0       0.40      0.13      0.19      1903\n",
      "           1       0.00      0.00      0.00       697\n",
      "           2       0.64      0.39      0.49      4464\n",
      "           3       0.82      0.99      0.90     18349\n",
      "\n",
      "    accuracy                           0.79     25413\n",
      "   macro avg       0.46      0.38      0.39     25413\n",
      "weighted avg       0.73      0.79      0.75     25413\n",
      "\n"
     ]
    },
    {
     "name": "stderr",
     "output_type": "stream",
     "text": [
      "C:\\Users\\jaint\\anaconda3\\lib\\site-packages\\sklearn\\metrics\\_classification.py:1221: UndefinedMetricWarning: Precision and F-score are ill-defined and being set to 0.0 in labels with no predicted samples. Use `zero_division` parameter to control this behavior.\n",
      "  _warn_prf(average, modifier, msg_start, len(result))\n"
     ]
    }
   ],
   "source": [
    "Y_pred=model.predict(X_test_data)\n",
    "Y_pred=np.argmax(Y_pred,axis=1)  #get max from each row\n",
    "print(\"Predicted  :   \" , Y_pred)\n",
    "\n",
    "actual_Y_label=np.argmax(Y_test_data,axis=1)\n",
    "print(\"Actual  :  \" , actual_Y_label)\n",
    "\n",
    "cls_report=classification_report(actual_Y_label,Y_pred)\n",
    "print(cls_report)"
   ]
  },
  {
   "cell_type": "code",
   "execution_count": 115,
   "metadata": {
    "id": "K-y-RrqGa49c"
   },
   "outputs": [],
   "source": [
    "import itertools\n",
    "def plot_confusion_matrix(cm,target_names,title='Confusion matrix',cmap=None,normalize=True):\n",
    "    accuracy = np.trace(cm) / float(np.sum(cm))\n",
    "    misclass = 1 - accuracy\n",
    "\n",
    "    if cmap is None:\n",
    "        cmap = plt.get_cmap('Blues')\n",
    "\n",
    "    plt.figure(figsize=(8, 6))\n",
    "    plt.imshow(cm, interpolation='nearest', cmap=cmap)\n",
    "    plt.title(title)\n",
    "    plt.colorbar()\n",
    "\n",
    "    if target_names is not None:\n",
    "        tick_marks = np.arange(len(target_names))\n",
    "        plt.xticks(tick_marks, target_names, rotation=45)\n",
    "        plt.yticks(tick_marks, target_names)\n",
    "\n",
    "    if normalize:\n",
    "        cm = cm.astype('float') / cm.sum(axis=1)[:, np.newaxis]\n",
    "    \n",
    "    thresh = cm.max() / 1.5 if normalize else cm.max() / 2\n",
    "    for i, j in itertools.product(range(cm.shape[0]), range(cm.shape[1])):\n",
    "        if normalize:\n",
    "            plt.text(j, i, \"{:0.4f}\".format(cm[i, j]),\n",
    "                     horizontalalignment=\"center\",\n",
    "                     color=\"white\" if cm[i, j] > thresh else \"black\")\n",
    "        else:\n",
    "            plt.text(j, i, \"{:,}\".format(cm[i, j]),\n",
    "                     horizontalalignment=\"center\",\n",
    "                     color=\"white\" if cm[i, j] > thresh else \"black\")\n",
    "    plt.tight_layout()\n",
    "    plt.ylabel('True label')\n",
    "    plt.xlabel('Predicted label\\naccuracy={:0.4f}; misclass={:0.4f}'.format(accuracy, misclass))\n",
    "    plt.show()"
   ]
  },
  {
   "cell_type": "code",
   "execution_count": 116,
   "metadata": {
    "colab": {
     "base_uri": "https://localhost:8080/",
     "height": 485
    },
    "executionInfo": {
     "elapsed": 1101,
     "status": "ok",
     "timestamp": 1605958008975,
     "user": {
      "displayName": "Tanmay Jain",
      "photoUrl": "https://lh3.googleusercontent.com/a-/AOh14GjC2ndIGIMHilfWwgUcxfoOD32LD9plIIRrs_PLYw=s64",
      "userId": "17300627337889729528"
     },
     "user_tz": -330
    },
    "id": "sB2We1wAjPAU",
    "outputId": "98604c82-c2c4-4395-b887-41678ad3521a"
   },
   "outputs": [
    {
     "data": {
      "text/plain": [
       "<Figure size 576x396 with 0 Axes>"
      ]
     },
     "metadata": {},
     "output_type": "display_data"
    },
    {
     "data": {
      "image/png": "[encoded data removed]",
      "text/plain": [
       "<Figure size 576x432 with 2 Axes>"
      ]
     },
     "metadata": {},
     "output_type": "display_data"
    }
   ],
   "source": [
    "labels=['agree','disagree','discuss','unrelated']\n",
    "cnf_matrix=confusion_matrix(actual_Y_label,Y_pred)\n",
    "plt.figure()\n",
    "plot_confusion_matrix(cnf_matrix,target_names=labels,normalize=False)"
   ]
  },
  {
   "cell_type": "code",
   "execution_count": null,
   "metadata": {
    "id": "x_xfuHCEjnwY"
   },
   "outputs": [],
   "source": []
  }
 ],
 "metadata": {
  "accelerator": "GPU",
  "colab": {
   "collapsed_sections": [],
   "name": "Fake News Detection Code.ipynb",
   "provenance": []
  },
  "kernelspec": {
   "display_name": "Python 3",
   "language": "python",
   "name": "python3"
  },
  "language_info": {
   "codemirror_mode": {
    "name": "ipython",
    "version": 3
   },
   "file_extension": ".py",
   "mimetype": "text/x-python",
   "name": "python",
   "nbconvert_exporter": "python",
   "pygments_lexer": "ipython3",
   "version": "3.8.5"
  }
 },
 "nbformat": 4,
 "nbformat_minor": 1
}
