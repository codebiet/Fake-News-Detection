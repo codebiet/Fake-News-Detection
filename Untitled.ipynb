{
 "cells": [
  {
   "cell_type": "code",
   "execution_count": 1,
   "metadata": {},
   "outputs": [],
   "source": [
    "import tensorflow_hub as hub\n",
    "import tensorflow as tf\n",
    "from absl import logging"
   ]
  },
  {
   "cell_type": "code",
   "execution_count": 2,
   "metadata": {},
   "outputs": [],
   "source": [
    "# Import the Universal Sentence Encoder's TF Hub module\n",
    "embed = hub.load(\"https://tfhub.dev/google/universal-sentence-encoder/4\")\n",
    "\n",
    "# Reduce logging output.\n",
    "logging.set_verbosity(logging.ERROR)"
   ]
  },
  {
   "cell_type": "code",
   "execution_count": 3,
   "metadata": {},
   "outputs": [],
   "source": [
    "from sklearn.metrics.pairwise import cosine_similarity\n",
    "from scipy.sparse import coo_matrix, bmat , hstack \n",
    "def generate_embedding(headline,bodies):\n",
    "    headlines=[]\n",
    "    headlines.append(headline)\n",
    "    boddies=[]\n",
    "    boddies.append(bodies)\n",
    "    headline_embedding=embed(headlines)\n",
    "    bodies_embedding=embed(boddies)\n",
    "    body_vs_headline = []\n",
    "    body_vs_headline.append(headline)\n",
    "    body_vs_headline.append(bodies)\n",
    "    embedding = embed(body_vs_headline)\n",
    "    matrix=cosine_similarity(embedding)\n",
    "    cos_sim=matrix[0][1]\n",
    "    result=bmat([[coo_matrix(headline_embedding), coo_matrix(cos_sim) , coo_matrix(bodies_embedding)]])\n",
    "    return result.todense()"
   ]
  },
  {
   "cell_type": "code",
   "execution_count": 15,
   "metadata": {},
   "outputs": [],
   "source": [
    "import pandas as pd\n",
    "import numpy as np\n",
    "test_data=pd.read_csv(\"fnc-1-master/competition_test_stances.csv\")\n",
    "test_data.head(10)\n",
    "test_data_body=pd.read_csv(\"fnc-1-master/competition_test_bodies.csv\")\n",
    "test_data_body.head(10)\n",
    "test_head_to_bodyid=np.array(test_data['Body ID'])\n",
    "test_bodyid_to_idx={}\n",
    "for idx,id in enumerate(test_data_body['Body ID']):\n",
    "    if id not in test_bodyid_to_idx:\n",
    "        test_bodyid_to_idx[id]=idx"
   ]
  },
  {
   "cell_type": "code",
   "execution_count": 16,
   "metadata": {},
   "outputs": [],
   "source": [
    "# Get the headlines of data points\n",
    "def get_headlines(data):\n",
    "    headlines = []\n",
    "    for i in range(len(data)):\n",
    "        headlines.append(data['Headline'][i])\n",
    "    return headlines"
   ]
  },
  {
   "cell_type": "code",
   "execution_count": null,
   "metadata": {},
   "outputs": [],
   "source": [
    "generate_embedding(\"Ferguson riots: Pregnant woman loses eye after cops fire BEAN BAG round through car window\",)"
   ]
  }
 ],
 "metadata": {
  "kernelspec": {
   "display_name": "Python 3",
   "language": "python",
   "name": "python3"
  },
  "language_info": {
   "codemirror_mode": {
    "name": "ipython",
    "version": 3
   },
   "file_extension": ".py",
   "mimetype": "text/x-python",
   "name": "python",
   "nbconvert_exporter": "python",
   "pygments_lexer": "ipython3",
   "version": "3.8.5"
  }
 },
 "nbformat": 4,
 "nbformat_minor": 4
}
